{
 "cells": [
  {
   "cell_type": "code",
   "execution_count": 1,
   "metadata": {},
   "outputs": [],
   "source": [
    "import os\n",
    "from tqdm.notebook import tqdm\n",
    "from pathlib import Path\n",
    "import pandas as pd\n",
    "from nltk.lm import Vocabulary\n",
    "import sys\n",
    "sys.path.append(\"../../lib\")\n",
    "from metrics import levenshtein\n",
    "import pickle"
   ]
  },
  {
   "cell_type": "code",
   "execution_count": 5,
   "metadata": {},
   "outputs": [],
   "source": [
    "folder = \"../../data/ICDAR2019_POCR_competition_dataset/ICDAR2019_POCR_competition_training_18M_without_Finnish/DE/\""
   ]
  },
  {
   "cell_type": "code",
   "execution_count": 6,
   "metadata": {},
   "outputs": [],
   "source": [
    "output_folder = Path(\"../../data/de\")"
   ]
  },
  {
   "cell_type": "code",
   "execution_count": 7,
   "metadata": {},
   "outputs": [
    {
     "data": {
      "text/plain": [
       "7"
      ]
     },
     "execution_count": 7,
     "metadata": {},
     "output_type": "execute_result"
    }
   ],
   "source": [
    "files = sorted(os.listdir(folder))\n",
    "len(files)"
   ]
  },
  {
   "cell_type": "code",
   "execution_count": 8,
   "metadata": {},
   "outputs": [
    {
     "data": {
      "text/plain": [
       "8052"
      ]
     },
     "execution_count": 8,
     "metadata": {},
     "output_type": "execute_result"
    }
   ],
   "source": [
    "import glob\n",
    "\n",
    "files = glob.glob(folder + '/**/*.txt', recursive=True)\n",
    "len(files)"
   ]
  },
  {
   "cell_type": "code",
   "execution_count": 9,
   "metadata": {},
   "outputs": [
    {
     "data": {
      "application/vnd.jupyter.widget-view+json": {
       "model_id": "fd6414b68f084de894501defddc07ab4",
       "version_major": 2,
       "version_minor": 0
      },
      "text/plain": [
       "  0%|          | 0/8052 [00:00<?, ?it/s]"
      ]
     },
     "metadata": {},
     "output_type": "display_data"
    },
    {
     "data": {
      "text/plain": [
       "8052"
      ]
     },
     "execution_count": 9,
     "metadata": {},
     "output_type": "execute_result"
    }
   ],
   "source": [
    "from multiprocessing import Pool\n",
    "\n",
    "def extract(name):\n",
    "    with open(name) as file:\n",
    "        return file.readlines()\n",
    "    \n",
    "def create_windows(x):\n",
    "    A, B, window_length = x\n",
    "    assert len(A) == len(B)\n",
    "    return [(A[i:i + window_length], B[i:i + window_length]) \n",
    "            for i in range(len(A) + 1)]\n",
    "    \n",
    "p = Pool(4)\n",
    "    \n",
    "data = list(p.imap_unordered(extract, tqdm(files), chunksize = 128))\n",
    "len(data)"
   ]
  },
  {
   "cell_type": "code",
   "execution_count": 7,
   "metadata": {},
   "outputs": [
    {
     "name": "stdout",
     "output_type": "stream",
     "text": [
      "(8052, 3)\n"
     ]
    },
    {
     "data": {
      "text/html": [
       "<div>\n",
       "<style scoped>\n",
       "    .dataframe tbody tr th:only-of-type {\n",
       "        vertical-align: middle;\n",
       "    }\n",
       "\n",
       "    .dataframe tbody tr th {\n",
       "        vertical-align: top;\n",
       "    }\n",
       "\n",
       "    .dataframe thead th {\n",
       "        text-align: right;\n",
       "    }\n",
       "</style>\n",
       "<table border=\"1\" class=\"dataframe\">\n",
       "  <thead>\n",
       "    <tr style=\"text-align: right;\">\n",
       "      <th></th>\n",
       "      <th>ocr_to_input</th>\n",
       "      <th>ocr_aligned</th>\n",
       "      <th>gs_aligned</th>\n",
       "    </tr>\n",
       "  </thead>\n",
       "  <tbody>\n",
       "    <tr>\n",
       "      <th>0</th>\n",
       "      <td>fuefcat, Sie difcet latiné ? quid ni? aliis di...</td>\n",
       "      <td>fuefcat, Sie difcet latiné ? quid ni? aliis di...</td>\n",
       "      <td>ſueſcat. Sic diſcet latin@è? quid ni?@aliis di...</td>\n",
       "    </tr>\n",
       "    <tr>\n",
       "      <th>1</th>\n",
       "      <td>Decemvir] Decem primi, Cic. Decaproti, Wp. Dem...</td>\n",
       "      <td>Decemvir] Decem primi, Cic. Decaproti, @Wp. De...</td>\n",
       "      <td>Decemvir] Decem primi, Cic. Decaproti, Vlp. De...</td>\n",
       "    </tr>\n",
       "    <tr>\n",
       "      <th>2</th>\n",
       "      <td>licet altj amplius vel mmus accipfät ab eo +fc...</td>\n",
       "      <td>licet altj amplius vel mmu@s accipfät ab eo @+...</td>\n",
       "      <td>licet alij amplius vel mmuis accipiãt ab eo · ...</td>\n",
       "    </tr>\n",
       "    <tr>\n",
       "      <th>3</th>\n",
       "      <td>nea, Taxb. Concordii res parvz creicunt , difc...</td>\n",
       "      <td>nea, Taxb. Concordii res parvz creicunt , difc...</td>\n",
       "      <td>nea, Taub.@Concordiâ res parvæ creſcunt@, diſc...</td>\n",
       "    </tr>\n",
       "    <tr>\n",
       "      <th>4</th>\n",
       "      <td>mone cclcbratam,arbitror extitiffe caufam, Ath...</td>\n",
       "      <td>mone cclcbratam,@arbitror extitiffe caufam, At...</td>\n",
       "      <td>mone celebratam, arbitror extitiſſe cauſam, At...</td>\n",
       "    </tr>\n",
       "  </tbody>\n",
       "</table>\n",
       "</div>"
      ],
      "text/plain": [
       "                                        ocr_to_input  \\\n",
       "0  fuefcat, Sie difcet latiné ? quid ni? aliis di...   \n",
       "1  Decemvir] Decem primi, Cic. Decaproti, Wp. Dem...   \n",
       "2  licet altj amplius vel mmus accipfät ab eo +fc...   \n",
       "3  nea, Taxb. Concordii res parvz creicunt , difc...   \n",
       "4  mone cclcbratam,arbitror extitiffe caufam, Ath...   \n",
       "\n",
       "                                         ocr_aligned  \\\n",
       "0  fuefcat, Sie difcet latiné ? quid ni? aliis di...   \n",
       "1  Decemvir] Decem primi, Cic. Decaproti, @Wp. De...   \n",
       "2  licet altj amplius vel mmu@s accipfät ab eo @+...   \n",
       "3  nea, Taxb. Concordii res parvz creicunt , difc...   \n",
       "4  mone cclcbratam,@arbitror extitiffe caufam, At...   \n",
       "\n",
       "                                          gs_aligned  \n",
       "0  ſueſcat. Sic diſcet latin@è? quid ni?@aliis di...  \n",
       "1  Decemvir] Decem primi, Cic. Decaproti, Vlp. De...  \n",
       "2  licet alij amplius vel mmuis accipiãt ab eo · ...  \n",
       "3  nea, Taub.@Concordiâ res parvæ creſcunt@, diſc...  \n",
       "4  mone celebratam, arbitror extitiſſe cauſam, At...  "
      ]
     },
     "execution_count": 7,
     "metadata": {},
     "output_type": "execute_result"
    }
   ],
   "source": [
    "# data = []\n",
    "# for f in tqdm(files):\n",
    "#     with open(f) as file:\n",
    "#         data.append(file.readlines())\n",
    "\n",
    "data = pd.DataFrame(data, \n",
    "                    columns = [\"ocr_to_input\", \n",
    "                               \"ocr_aligned\", \n",
    "                               \"gs_aligned\"])\\\n",
    ".assign(ocr_to_input = lambda df: df.ocr_to_input.str.replace(\"[OCR_toInput] \", \"\", regex = False),\n",
    "        ocr_aligned = lambda df: df.ocr_aligned.str.replace(\"[OCR_aligned] \", \"\", regex = False),\n",
    "        gs_aligned = lambda df: df.gs_aligned.str.replace(\"[ GS_aligned] \", \"\", regex = False))\n",
    "\n",
    "print(data.shape)\n",
    "data.head()"
   ]
  },
  {
   "cell_type": "code",
   "execution_count": 8,
   "metadata": {},
   "outputs": [
    {
     "data": {
      "text/html": [
       "<div>\n",
       "<style scoped>\n",
       "    .dataframe tbody tr th:only-of-type {\n",
       "        vertical-align: middle;\n",
       "    }\n",
       "\n",
       "    .dataframe tbody tr th {\n",
       "        vertical-align: top;\n",
       "    }\n",
       "\n",
       "    .dataframe thead th {\n",
       "        text-align: right;\n",
       "    }\n",
       "</style>\n",
       "<table border=\"1\" class=\"dataframe\">\n",
       "  <thead>\n",
       "    <tr style=\"text-align: right;\">\n",
       "      <th></th>\n",
       "      <th>ocr_to_input</th>\n",
       "      <th>ocr_aligned</th>\n",
       "      <th>gs_aligned</th>\n",
       "    </tr>\n",
       "  </thead>\n",
       "  <tbody>\n",
       "    <tr>\n",
       "      <th>count</th>\n",
       "      <td>8052.000000</td>\n",
       "      <td>8052.000000</td>\n",
       "      <td>8052.000000</td>\n",
       "    </tr>\n",
       "    <tr>\n",
       "      <th>mean</th>\n",
       "      <td>1547.265897</td>\n",
       "      <td>1587.077620</td>\n",
       "      <td>1587.077620</td>\n",
       "    </tr>\n",
       "    <tr>\n",
       "      <th>std</th>\n",
       "      <td>727.281992</td>\n",
       "      <td>764.207432</td>\n",
       "      <td>764.207432</td>\n",
       "    </tr>\n",
       "    <tr>\n",
       "      <th>min</th>\n",
       "      <td>112.000000</td>\n",
       "      <td>126.000000</td>\n",
       "      <td>126.000000</td>\n",
       "    </tr>\n",
       "    <tr>\n",
       "      <th>25%</th>\n",
       "      <td>1314.000000</td>\n",
       "      <td>1347.000000</td>\n",
       "      <td>1347.000000</td>\n",
       "    </tr>\n",
       "    <tr>\n",
       "      <th>50%</th>\n",
       "      <td>1482.000000</td>\n",
       "      <td>1515.000000</td>\n",
       "      <td>1515.000000</td>\n",
       "    </tr>\n",
       "    <tr>\n",
       "      <th>75%</th>\n",
       "      <td>1650.250000</td>\n",
       "      <td>1679.000000</td>\n",
       "      <td>1679.000000</td>\n",
       "    </tr>\n",
       "    <tr>\n",
       "      <th>max</th>\n",
       "      <td>14561.000000</td>\n",
       "      <td>16187.000000</td>\n",
       "      <td>16187.000000</td>\n",
       "    </tr>\n",
       "  </tbody>\n",
       "</table>\n",
       "</div>"
      ],
      "text/plain": [
       "       ocr_to_input   ocr_aligned    gs_aligned\n",
       "count   8052.000000   8052.000000   8052.000000\n",
       "mean    1547.265897   1587.077620   1587.077620\n",
       "std      727.281992    764.207432    764.207432\n",
       "min      112.000000    126.000000    126.000000\n",
       "25%     1314.000000   1347.000000   1347.000000\n",
       "50%     1482.000000   1515.000000   1515.000000\n",
       "75%     1650.250000   1679.000000   1679.000000\n",
       "max    14561.000000  16187.000000  16187.000000"
      ]
     },
     "execution_count": 8,
     "metadata": {},
     "output_type": "execute_result"
    }
   ],
   "source": [
    "data.applymap(len).describe()"
   ]
  },
  {
   "cell_type": "code",
   "execution_count": 9,
   "metadata": {},
   "outputs": [
    {
     "data": {
      "text/plain": [
       "count    8052.000000\n",
       "mean       27.809843\n",
       "std        85.454787\n",
       "min         1.039755\n",
       "25%        23.312188\n",
       "50%        25.674876\n",
       "75%        27.886864\n",
       "max      4747.368421\n",
       "Name: cer, dtype: float64"
      ]
     },
     "execution_count": 9,
     "metadata": {},
     "output_type": "execute_result"
    }
   ],
   "source": [
    "levenshtein(reference = data.gs_aligned.str.replace(\"@\", \"\"), \n",
    "            hypothesis = data.ocr_to_input).cer.describe()"
   ]
  },
  {
   "cell_type": "code",
   "execution_count": 10,
   "metadata": {},
   "outputs": [
    {
     "data": {
      "text/plain": [
       "count    8052.000000\n",
       "mean       24.523847\n",
       "std         5.655523\n",
       "min         1.039120\n",
       "25%        22.087205\n",
       "50%        24.184246\n",
       "75%        26.150900\n",
       "max        98.043478\n",
       "Name: cer, dtype: float64"
      ]
     },
     "execution_count": 10,
     "metadata": {},
     "output_type": "execute_result"
    }
   ],
   "source": [
    "levenshtein(reference = data.gs_aligned, \n",
    "            hypothesis = data.ocr_aligned).cer.describe()"
   ]
  },
  {
   "cell_type": "code",
   "execution_count": 11,
   "metadata": {},
   "outputs": [
    {
     "name": "stdout",
     "output_type": "stream",
     "text": [
      "334\n"
     ]
    }
   ],
   "source": [
    "vocabulary = Vocabulary(data.ocr_to_input.sum() + data.ocr_aligned.sum() + data.gs_aligned.sum())\n",
    "print(len(vocabulary))\n",
    "with open(output_folder/\"data/vocabulary.pkl\", \"wb\") as file:\n",
    "    pickle.dump(vocabulary, file)"
   ]
  },
  {
   "cell_type": "code",
   "execution_count": 12,
   "metadata": {},
   "outputs": [
    {
     "data": {
      "text/plain": [
       "(5, 3)"
      ]
     },
     "execution_count": 12,
     "metadata": {},
     "output_type": "execute_result"
    }
   ],
   "source": [
    "dev = data.sample(n = 5, random_state = 1)\n",
    "dev.to_pickle(output_folder/\"data/dev.pkl\")\n",
    "dev.shape"
   ]
  },
  {
   "cell_type": "code",
   "execution_count": 13,
   "metadata": {},
   "outputs": [
    {
     "data": {
      "text/plain": [
       "(8047, 3)"
      ]
     },
     "execution_count": 13,
     "metadata": {},
     "output_type": "execute_result"
    }
   ],
   "source": [
    "train = data.drop(dev.index)\n",
    "train.to_pickle(output_folder/\"data/train.pkl\")\n",
    "train.shape"
   ]
  },
  {
   "cell_type": "code",
   "execution_count": 23,
   "metadata": {},
   "outputs": [
    {
     "data": {
      "text/html": [
       "<div>\n",
       "<style scoped>\n",
       "    .dataframe tbody tr th:only-of-type {\n",
       "        vertical-align: middle;\n",
       "    }\n",
       "\n",
       "    .dataframe tbody tr th {\n",
       "        vertical-align: top;\n",
       "    }\n",
       "\n",
       "    .dataframe thead th {\n",
       "        text-align: right;\n",
       "    }\n",
       "</style>\n",
       "<table border=\"1\" class=\"dataframe\">\n",
       "  <thead>\n",
       "    <tr style=\"text-align: right;\">\n",
       "      <th></th>\n",
       "      <th>ocr_to_input</th>\n",
       "      <th>ocr_aligned</th>\n",
       "      <th>gs_aligned</th>\n",
       "    </tr>\n",
       "  </thead>\n",
       "  <tbody>\n",
       "    <tr>\n",
       "      <th>count</th>\n",
       "      <td>8047.000000</td>\n",
       "      <td>8047.000000</td>\n",
       "      <td>8047.000000</td>\n",
       "    </tr>\n",
       "    <tr>\n",
       "      <th>mean</th>\n",
       "      <td>1547.275879</td>\n",
       "      <td>1587.094818</td>\n",
       "      <td>1587.094818</td>\n",
       "    </tr>\n",
       "    <tr>\n",
       "      <th>std</th>\n",
       "      <td>727.493432</td>\n",
       "      <td>764.429859</td>\n",
       "      <td>764.429859</td>\n",
       "    </tr>\n",
       "    <tr>\n",
       "      <th>min</th>\n",
       "      <td>112.000000</td>\n",
       "      <td>126.000000</td>\n",
       "      <td>126.000000</td>\n",
       "    </tr>\n",
       "    <tr>\n",
       "      <th>25%</th>\n",
       "      <td>1314.000000</td>\n",
       "      <td>1347.000000</td>\n",
       "      <td>1347.000000</td>\n",
       "    </tr>\n",
       "    <tr>\n",
       "      <th>50%</th>\n",
       "      <td>1482.000000</td>\n",
       "      <td>1515.000000</td>\n",
       "      <td>1515.000000</td>\n",
       "    </tr>\n",
       "    <tr>\n",
       "      <th>75%</th>\n",
       "      <td>1650.500000</td>\n",
       "      <td>1679.000000</td>\n",
       "      <td>1679.000000</td>\n",
       "    </tr>\n",
       "    <tr>\n",
       "      <th>max</th>\n",
       "      <td>14561.000000</td>\n",
       "      <td>16187.000000</td>\n",
       "      <td>16187.000000</td>\n",
       "    </tr>\n",
       "  </tbody>\n",
       "</table>\n",
       "</div>"
      ],
      "text/plain": [
       "       ocr_to_input   ocr_aligned    gs_aligned\n",
       "count   8047.000000   8047.000000   8047.000000\n",
       "mean    1547.275879   1587.094818   1587.094818\n",
       "std      727.493432    764.429859    764.429859\n",
       "min      112.000000    126.000000    126.000000\n",
       "25%     1314.000000   1347.000000   1347.000000\n",
       "50%     1482.000000   1515.000000   1515.000000\n",
       "75%     1650.500000   1679.000000   1679.000000\n",
       "max    14561.000000  16187.000000  16187.000000"
      ]
     },
     "execution_count": 23,
     "metadata": {},
     "output_type": "execute_result"
    }
   ],
   "source": [
    "train.applymap(len).describe()"
   ]
  },
  {
   "cell_type": "code",
   "execution_count": 14,
   "metadata": {},
   "outputs": [
    {
     "data": {
      "text/html": [
       "<div>\n",
       "<style scoped>\n",
       "    .dataframe tbody tr th:only-of-type {\n",
       "        vertical-align: middle;\n",
       "    }\n",
       "\n",
       "    .dataframe tbody tr th {\n",
       "        vertical-align: top;\n",
       "    }\n",
       "\n",
       "    .dataframe thead th {\n",
       "        text-align: right;\n",
       "    }\n",
       "</style>\n",
       "<table border=\"1\" class=\"dataframe\">\n",
       "  <thead>\n",
       "    <tr style=\"text-align: right;\">\n",
       "      <th></th>\n",
       "      <th>ocr_to_input</th>\n",
       "      <th>ocr_aligned</th>\n",
       "      <th>gs_aligned</th>\n",
       "    </tr>\n",
       "  </thead>\n",
       "  <tbody>\n",
       "    <tr>\n",
       "      <th>count</th>\n",
       "      <td>5.0000</td>\n",
       "      <td>5.000000</td>\n",
       "      <td>5.000000</td>\n",
       "    </tr>\n",
       "    <tr>\n",
       "      <th>mean</th>\n",
       "      <td>1531.2000</td>\n",
       "      <td>1559.400000</td>\n",
       "      <td>1559.400000</td>\n",
       "    </tr>\n",
       "    <tr>\n",
       "      <th>std</th>\n",
       "      <td>205.2211</td>\n",
       "      <td>212.435402</td>\n",
       "      <td>212.435402</td>\n",
       "    </tr>\n",
       "    <tr>\n",
       "      <th>min</th>\n",
       "      <td>1260.0000</td>\n",
       "      <td>1266.000000</td>\n",
       "      <td>1266.000000</td>\n",
       "    </tr>\n",
       "    <tr>\n",
       "      <th>25%</th>\n",
       "      <td>1503.0000</td>\n",
       "      <td>1535.000000</td>\n",
       "      <td>1535.000000</td>\n",
       "    </tr>\n",
       "    <tr>\n",
       "      <th>50%</th>\n",
       "      <td>1504.0000</td>\n",
       "      <td>1544.000000</td>\n",
       "      <td>1544.000000</td>\n",
       "    </tr>\n",
       "    <tr>\n",
       "      <th>75%</th>\n",
       "      <td>1553.0000</td>\n",
       "      <td>1588.000000</td>\n",
       "      <td>1588.000000</td>\n",
       "    </tr>\n",
       "    <tr>\n",
       "      <th>max</th>\n",
       "      <td>1836.0000</td>\n",
       "      <td>1864.000000</td>\n",
       "      <td>1864.000000</td>\n",
       "    </tr>\n",
       "  </tbody>\n",
       "</table>\n",
       "</div>"
      ],
      "text/plain": [
       "       ocr_to_input  ocr_aligned   gs_aligned\n",
       "count        5.0000     5.000000     5.000000\n",
       "mean      1531.2000  1559.400000  1559.400000\n",
       "std        205.2211   212.435402   212.435402\n",
       "min       1260.0000  1266.000000  1266.000000\n",
       "25%       1503.0000  1535.000000  1535.000000\n",
       "50%       1504.0000  1544.000000  1544.000000\n",
       "75%       1553.0000  1588.000000  1588.000000\n",
       "max       1836.0000  1864.000000  1864.000000"
      ]
     },
     "execution_count": 14,
     "metadata": {},
     "output_type": "execute_result"
    }
   ],
   "source": [
    "dev.applymap(len).describe()"
   ]
  },
  {
   "cell_type": "code",
   "execution_count": 15,
   "metadata": {},
   "outputs": [
    {
     "data": {
      "text/plain": [
       "count     5.000000\n",
       "mean     23.046394\n",
       "std       1.032912\n",
       "min      21.635434\n",
       "25%      22.736555\n",
       "50%      23.112583\n",
       "75%      23.238255\n",
       "max      24.509140\n",
       "Name: cer, dtype: float64"
      ]
     },
     "execution_count": 15,
     "metadata": {},
     "output_type": "execute_result"
    }
   ],
   "source": [
    "levenshtein(reference = dev.gs_aligned.str.replace(\"@\", \"\"), \n",
    "            hypothesis = dev.ocr_to_input).cer.describe()"
   ]
  },
  {
   "cell_type": "code",
   "execution_count": 16,
   "metadata": {},
   "outputs": [
    {
     "data": {
      "text/plain": [
       "count     5.000000\n",
       "mean     21.855722\n",
       "std       1.071343\n",
       "min      20.439914\n",
       "25%      21.693811\n",
       "50%      21.721959\n",
       "75%      21.977330\n",
       "max      23.445596\n",
       "Name: cer, dtype: float64"
      ]
     },
     "execution_count": 16,
     "metadata": {},
     "output_type": "execute_result"
    }
   ],
   "source": [
    "levenshtein(reference = dev.gs_aligned, \n",
    "            hypothesis = dev.ocr_to_input).cer.describe()"
   ]
  },
  {
   "cell_type": "code",
   "execution_count": 17,
   "metadata": {},
   "outputs": [],
   "source": [
    "window_length = 100"
   ]
  },
  {
   "cell_type": "code",
   "execution_count": 18,
   "metadata": {},
   "outputs": [
    {
     "data": {
      "application/vnd.jupyter.widget-view+json": {
       "model_id": "4bbbcb585eb9413fa389849ccdb7e1b2",
       "version_major": 2,
       "version_minor": 0
      },
      "text/plain": [
       "  0%|          | 0/8047 [00:00<?, ?it/s]"
      ]
     },
     "metadata": {},
     "output_type": "display_data"
    },
    {
     "data": {
      "application/vnd.jupyter.widget-view+json": {
       "model_id": "2d070d6307ad49a886c5823b97233b25",
       "version_major": 2,
       "version_minor": 0
      },
      "text/plain": [
       "  0%|          | 0/8047 [00:00<?, ?it/s]"
      ]
     },
     "metadata": {},
     "output_type": "display_data"
    },
    {
     "name": "stdout",
     "output_type": "stream",
     "text": [
      "(12779399, 2)\n"
     ]
    },
    {
     "data": {
      "text/html": [
       "<div>\n",
       "<style scoped>\n",
       "    .dataframe tbody tr th:only-of-type {\n",
       "        vertical-align: middle;\n",
       "    }\n",
       "\n",
       "    .dataframe tbody tr th {\n",
       "        vertical-align: top;\n",
       "    }\n",
       "\n",
       "    .dataframe thead th {\n",
       "        text-align: right;\n",
       "    }\n",
       "</style>\n",
       "<table border=\"1\" class=\"dataframe\">\n",
       "  <thead>\n",
       "    <tr style=\"text-align: right;\">\n",
       "      <th></th>\n",
       "      <th>source</th>\n",
       "      <th>target</th>\n",
       "    </tr>\n",
       "  </thead>\n",
       "  <tbody>\n",
       "    <tr>\n",
       "      <th>0</th>\n",
       "      <td>Zropffen crtich Dr?albafter ibme@in ben Dtund ...</td>\n",
       "      <td>Tropffen etlich @@Malvaſier ihme in den @Mund ...</td>\n",
       "    </tr>\n",
       "    <tr>\n",
       "      <th>1</th>\n",
       "      <td>ropffen crtich Dr?albafter ibme@in ben Dtund g...</td>\n",
       "      <td>ropffen etlich @@Malvaſier ihme in den @Mund g...</td>\n",
       "    </tr>\n",
       "    <tr>\n",
       "      <th>2</th>\n",
       "      <td>opffen crtich Dr?albafter ibme@in ben Dtund ge...</td>\n",
       "      <td>opffen etlich @@Malvaſier ihme in den @Mund ge...</td>\n",
       "    </tr>\n",
       "    <tr>\n",
       "      <th>3</th>\n",
       "      <td>pffen crtich Dr?albafter ibme@in ben Dtund ge,...</td>\n",
       "      <td>pffen etlich @@Malvaſier ihme in den @Mund ge@...</td>\n",
       "    </tr>\n",
       "    <tr>\n",
       "      <th>4</th>\n",
       "      <td>ffen crtich Dr?albafter ibme@in ben Dtund ge, ...</td>\n",
       "      <td>ffen etlich @@Malvaſier ihme in den @Mund ge@@...</td>\n",
       "    </tr>\n",
       "  </tbody>\n",
       "</table>\n",
       "</div>"
      ],
      "text/plain": [
       "                                              source  \\\n",
       "0  Zropffen crtich Dr?albafter ibme@in ben Dtund ...   \n",
       "1  ropffen crtich Dr?albafter ibme@in ben Dtund g...   \n",
       "2  opffen crtich Dr?albafter ibme@in ben Dtund ge...   \n",
       "3  pffen crtich Dr?albafter ibme@in ben Dtund ge,...   \n",
       "4  ffen crtich Dr?albafter ibme@in ben Dtund ge, ...   \n",
       "\n",
       "                                              target  \n",
       "0  Tropffen etlich @@Malvaſier ihme in den @Mund ...  \n",
       "1  ropffen etlich @@Malvaſier ihme in den @Mund g...  \n",
       "2  opffen etlich @@Malvaſier ihme in den @Mund ge...  \n",
       "3  pffen etlich @@Malvaſier ihme in den @Mund ge@...  \n",
       "4  ffen etlich @@Malvaſier ihme in den @Mund ge@@...  "
      ]
     },
     "execution_count": 18,
     "metadata": {},
     "output_type": "execute_result"
    }
   ],
   "source": [
    "df = train#.head(100)\n",
    "train_aligned = list(p.imap_unordered(create_windows, \n",
    "                                      tqdm(zip(df.ocr_aligned, \n",
    "                                               df.gs_aligned, \n",
    "                                               [window_length for x in df.ocr_aligned]), \n",
    "                                           total = len(df.ocr_aligned)),\n",
    "                                      chunksize = 128))\n",
    "s = []\n",
    "for r in tqdm(train_aligned):\n",
    "    s.extend(r)\n",
    "train_aligned = pd.DataFrame(s, columns = [\"source\", \"target\"])\n",
    "print(train_aligned.shape)\n",
    "train_aligned.head()"
   ]
  },
  {
   "cell_type": "code",
   "execution_count": 19,
   "metadata": {},
   "outputs": [
    {
     "data": {
      "text/html": [
       "<div>\n",
       "<style scoped>\n",
       "    .dataframe tbody tr th:only-of-type {\n",
       "        vertical-align: middle;\n",
       "    }\n",
       "\n",
       "    .dataframe tbody tr th {\n",
       "        vertical-align: top;\n",
       "    }\n",
       "\n",
       "    .dataframe thead th {\n",
       "        text-align: right;\n",
       "    }\n",
       "</style>\n",
       "<table border=\"1\" class=\"dataframe\">\n",
       "  <thead>\n",
       "    <tr style=\"text-align: right;\">\n",
       "      <th></th>\n",
       "      <th>source</th>\n",
       "      <th>target</th>\n",
       "    </tr>\n",
       "  </thead>\n",
       "  <tbody>\n",
       "    <tr>\n",
       "      <th>0</th>\n",
       "      <td>Zropffen crtich Dr?albafter ibmein ben Dtund g...</td>\n",
       "      <td>Tropffen etlich @@Malvaſier ihme in den @Mund ...</td>\n",
       "    </tr>\n",
       "    <tr>\n",
       "      <th>1</th>\n",
       "      <td>ropffen crtich Dr?albafter ibmein ben Dtund ge...</td>\n",
       "      <td>ropffen etlich @@Malvaſier ihme in den @Mund g...</td>\n",
       "    </tr>\n",
       "    <tr>\n",
       "      <th>2</th>\n",
       "      <td>opffen crtich Dr?albafter ibmein ben Dtund ge,...</td>\n",
       "      <td>opffen etlich @@Malvaſier ihme in den @Mund ge...</td>\n",
       "    </tr>\n",
       "    <tr>\n",
       "      <th>3</th>\n",
       "      <td>pffen crtich Dr?albafter ibmein ben Dtund ge, ...</td>\n",
       "      <td>pffen etlich @@Malvaſier ihme in den @Mund ge@...</td>\n",
       "    </tr>\n",
       "    <tr>\n",
       "      <th>4</th>\n",
       "      <td>ffen crtich Dr?albafter ibmein ben Dtund ge, 3...</td>\n",
       "      <td>ffen etlich @@Malvaſier ihme in den @Mund ge@@...</td>\n",
       "    </tr>\n",
       "  </tbody>\n",
       "</table>\n",
       "</div>"
      ],
      "text/plain": [
       "                                              source  \\\n",
       "0  Zropffen crtich Dr?albafter ibmein ben Dtund g...   \n",
       "1  ropffen crtich Dr?albafter ibmein ben Dtund ge...   \n",
       "2  opffen crtich Dr?albafter ibmein ben Dtund ge,...   \n",
       "3  pffen crtich Dr?albafter ibmein ben Dtund ge, ...   \n",
       "4  ffen crtich Dr?albafter ibmein ben Dtund ge, 3...   \n",
       "\n",
       "                                              target  \n",
       "0  Tropffen etlich @@Malvaſier ihme in den @Mund ...  \n",
       "1  ropffen etlich @@Malvaſier ihme in den @Mund g...  \n",
       "2  opffen etlich @@Malvaſier ihme in den @Mund ge...  \n",
       "3  pffen etlich @@Malvaſier ihme in den @Mund ge@...  \n",
       "4  ffen etlich @@Malvaſier ihme in den @Mund ge@@...  "
      ]
     },
     "execution_count": 19,
     "metadata": {},
     "output_type": "execute_result"
    }
   ],
   "source": [
    "train_aligned = train_aligned.assign(source = lambda df: df.source.str.replace(\"@\", \"\"))\n",
    "train_aligned.head()"
   ]
  },
  {
   "cell_type": "code",
   "execution_count": 20,
   "metadata": {},
   "outputs": [
    {
     "name": "stdout",
     "output_type": "stream",
     "text": [
      "(7802, 2)\n"
     ]
    },
    {
     "data": {
      "text/html": [
       "<div>\n",
       "<style scoped>\n",
       "    .dataframe tbody tr th:only-of-type {\n",
       "        vertical-align: middle;\n",
       "    }\n",
       "\n",
       "    .dataframe tbody tr th {\n",
       "        vertical-align: top;\n",
       "    }\n",
       "\n",
       "    .dataframe thead th {\n",
       "        text-align: right;\n",
       "    }\n",
       "</style>\n",
       "<table border=\"1\" class=\"dataframe\">\n",
       "  <thead>\n",
       "    <tr style=\"text-align: right;\">\n",
       "      <th></th>\n",
       "      <th>source</th>\n",
       "      <th>target</th>\n",
       "    </tr>\n",
       "  </thead>\n",
       "  <tbody>\n",
       "    <tr>\n",
       "      <th>0</th>\n",
       "      <td>der einen Geite den ftrengfken Ölauben, auf bd...</td>\n",
       "      <td>der einen Seite den ſtrengſten Glauben, auf @d...</td>\n",
       "    </tr>\n",
       "    <tr>\n",
       "      <th>1</th>\n",
       "      <td>er einen Geite den ftrengfken Ölauben, auf bde...</td>\n",
       "      <td>er einen Seite den ſtrengſten Glauben, auf @de...</td>\n",
       "    </tr>\n",
       "    <tr>\n",
       "      <th>2</th>\n",
       "      <td>r einen Geite den ftrengfken Ölauben, auf bder...</td>\n",
       "      <td>r einen Seite den ſtrengſten Glauben, auf @der...</td>\n",
       "    </tr>\n",
       "    <tr>\n",
       "      <th>3</th>\n",
       "      <td>einen Geite den ftrengfken Ölauben, auf bder ...</td>\n",
       "      <td>einen Seite den ſtrengſten Glauben, auf @der ...</td>\n",
       "    </tr>\n",
       "    <tr>\n",
       "      <th>4</th>\n",
       "      <td>einen Geite den ftrengfken Ölauben, auf bder a...</td>\n",
       "      <td>einen Seite den ſtrengſten Glauben, auf @der a...</td>\n",
       "    </tr>\n",
       "  </tbody>\n",
       "</table>\n",
       "</div>"
      ],
      "text/plain": [
       "                                              source  \\\n",
       "0  der einen Geite den ftrengfken Ölauben, auf bd...   \n",
       "1  er einen Geite den ftrengfken Ölauben, auf bde...   \n",
       "2  r einen Geite den ftrengfken Ölauben, auf bder...   \n",
       "3   einen Geite den ftrengfken Ölauben, auf bder ...   \n",
       "4  einen Geite den ftrengfken Ölauben, auf bder a...   \n",
       "\n",
       "                                              target  \n",
       "0  der einen Seite den ſtrengſten Glauben, auf @d...  \n",
       "1  er einen Seite den ſtrengſten Glauben, auf @de...  \n",
       "2  r einen Seite den ſtrengſten Glauben, auf @der...  \n",
       "3   einen Seite den ſtrengſten Glauben, auf @der ...  \n",
       "4  einen Seite den ſtrengſten Glauben, auf @der a...  "
      ]
     },
     "execution_count": 20,
     "metadata": {},
     "output_type": "execute_result"
    }
   ],
   "source": [
    "dev_aligned = dev.apply(lambda r: create_windows((r[\"ocr_aligned\"], r[\"gs_aligned\"], window_length)), \n",
    "                            axis = 1).sum()\n",
    "dev_aligned = pd.DataFrame(dev_aligned, columns = [\"source\", \"target\"])\n",
    "print(dev_aligned.shape)\n",
    "dev_aligned.head()"
   ]
  },
  {
   "cell_type": "code",
   "execution_count": 21,
   "metadata": {},
   "outputs": [
    {
     "data": {
      "text/html": [
       "<div>\n",
       "<style scoped>\n",
       "    .dataframe tbody tr th:only-of-type {\n",
       "        vertical-align: middle;\n",
       "    }\n",
       "\n",
       "    .dataframe tbody tr th {\n",
       "        vertical-align: top;\n",
       "    }\n",
       "\n",
       "    .dataframe thead th {\n",
       "        text-align: right;\n",
       "    }\n",
       "</style>\n",
       "<table border=\"1\" class=\"dataframe\">\n",
       "  <thead>\n",
       "    <tr style=\"text-align: right;\">\n",
       "      <th></th>\n",
       "      <th>source</th>\n",
       "      <th>target</th>\n",
       "    </tr>\n",
       "  </thead>\n",
       "  <tbody>\n",
       "    <tr>\n",
       "      <th>0</th>\n",
       "      <td>der einen Geite den ftrengfken Ölauben, auf bd...</td>\n",
       "      <td>der einen Seite den ſtrengſten Glauben, auf @d...</td>\n",
       "    </tr>\n",
       "    <tr>\n",
       "      <th>1</th>\n",
       "      <td>er einen Geite den ftrengfken Ölauben, auf bde...</td>\n",
       "      <td>er einen Seite den ſtrengſten Glauben, auf @de...</td>\n",
       "    </tr>\n",
       "    <tr>\n",
       "      <th>2</th>\n",
       "      <td>r einen Geite den ftrengfken Ölauben, auf bder...</td>\n",
       "      <td>r einen Seite den ſtrengſten Glauben, auf @der...</td>\n",
       "    </tr>\n",
       "    <tr>\n",
       "      <th>3</th>\n",
       "      <td>einen Geite den ftrengfken Ölauben, auf bder ...</td>\n",
       "      <td>einen Seite den ſtrengſten Glauben, auf @der ...</td>\n",
       "    </tr>\n",
       "    <tr>\n",
       "      <th>4</th>\n",
       "      <td>einen Geite den ftrengfken Ölauben, auf bder a...</td>\n",
       "      <td>einen Seite den ſtrengſten Glauben, auf @der a...</td>\n",
       "    </tr>\n",
       "  </tbody>\n",
       "</table>\n",
       "</div>"
      ],
      "text/plain": [
       "                                              source  \\\n",
       "0  der einen Geite den ftrengfken Ölauben, auf bd...   \n",
       "1  er einen Geite den ftrengfken Ölauben, auf bde...   \n",
       "2  r einen Geite den ftrengfken Ölauben, auf bder...   \n",
       "3   einen Geite den ftrengfken Ölauben, auf bder ...   \n",
       "4  einen Geite den ftrengfken Ölauben, auf bder a...   \n",
       "\n",
       "                                              target  \n",
       "0  der einen Seite den ſtrengſten Glauben, auf @d...  \n",
       "1  er einen Seite den ſtrengſten Glauben, auf @de...  \n",
       "2  r einen Seite den ſtrengſten Glauben, auf @der...  \n",
       "3   einen Seite den ſtrengſten Glauben, auf @der ...  \n",
       "4  einen Seite den ſtrengſten Glauben, auf @der a...  "
      ]
     },
     "execution_count": 21,
     "metadata": {},
     "output_type": "execute_result"
    }
   ],
   "source": [
    "dev_aligned = dev_aligned.assign(source = lambda df: df.source.str.replace(\"@\", \"\"))\n",
    "dev_aligned.head()"
   ]
  },
  {
   "cell_type": "code",
   "execution_count": 22,
   "metadata": {},
   "outputs": [],
   "source": [
    "train_aligned.to_pickle(output_folder/\"data/train_aligned.pkl\")\n",
    "dev_aligned.to_pickle(output_folder/\"data/dev_aligned.pkl\")"
   ]
  }
 ],
 "metadata": {
  "kernelspec": {
   "display_name": "Python 3",
   "language": "python",
   "name": "python3"
  },
  "language_info": {
   "codemirror_mode": {
    "name": "ipython",
    "version": 3
   },
   "file_extension": ".py",
   "mimetype": "text/x-python",
   "name": "python",
   "nbconvert_exporter": "python",
   "pygments_lexer": "ipython3",
   "version": "3.8.8"
  },
  "toc": {
   "base_numbering": 1,
   "nav_menu": {},
   "number_sections": true,
   "sideBar": true,
   "skip_h1_title": false,
   "title_cell": "Table of Contents",
   "title_sidebar": "Contents",
   "toc_cell": false,
   "toc_position": {},
   "toc_section_display": true,
   "toc_window_display": false
  }
 },
 "nbformat": 4,
 "nbformat_minor": 4
}
