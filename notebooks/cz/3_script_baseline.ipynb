{
 "cells": [
  {
   "cell_type": "code",
   "execution_count": 1,
   "metadata": {},
   "outputs": [
    {
     "name": "stdout",
     "output_type": "stream",
     "text": [
      "main folder:/home/jarobyte/scratch/guemes/icdar/cz/\n",
      "output folder:baseline\n",
      "\n",
      "Model: Transformer\n",
      "Tokens in the input vocabulary: 178\n",
      "Tokens in the output vocabulary: 178\n",
      "Max sequence length: 110\n",
      "Embedding dimension: 512\n",
      "Feedforward dimension: 2048\n",
      "Encoder layers: 2\n",
      "Decoder layers: 2\n",
      "Attention heads: 8\n",
      "Activation: relu\n",
      "Dropout: 0.4\n",
      "Trainable parameters: 15,044,786\n",
      "\n",
      "Training started\n",
      "Epochs: 10\n",
      "Learning rate: 0.0001\n",
      "Weight decay: 0.01\n",
      "Epoch | Train                 | Development           | Minutes\n",
      "      | Loss     | Error Rate | Loss     | Error Rate |\n",
      "---------------------------------------------------------------\n",
      "    1 |   4.2529 |     86.558 |   3.7433 |     86.386 |     0.0\n",
      "    2 |   3.5825 |     84.376 |   3.5803 |     86.386 |     0.1\n",
      "    3 |   3.3990 |     83.911 |   3.5064 |     86.307 |     0.1\n",
      "    4 |   3.2514 |     81.644 |   3.4170 |     82.366 |     0.2\n",
      "    5 |   3.1059 |     78.248 |   3.3672 |     79.069 |     0.2\n",
      "    6 |   2.9603 |     75.529 |   3.3146 |     77.574 |     0.3\n",
      "    7 |   2.8263 |     73.425 |   3.2839 |     77.158 |     0.3\n",
      "    8 |   2.7225 |     72.524 |   3.2502 |     77.396 |     0.3\n",
      "    9 |   2.6421 |     72.196 |   3.2150 |     76.901 |     0.3\n",
      "   10 |   2.5804 |     71.790 |   3.1976 |     76.327 |     0.4\n",
      "\n",
      "Evaluating model..\n",
      "disjoint window...\n",
      "greedy_search...\n",
      "beam_search...\n",
      "sliding, greedy...\n",
      "uniform...\n",
      "triangle...\n",
      "bell...\n",
      "sliding, beam...\n",
      "uniform...\n",
      "triangle...\n",
      "bell...\n",
      "  experiment_id  improvement    window decoding  window_size  \\\n",
      "0          test  -649.348284  disjoint   greedy           10   \n",
      "1          test  -652.103035  disjoint   greedy            5   \n",
      "2          test  -644.555878  disjoint     beam           10   \n",
      "3          test  -656.111421  disjoint     beam            5   \n",
      "4          test  -683.881689   sliding   greedy            5   \n",
      "5          test  -683.106240   sliding   greedy            5   \n",
      "6          test  -762.387834   sliding   greedy            5   \n",
      "7          test  -688.797562   sliding     beam            5   \n",
      "8          test  -688.836358   sliding     beam            5   \n",
      "9          test  -786.093071   sliding     beam            5   \n",
      "\n",
      "   inference_seconds  cer_before  cer_after weighting  \n",
      "0           0.649974   10.568296  79.193344       NaN  \n",
      "1           0.595734   10.568296  79.484474       NaN  \n",
      "2           4.903742   10.568296  78.686868       NaN  \n",
      "3           4.355349   10.568296  79.908092       NaN  \n",
      "4           3.882165   10.568296  82.842936   uniform  \n",
      "5           3.826279   10.568296  82.760985  triangle  \n",
      "6           3.887412   10.568296  91.139698      bell  \n",
      "7          23.093663   10.568296  83.362460   uniform  \n",
      "8          23.104064   10.568296  83.366560  triangle  \n",
      "9          22.869362   10.568296  93.644938      bell  \n"
     ]
    }
   ],
   "source": [
    "%run scripts/train_models/launch_experiments.py --experiment_id=test --random"
   ]
  },
  {
   "cell_type": "code",
   "execution_count": null,
   "metadata": {},
   "outputs": [],
   "source": []
  }
 ],
 "metadata": {
  "kernelspec": {
   "display_name": "Python 3",
   "language": "python",
   "name": "python3"
  },
  "language_info": {
   "codemirror_mode": {
    "name": "ipython",
    "version": 3
   },
   "file_extension": ".py",
   "mimetype": "text/x-python",
   "name": "python",
   "nbconvert_exporter": "python",
   "pygments_lexer": "ipython3",
   "version": "3.7.4"
  }
 },
 "nbformat": 4,
 "nbformat_minor": 4
}
