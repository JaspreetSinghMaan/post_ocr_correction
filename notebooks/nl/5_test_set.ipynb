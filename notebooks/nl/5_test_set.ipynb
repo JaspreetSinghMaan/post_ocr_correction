{
 "cells": [
  {
   "cell_type": "code",
   "execution_count": 1,
   "metadata": {},
   "outputs": [],
   "source": [
    "import os\n",
    "from tqdm.notebook import tqdm\n",
    "from pathlib import Path\n",
    "import pandas as pd\n",
    "from nltk.lm import Vocabulary\n",
    "import pickle\n",
    "import sys\n",
    "import torch\n",
    "import importlib\n",
    "from timeit import default_timer as t\n",
    "sys.path.append(\"../../lib\")\n",
    "from metrics import levenshtein\n",
    "import ocr_correction\n",
    "from pytorch_decoding import seq2seq"
   ]
  },
  {
   "cell_type": "code",
   "execution_count": 2,
   "metadata": {},
   "outputs": [],
   "source": [
    "folder = \"../../data/ICDAR2019_POCR_competition_dataset/ICDAR2019_POCR_competition_evaluation_4M_without_Finnish/NL/\""
   ]
  },
  {
   "cell_type": "code",
   "execution_count": 3,
   "metadata": {},
   "outputs": [
    {
     "data": {
      "text/plain": [
       "1"
      ]
     },
     "execution_count": 3,
     "metadata": {},
     "output_type": "execute_result"
    }
   ],
   "source": [
    "files = sorted(os.listdir(folder))\n",
    "len(files)"
   ]
  },
  {
   "cell_type": "code",
   "execution_count": 4,
   "metadata": {},
   "outputs": [
    {
     "data": {
      "text/plain": [
       "49"
      ]
     },
     "execution_count": 4,
     "metadata": {},
     "output_type": "execute_result"
    }
   ],
   "source": [
    "import glob\n",
    "\n",
    "files = glob.glob(folder + '/**/*.txt', recursive=True)\n",
    "len(files)"
   ]
  },
  {
   "cell_type": "code",
   "execution_count": 5,
   "metadata": {},
   "outputs": [
    {
     "data": {
      "application/vnd.jupyter.widget-view+json": {
       "model_id": "b6bab1d8d67f418db149e6e3d3708501",
       "version_major": 2,
       "version_minor": 0
      },
      "text/plain": [
       "  0%|          | 0/49 [00:00<?, ?it/s]"
      ]
     },
     "metadata": {},
     "output_type": "display_data"
    }
   ],
   "source": [
    "data = []\n",
    "for f in tqdm(files):\n",
    "    with open(f) as file:\n",
    "        data.append(file.readlines())"
   ]
  },
  {
   "cell_type": "code",
   "execution_count": 6,
   "metadata": {},
   "outputs": [
    {
     "name": "stdout",
     "output_type": "stream",
     "text": [
      "(49, 3)\n"
     ]
    },
    {
     "data": {
      "text/html": [
       "<div>\n",
       "<style scoped>\n",
       "    .dataframe tbody tr th:only-of-type {\n",
       "        vertical-align: middle;\n",
       "    }\n",
       "\n",
       "    .dataframe tbody tr th {\n",
       "        vertical-align: top;\n",
       "    }\n",
       "\n",
       "    .dataframe thead th {\n",
       "        text-align: right;\n",
       "    }\n",
       "</style>\n",
       "<table border=\"1\" class=\"dataframe\">\n",
       "  <thead>\n",
       "    <tr style=\"text-align: right;\">\n",
       "      <th></th>\n",
       "      <th>ocr_to_input</th>\n",
       "      <th>ocr_aligned</th>\n",
       "      <th>gs_aligned</th>\n",
       "    </tr>\n",
       "  </thead>\n",
       "  <tbody>\n",
       "    <tr>\n",
       "      <th>0</th>\n",
       "      <td>FEEST- en ié/ cnbe be J^one bes menfctjen faï ...</td>\n",
       "      <td>@@@@@@@@@@@FEEST- en ié/ cnbe be J^one bes men...</td>\n",
       "      <td>11 Want 8 FEEST- EN is/ ende de @Sone des men...</td>\n",
       "    </tr>\n",
       "    <tr>\n",
       "      <th>1</th>\n",
       "      <td>de Gebeurtenisfen in 1787 enz. voorgevallen. 1...</td>\n",
       "      <td>@@@@@de Gebeurtenisfen in 1787 enz. voorgevall...</td>\n",
       "      <td>I83 de Gebeurtenissen in I787 enz. voorgevall...</td>\n",
       "    </tr>\n",
       "    <tr>\n",
       "      <th>2</th>\n",
       "      <td>94 D. VAN GESSCHER, OVER ’T GENEEZEN DER en de...</td>\n",
       "      <td>@94 D. VAN GESSCHER, OVER ’T GENEEZEN DER en d...</td>\n",
       "      <td>94 D. VAN GESSCHER, OVER 'T GENEEZEN DER en d...</td>\n",
       "    </tr>\n",
       "    <tr>\n",
       "      <th>3</th>\n",
       "      <td>'gtftcrefi vooiby dcCe Stad nyt Holland kömtnd...</td>\n",
       "      <td>'gtftcrefi vooiby dcCe Stad nyt Holland kömtnd...</td>\n",
       "      <td>gistere@n voorby dese Stad uyt Holland komend...</td>\n",
       "    </tr>\n",
       "    <tr>\n",
       "      <th>4</th>\n",
       "      <td>LYDE NS-STOFFEN. 49 6 nu IMatuö ban $aïiïca lj...</td>\n",
       "      <td>@@@@@@@@@@@@LYDE NS-STOFFEN. @49 6 nu @IMatuö ...</td>\n",
       "      <td>D 14 Gy 49 LYDE@NS-STOFFEN. 6 Als nu Pilatus ...</td>\n",
       "    </tr>\n",
       "  </tbody>\n",
       "</table>\n",
       "</div>"
      ],
      "text/plain": [
       "                                        ocr_to_input  \\\n",
       "0  FEEST- en ié/ cnbe be J^one bes menfctjen faï ...   \n",
       "1  de Gebeurtenisfen in 1787 enz. voorgevallen. 1...   \n",
       "2  94 D. VAN GESSCHER, OVER ’T GENEEZEN DER en de...   \n",
       "3  'gtftcrefi vooiby dcCe Stad nyt Holland kömtnd...   \n",
       "4  LYDE NS-STOFFEN. 49 6 nu IMatuö ban $aïiïca lj...   \n",
       "\n",
       "                                         ocr_aligned  \\\n",
       "0  @@@@@@@@@@@FEEST- en ié/ cnbe be J^one bes men...   \n",
       "1  @@@@@de Gebeurtenisfen in 1787 enz. voorgevall...   \n",
       "2  @94 D. VAN GESSCHER, OVER ’T GENEEZEN DER en d...   \n",
       "3  'gtftcrefi vooiby dcCe Stad nyt Holland kömtnd...   \n",
       "4  @@@@@@@@@@@@LYDE NS-STOFFEN. @49 6 nu @IMatuö ...   \n",
       "\n",
       "                                          gs_aligned  \n",
       "0   11 Want 8 FEEST- EN is/ ende de @Sone des men...  \n",
       "1   I83 de Gebeurtenissen in I787 enz. voorgevall...  \n",
       "2   94 D. VAN GESSCHER, OVER 'T GENEEZEN DER en d...  \n",
       "3   gistere@n voorby dese Stad uyt Holland komend...  \n",
       "4   D 14 Gy 49 LYDE@NS-STOFFEN. 6 Als nu Pilatus ...  "
      ]
     },
     "execution_count": 6,
     "metadata": {},
     "output_type": "execute_result"
    }
   ],
   "source": [
    "data = pd.DataFrame(data, \n",
    "                    columns = [\"ocr_to_input\", \n",
    "                               \"ocr_aligned\", \n",
    "                               \"gs_aligned\"])\\\n",
    ".assign(ocr_to_input = lambda df: df.ocr_to_input.str.replace(\"[OCR_toInput] \", \"\", regex = False),\n",
    "        ocr_aligned = lambda df: df.ocr_aligned.str.replace(\"[OCR_aligned] \", \"\", regex = False),\n",
    "        gs_aligned = lambda df: df.gs_aligned.str.replace(\"[ GS_aligned] \", \"\", regex = False))\n",
    "\n",
    "print(data.shape)\n",
    "data.head()"
   ]
  },
  {
   "cell_type": "code",
   "execution_count": 7,
   "metadata": {},
   "outputs": [
    {
     "data": {
      "text/html": [
       "<div>\n",
       "<style scoped>\n",
       "    .dataframe tbody tr th:only-of-type {\n",
       "        vertical-align: middle;\n",
       "    }\n",
       "\n",
       "    .dataframe tbody tr th {\n",
       "        vertical-align: top;\n",
       "    }\n",
       "\n",
       "    .dataframe thead th {\n",
       "        text-align: right;\n",
       "    }\n",
       "</style>\n",
       "<table border=\"1\" class=\"dataframe\">\n",
       "  <thead>\n",
       "    <tr style=\"text-align: right;\">\n",
       "      <th></th>\n",
       "      <th>ocr_to_input</th>\n",
       "      <th>ocr_aligned</th>\n",
       "      <th>gs_aligned</th>\n",
       "    </tr>\n",
       "  </thead>\n",
       "  <tbody>\n",
       "    <tr>\n",
       "      <th>count</th>\n",
       "      <td>49.000000</td>\n",
       "      <td>49.000000</td>\n",
       "      <td>49.000000</td>\n",
       "    </tr>\n",
       "    <tr>\n",
       "      <th>mean</th>\n",
       "      <td>4330.265306</td>\n",
       "      <td>4671.775510</td>\n",
       "      <td>4670.775510</td>\n",
       "    </tr>\n",
       "    <tr>\n",
       "      <th>std</th>\n",
       "      <td>3972.999773</td>\n",
       "      <td>4509.177444</td>\n",
       "      <td>4509.177444</td>\n",
       "    </tr>\n",
       "    <tr>\n",
       "      <th>min</th>\n",
       "      <td>522.000000</td>\n",
       "      <td>537.000000</td>\n",
       "      <td>536.000000</td>\n",
       "    </tr>\n",
       "    <tr>\n",
       "      <th>25%</th>\n",
       "      <td>1309.000000</td>\n",
       "      <td>1326.000000</td>\n",
       "      <td>1325.000000</td>\n",
       "    </tr>\n",
       "    <tr>\n",
       "      <th>50%</th>\n",
       "      <td>1915.000000</td>\n",
       "      <td>2031.000000</td>\n",
       "      <td>2030.000000</td>\n",
       "    </tr>\n",
       "    <tr>\n",
       "      <th>75%</th>\n",
       "      <td>6308.000000</td>\n",
       "      <td>7216.000000</td>\n",
       "      <td>7215.000000</td>\n",
       "    </tr>\n",
       "    <tr>\n",
       "      <th>max</th>\n",
       "      <td>12915.000000</td>\n",
       "      <td>17773.000000</td>\n",
       "      <td>17772.000000</td>\n",
       "    </tr>\n",
       "  </tbody>\n",
       "</table>\n",
       "</div>"
      ],
      "text/plain": [
       "       ocr_to_input   ocr_aligned    gs_aligned\n",
       "count     49.000000     49.000000     49.000000\n",
       "mean    4330.265306   4671.775510   4670.775510\n",
       "std     3972.999773   4509.177444   4509.177444\n",
       "min      522.000000    537.000000    536.000000\n",
       "25%     1309.000000   1326.000000   1325.000000\n",
       "50%     1915.000000   2031.000000   2030.000000\n",
       "75%     6308.000000   7216.000000   7215.000000\n",
       "max    12915.000000  17773.000000  17772.000000"
      ]
     },
     "execution_count": 7,
     "metadata": {},
     "output_type": "execute_result"
    }
   ],
   "source": [
    "data.applymap(len).describe()"
   ]
  },
  {
   "cell_type": "code",
   "execution_count": 8,
   "metadata": {},
   "outputs": [
    {
     "name": "stdout",
     "output_type": "stream",
     "text": [
      "157\n"
     ]
    }
   ],
   "source": [
    "vocabulary = Vocabulary(data.ocr_to_input.sum() + data.ocr_aligned.sum() + data.gs_aligned.sum())\n",
    "print(len(vocabulary))"
   ]
  },
  {
   "cell_type": "code",
   "execution_count": 9,
   "metadata": {},
   "outputs": [
    {
     "data": {
      "text/plain": [
       "count      49.000000\n",
       "mean      187.040154\n",
       "std       752.935848\n",
       "min         2.390767\n",
       "25%         8.582817\n",
       "50%        24.123422\n",
       "75%        42.981607\n",
       "max      3790.000000\n",
       "Name: cer, dtype: float64"
      ]
     },
     "execution_count": 9,
     "metadata": {},
     "output_type": "execute_result"
    }
   ],
   "source": [
    "distances = levenshtein(reference = data.gs_aligned.str.replace(\"@\", \"\"), \n",
    "                        hypothesis = data.ocr_to_input)\n",
    "distances.cer.describe()"
   ]
  },
  {
   "cell_type": "code",
   "execution_count": 10,
   "metadata": {},
   "outputs": [
    {
     "data": {
      "text/plain": [
       "count    49.000000\n",
       "mean     27.302321\n",
       "std      24.080204\n",
       "min       2.380952\n",
       "25%       8.519953\n",
       "50%      23.441227\n",
       "75%      38.888889\n",
       "max      97.946768\n",
       "Name: cer, dtype: float64"
      ]
     },
     "execution_count": 10,
     "metadata": {},
     "output_type": "execute_result"
    }
   ],
   "source": [
    "distances = levenshtein(reference = data.gs_aligned, \n",
    "                        hypothesis = data.ocr_to_input)\n",
    "distances.cer.describe()"
   ]
  },
  {
   "cell_type": "code",
   "execution_count": 11,
   "metadata": {},
   "outputs": [],
   "source": [
    "data.to_pickle(\"../../data/nl/data/test.pkl\")"
   ]
  },
  {
   "cell_type": "code",
   "execution_count": null,
   "metadata": {},
   "outputs": [],
   "source": []
  }
 ],
 "metadata": {
  "kernelspec": {
   "display_name": "Python 3",
   "language": "python",
   "name": "python3"
  },
  "language_info": {
   "codemirror_mode": {
    "name": "ipython",
    "version": 3
   },
   "file_extension": ".py",
   "mimetype": "text/x-python",
   "name": "python",
   "nbconvert_exporter": "python",
   "pygments_lexer": "ipython3",
   "version": "3.8.8"
  },
  "toc": {
   "base_numbering": 1,
   "nav_menu": {},
   "number_sections": true,
   "sideBar": true,
   "skip_h1_title": false,
   "title_cell": "Table of Contents",
   "title_sidebar": "Contents",
   "toc_cell": false,
   "toc_position": {},
   "toc_section_display": true,
   "toc_window_display": false
  }
 },
 "nbformat": 4,
 "nbformat_minor": 4
}
