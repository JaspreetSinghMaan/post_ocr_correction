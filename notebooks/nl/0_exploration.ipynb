{
 "cells": [
  {
   "cell_type": "code",
   "execution_count": 1,
   "metadata": {},
   "outputs": [],
   "source": [
    "import os\n",
    "from tqdm.notebook import tqdm\n",
    "from pathlib import Path\n",
    "import pandas as pd\n",
    "from nltk.lm import Vocabulary\n",
    "import sys\n",
    "sys.path.append(\"../../lib\")\n",
    "from metrics import levenshtein\n",
    "import pickle"
   ]
  },
  {
   "cell_type": "code",
   "execution_count": 2,
   "metadata": {},
   "outputs": [],
   "source": [
    "folder = \"../../data/ICDAR2019_POCR_competition_dataset/ICDAR2019_POCR_competition_training_18M_without_Finnish/NL/\""
   ]
  },
  {
   "cell_type": "code",
   "execution_count": 3,
   "metadata": {},
   "outputs": [],
   "source": [
    "output_folder = Path(\"../../data/nl\")"
   ]
  },
  {
   "cell_type": "code",
   "execution_count": 4,
   "metadata": {},
   "outputs": [
    {
     "data": {
      "text/plain": [
       "1"
      ]
     },
     "execution_count": 4,
     "metadata": {},
     "output_type": "execute_result"
    }
   ],
   "source": [
    "files = sorted(os.listdir(folder))\n",
    "len(files)"
   ]
  },
  {
   "cell_type": "code",
   "execution_count": 5,
   "metadata": {},
   "outputs": [
    {
     "data": {
      "text/plain": [
       "149"
      ]
     },
     "execution_count": 5,
     "metadata": {},
     "output_type": "execute_result"
    }
   ],
   "source": [
    "import glob\n",
    "\n",
    "files = glob.glob(folder + '/**/*.txt', recursive=True)\n",
    "len(files)"
   ]
  },
  {
   "cell_type": "code",
   "execution_count": 6,
   "metadata": {},
   "outputs": [
    {
     "data": {
      "application/vnd.jupyter.widget-view+json": {
       "model_id": "f528d778d6ae4cd7ab0a3b5098a664bb",
       "version_major": 2,
       "version_minor": 0
      },
      "text/plain": [
       "  0%|          | 0/149 [00:00<?, ?it/s]"
      ]
     },
     "metadata": {},
     "output_type": "display_data"
    },
    {
     "data": {
      "text/plain": [
       "149"
      ]
     },
     "execution_count": 6,
     "metadata": {},
     "output_type": "execute_result"
    }
   ],
   "source": [
    "from multiprocessing import Pool\n",
    "\n",
    "def extract(name):\n",
    "    with open(name) as file:\n",
    "        return file.readlines()\n",
    "    \n",
    "def create_windows(x):\n",
    "    A, B, window_length = x\n",
    "    assert len(A) == len(B)\n",
    "    return [(A[i:i + window_length], B[i:i + window_length]) \n",
    "            for i in range(len(A) + 1)]\n",
    "    \n",
    "p = Pool(4)\n",
    "    \n",
    "data = list(p.imap_unordered(extract, tqdm(files), chunksize = 128))\n",
    "len(data)"
   ]
  },
  {
   "cell_type": "code",
   "execution_count": 7,
   "metadata": {},
   "outputs": [
    {
     "name": "stdout",
     "output_type": "stream",
     "text": [
      "(149, 3)\n"
     ]
    },
    {
     "data": {
      "text/html": [
       "<div>\n",
       "<style scoped>\n",
       "    .dataframe tbody tr th:only-of-type {\n",
       "        vertical-align: middle;\n",
       "    }\n",
       "\n",
       "    .dataframe tbody tr th {\n",
       "        vertical-align: top;\n",
       "    }\n",
       "\n",
       "    .dataframe thead th {\n",
       "        text-align: right;\n",
       "    }\n",
       "</style>\n",
       "<table border=\"1\" class=\"dataframe\">\n",
       "  <thead>\n",
       "    <tr style=\"text-align: right;\">\n",
       "      <th></th>\n",
       "      <th>ocr_to_input</th>\n",
       "      <th>ocr_aligned</th>\n",
       "      <th>gs_aligned</th>\n",
       "    </tr>\n",
       "  </thead>\n",
       "  <tbody>\n",
       "    <tr>\n",
       "      <th>0</th>\n",
       "      <td>99 16de VERGADERING. — 12 JANUARIJ 1815. Rappo...</td>\n",
       "      <td>@99 @1@@@@@@@@@@@@@@@@@@@@@@@@@@@@@@@@@@@@@@@@...</td>\n",
       "      <td>99 (1) De aanspraak van den heer Elout komt o...</td>\n",
       "    </tr>\n",
       "    <tr>\n",
       "      <th>1</th>\n",
       "      <td>PAARDEH Katipioonachappon üvpqqy Ruiteraport V...</td>\n",
       "      <td>@PAARDE@@@@@@@@@@@@@@@@@H Ka@@@@@@@@@@@@@@@@@@...</td>\n",
       "      <td>PAARDEN Tweede afdeeling Manchester United-Co...</td>\n",
       "    </tr>\n",
       "    <tr>\n",
       "      <th>2</th>\n",
       "      <td>(N*. UIL) 439 XIII. Zamenstélling der regterli...</td>\n",
       "      <td>(N*. UIL) 439 XIII. Zamenstélling der regterli...</td>\n",
       "      <td>@@@@@@@@@@@@@@@@@@@@@@@@@@@@@@@@@@@@@@@@@@@@@@...</td>\n",
       "    </tr>\n",
       "    <tr>\n",
       "      <th>3</th>\n",
       "      <td>32 7dk VERGADERING. - 23 NOVEMBER 1814. Bereke...</td>\n",
       "      <td>32 7dk VERGADERING. - 23 NOVEMBER 1814. Bereke...</td>\n",
       "      <td>@@@@@@@@@@@@@@@@@@@@@ @3@@@@@@@@@@@@@@@@@@@@@@...</td>\n",
       "    </tr>\n",
       "    <tr>\n",
       "      <th>4</th>\n",
       "      <td>LYDÊNS-STOFFEN. $;i knecht des Hoogenpriesters...</td>\n",
       "      <td>LYDÊNS-STOFFEN. $;i knecht des Hoogenpriesters...</td>\n",
       "      <td>@@@@@@@@@@@@@@@@@@@ knecht des Hoogenpriesters...</td>\n",
       "    </tr>\n",
       "  </tbody>\n",
       "</table>\n",
       "</div>"
      ],
      "text/plain": [
       "                                        ocr_to_input  \\\n",
       "0  99 16de VERGADERING. — 12 JANUARIJ 1815. Rappo...   \n",
       "1  PAARDEH Katipioonachappon üvpqqy Ruiteraport V...   \n",
       "2  (N*. UIL) 439 XIII. Zamenstélling der regterli...   \n",
       "3  32 7dk VERGADERING. - 23 NOVEMBER 1814. Bereke...   \n",
       "4  LYDÊNS-STOFFEN. $;i knecht des Hoogenpriesters...   \n",
       "\n",
       "                                         ocr_aligned  \\\n",
       "0  @99 @1@@@@@@@@@@@@@@@@@@@@@@@@@@@@@@@@@@@@@@@@...   \n",
       "1  @PAARDE@@@@@@@@@@@@@@@@@H Ka@@@@@@@@@@@@@@@@@@...   \n",
       "2  (N*. UIL) 439 XIII. Zamenstélling der regterli...   \n",
       "3  32 7dk VERGADERING. - 23 NOVEMBER 1814. Bereke...   \n",
       "4  LYDÊNS-STOFFEN. $;i knecht des Hoogenpriesters...   \n",
       "\n",
       "                                          gs_aligned  \n",
       "0   99 (1) De aanspraak van den heer Elout komt o...  \n",
       "1   PAARDEN Tweede afdeeling Manchester United-Co...  \n",
       "2  @@@@@@@@@@@@@@@@@@@@@@@@@@@@@@@@@@@@@@@@@@@@@@...  \n",
       "3  @@@@@@@@@@@@@@@@@@@@@ @3@@@@@@@@@@@@@@@@@@@@@@...  \n",
       "4  @@@@@@@@@@@@@@@@@@@ knecht des Hoogenpriesters...  "
      ]
     },
     "execution_count": 7,
     "metadata": {},
     "output_type": "execute_result"
    }
   ],
   "source": [
    "# data = []\n",
    "# for f in tqdm(files):\n",
    "#     with open(f) as file:\n",
    "#         data.append(file.readlines())\n",
    "\n",
    "data = pd.DataFrame(data, \n",
    "                    columns = [\"ocr_to_input\", \n",
    "                               \"ocr_aligned\", \n",
    "                               \"gs_aligned\"])\\\n",
    ".assign(ocr_to_input = lambda df: df.ocr_to_input.str.replace(\"[OCR_toInput] \", \"\", regex = False),\n",
    "        ocr_aligned = lambda df: df.ocr_aligned.str.replace(\"[OCR_aligned] \", \"\", regex = False),\n",
    "        gs_aligned = lambda df: df.gs_aligned.str.replace(\"[ GS_aligned] \", \"\", regex = False))\n",
    "\n",
    "print(data.shape)\n",
    "data.head()"
   ]
  },
  {
   "cell_type": "code",
   "execution_count": 8,
   "metadata": {},
   "outputs": [
    {
     "data": {
      "text/html": [
       "<div>\n",
       "<style scoped>\n",
       "    .dataframe tbody tr th:only-of-type {\n",
       "        vertical-align: middle;\n",
       "    }\n",
       "\n",
       "    .dataframe tbody tr th {\n",
       "        vertical-align: top;\n",
       "    }\n",
       "\n",
       "    .dataframe thead th {\n",
       "        text-align: right;\n",
       "    }\n",
       "</style>\n",
       "<table border=\"1\" class=\"dataframe\">\n",
       "  <thead>\n",
       "    <tr style=\"text-align: right;\">\n",
       "      <th></th>\n",
       "      <th>ocr_to_input</th>\n",
       "      <th>ocr_aligned</th>\n",
       "      <th>gs_aligned</th>\n",
       "    </tr>\n",
       "  </thead>\n",
       "  <tbody>\n",
       "    <tr>\n",
       "      <th>count</th>\n",
       "      <td>149.000000</td>\n",
       "      <td>149.000000</td>\n",
       "      <td>149.000000</td>\n",
       "    </tr>\n",
       "    <tr>\n",
       "      <th>mean</th>\n",
       "      <td>4275.597315</td>\n",
       "      <td>4616.543624</td>\n",
       "      <td>4616.543624</td>\n",
       "    </tr>\n",
       "    <tr>\n",
       "      <th>std</th>\n",
       "      <td>3328.913843</td>\n",
       "      <td>3646.668097</td>\n",
       "      <td>3646.668097</td>\n",
       "    </tr>\n",
       "    <tr>\n",
       "      <th>min</th>\n",
       "      <td>42.000000</td>\n",
       "      <td>42.000000</td>\n",
       "      <td>42.000000</td>\n",
       "    </tr>\n",
       "    <tr>\n",
       "      <th>25%</th>\n",
       "      <td>1573.000000</td>\n",
       "      <td>1593.000000</td>\n",
       "      <td>1593.000000</td>\n",
       "    </tr>\n",
       "    <tr>\n",
       "      <th>50%</th>\n",
       "      <td>2963.000000</td>\n",
       "      <td>3129.000000</td>\n",
       "      <td>3129.000000</td>\n",
       "    </tr>\n",
       "    <tr>\n",
       "      <th>75%</th>\n",
       "      <td>6765.000000</td>\n",
       "      <td>7164.000000</td>\n",
       "      <td>7164.000000</td>\n",
       "    </tr>\n",
       "    <tr>\n",
       "      <th>max</th>\n",
       "      <td>14708.000000</td>\n",
       "      <td>16028.000000</td>\n",
       "      <td>16028.000000</td>\n",
       "    </tr>\n",
       "  </tbody>\n",
       "</table>\n",
       "</div>"
      ],
      "text/plain": [
       "       ocr_to_input   ocr_aligned    gs_aligned\n",
       "count    149.000000    149.000000    149.000000\n",
       "mean    4275.597315   4616.543624   4616.543624\n",
       "std     3328.913843   3646.668097   3646.668097\n",
       "min       42.000000     42.000000     42.000000\n",
       "25%     1573.000000   1593.000000   1593.000000\n",
       "50%     2963.000000   3129.000000   3129.000000\n",
       "75%     6765.000000   7164.000000   7164.000000\n",
       "max    14708.000000  16028.000000  16028.000000"
      ]
     },
     "execution_count": 8,
     "metadata": {},
     "output_type": "execute_result"
    }
   ],
   "source": [
    "data.applymap(len).describe()"
   ]
  },
  {
   "cell_type": "code",
   "execution_count": 9,
   "metadata": {},
   "outputs": [
    {
     "data": {
      "text/plain": [
       "count     149.000000\n",
       "mean      174.060130\n",
       "std       783.880180\n",
       "min         0.361141\n",
       "25%         6.142668\n",
       "50%        28.063660\n",
       "75%        47.859025\n",
       "max      5250.000000\n",
       "Name: cer, dtype: float64"
      ]
     },
     "execution_count": 9,
     "metadata": {},
     "output_type": "execute_result"
    }
   ],
   "source": [
    "levenshtein(reference = data.gs_aligned.str.replace(\"@\", \"\"), \n",
    "            hypothesis = data.ocr_to_input).cer.describe()"
   ]
  },
  {
   "cell_type": "code",
   "execution_count": 10,
   "metadata": {},
   "outputs": [
    {
     "data": {
      "text/plain": [
       "count    149.000000\n",
       "mean      28.376282\n",
       "std       25.365501\n",
       "min        0.361141\n",
       "25%        6.090373\n",
       "50%       26.360519\n",
       "75%       43.360191\n",
       "max       99.290780\n",
       "Name: cer, dtype: float64"
      ]
     },
     "execution_count": 10,
     "metadata": {},
     "output_type": "execute_result"
    }
   ],
   "source": [
    "levenshtein(reference = data.gs_aligned, \n",
    "            hypothesis = data.ocr_aligned).cer.describe()"
   ]
  },
  {
   "cell_type": "code",
   "execution_count": 11,
   "metadata": {},
   "outputs": [
    {
     "name": "stdout",
     "output_type": "stream",
     "text": [
      "170\n"
     ]
    }
   ],
   "source": [
    "vocabulary = Vocabulary(data.ocr_to_input.sum() + data.ocr_aligned.sum() + data.gs_aligned.sum())\n",
    "print(len(vocabulary))\n",
    "with open(output_folder/\"data/vocabulary.pkl\", \"wb\") as file:\n",
    "    pickle.dump(vocabulary, file)"
   ]
  },
  {
   "cell_type": "code",
   "execution_count": 12,
   "metadata": {},
   "outputs": [
    {
     "data": {
      "text/plain": [
       "(5, 3)"
      ]
     },
     "execution_count": 12,
     "metadata": {},
     "output_type": "execute_result"
    }
   ],
   "source": [
    "dev = data.sample(n = 5, random_state = 1)\n",
    "dev.to_pickle(output_folder/\"data/dev.pkl\")\n",
    "dev.shape"
   ]
  },
  {
   "cell_type": "code",
   "execution_count": 13,
   "metadata": {},
   "outputs": [
    {
     "data": {
      "text/plain": [
       "(144, 3)"
      ]
     },
     "execution_count": 13,
     "metadata": {},
     "output_type": "execute_result"
    }
   ],
   "source": [
    "train = data.drop(dev.index)\n",
    "train.to_pickle(output_folder/\"data/train.pkl\")\n",
    "train.shape"
   ]
  },
  {
   "cell_type": "code",
   "execution_count": null,
   "metadata": {},
   "outputs": [],
   "source": []
  },
  {
   "cell_type": "code",
   "execution_count": 14,
   "metadata": {},
   "outputs": [
    {
     "data": {
      "text/html": [
       "<div>\n",
       "<style scoped>\n",
       "    .dataframe tbody tr th:only-of-type {\n",
       "        vertical-align: middle;\n",
       "    }\n",
       "\n",
       "    .dataframe tbody tr th {\n",
       "        vertical-align: top;\n",
       "    }\n",
       "\n",
       "    .dataframe thead th {\n",
       "        text-align: right;\n",
       "    }\n",
       "</style>\n",
       "<table border=\"1\" class=\"dataframe\">\n",
       "  <thead>\n",
       "    <tr style=\"text-align: right;\">\n",
       "      <th></th>\n",
       "      <th>ocr_to_input</th>\n",
       "      <th>ocr_aligned</th>\n",
       "      <th>gs_aligned</th>\n",
       "    </tr>\n",
       "  </thead>\n",
       "  <tbody>\n",
       "    <tr>\n",
       "      <th>count</th>\n",
       "      <td>5.000000</td>\n",
       "      <td>5.000000</td>\n",
       "      <td>5.000000</td>\n",
       "    </tr>\n",
       "    <tr>\n",
       "      <th>mean</th>\n",
       "      <td>4343.000000</td>\n",
       "      <td>4902.000000</td>\n",
       "      <td>4902.000000</td>\n",
       "    </tr>\n",
       "    <tr>\n",
       "      <th>std</th>\n",
       "      <td>2796.406176</td>\n",
       "      <td>3156.806456</td>\n",
       "      <td>3156.806456</td>\n",
       "    </tr>\n",
       "    <tr>\n",
       "      <th>min</th>\n",
       "      <td>1653.000000</td>\n",
       "      <td>1669.000000</td>\n",
       "      <td>1669.000000</td>\n",
       "    </tr>\n",
       "    <tr>\n",
       "      <th>25%</th>\n",
       "      <td>2711.000000</td>\n",
       "      <td>3061.000000</td>\n",
       "      <td>3061.000000</td>\n",
       "    </tr>\n",
       "    <tr>\n",
       "      <th>50%</th>\n",
       "      <td>2824.000000</td>\n",
       "      <td>3666.000000</td>\n",
       "      <td>3666.000000</td>\n",
       "    </tr>\n",
       "    <tr>\n",
       "      <th>75%</th>\n",
       "      <td>6260.000000</td>\n",
       "      <td>6543.000000</td>\n",
       "      <td>6543.000000</td>\n",
       "    </tr>\n",
       "    <tr>\n",
       "      <th>max</th>\n",
       "      <td>8267.000000</td>\n",
       "      <td>9571.000000</td>\n",
       "      <td>9571.000000</td>\n",
       "    </tr>\n",
       "  </tbody>\n",
       "</table>\n",
       "</div>"
      ],
      "text/plain": [
       "       ocr_to_input  ocr_aligned   gs_aligned\n",
       "count      5.000000     5.000000     5.000000\n",
       "mean    4343.000000  4902.000000  4902.000000\n",
       "std     2796.406176  3156.806456  3156.806456\n",
       "min     1653.000000  1669.000000  1669.000000\n",
       "25%     2711.000000  3061.000000  3061.000000\n",
       "50%     2824.000000  3666.000000  3666.000000\n",
       "75%     6260.000000  6543.000000  6543.000000\n",
       "max     8267.000000  9571.000000  9571.000000"
      ]
     },
     "execution_count": 14,
     "metadata": {},
     "output_type": "execute_result"
    }
   ],
   "source": [
    "dev.applymap(len).describe()"
   ]
  },
  {
   "cell_type": "code",
   "execution_count": 15,
   "metadata": {},
   "outputs": [
    {
     "data": {
      "text/plain": [
       "count     5.000000\n",
       "mean     41.297091\n",
       "std      26.052941\n",
       "min       3.850782\n",
       "25%      31.143991\n",
       "50%      39.770524\n",
       "75%      65.268346\n",
       "max      66.451811\n",
       "Name: cer, dtype: float64"
      ]
     },
     "execution_count": 15,
     "metadata": {},
     "output_type": "execute_result"
    }
   ],
   "source": [
    "levenshtein(reference = dev.gs_aligned.str.replace(\"@\", \"\"), \n",
    "            hypothesis = dev.ocr_to_input).cer.describe()"
   ]
  },
  {
   "cell_type": "code",
   "execution_count": 16,
   "metadata": {},
   "outputs": [
    {
     "data": {
      "text/plain": [
       "count     5.000000\n",
       "mean     38.188531\n",
       "std      23.955090\n",
       "min       3.834632\n",
       "25%      28.193401\n",
       "50%      37.597432\n",
       "75%      59.056192\n",
       "max      62.260997\n",
       "Name: cer, dtype: float64"
      ]
     },
     "execution_count": 16,
     "metadata": {},
     "output_type": "execute_result"
    }
   ],
   "source": [
    "levenshtein(reference = dev.gs_aligned, \n",
    "            hypothesis = dev.ocr_to_input).cer.describe()"
   ]
  },
  {
   "cell_type": "code",
   "execution_count": 17,
   "metadata": {},
   "outputs": [],
   "source": [
    "window_length = 100"
   ]
  },
  {
   "cell_type": "code",
   "execution_count": 18,
   "metadata": {},
   "outputs": [
    {
     "data": {
      "application/vnd.jupyter.widget-view+json": {
       "model_id": "12aa2b30166a4438a0ee07a3bc575dba",
       "version_major": 2,
       "version_minor": 0
      },
      "text/plain": [
       "  0%|          | 0/144 [00:00<?, ?it/s]"
      ]
     },
     "metadata": {},
     "output_type": "display_data"
    },
    {
     "data": {
      "application/vnd.jupyter.widget-view+json": {
       "model_id": "4684e690f9ba4e0cb9b9a248ac43b3a9",
       "version_major": 2,
       "version_minor": 0
      },
      "text/plain": [
       "  0%|          | 0/144 [00:00<?, ?it/s]"
      ]
     },
     "metadata": {},
     "output_type": "display_data"
    },
    {
     "name": "stdout",
     "output_type": "stream",
     "text": [
      "(663499, 2)\n"
     ]
    },
    {
     "data": {
      "text/html": [
       "<div>\n",
       "<style scoped>\n",
       "    .dataframe tbody tr th:only-of-type {\n",
       "        vertical-align: middle;\n",
       "    }\n",
       "\n",
       "    .dataframe tbody tr th {\n",
       "        vertical-align: top;\n",
       "    }\n",
       "\n",
       "    .dataframe thead th {\n",
       "        text-align: right;\n",
       "    }\n",
       "</style>\n",
       "<table border=\"1\" class=\"dataframe\">\n",
       "  <thead>\n",
       "    <tr style=\"text-align: right;\">\n",
       "      <th></th>\n",
       "      <th>source</th>\n",
       "      <th>target</th>\n",
       "    </tr>\n",
       "  </thead>\n",
       "  <tbody>\n",
       "    <tr>\n",
       "      <th>0</th>\n",
       "      <td>C U ) \\ maaltyd.kort gemaakt te hebben , naar ...</td>\n",
       "      <td>@@@@@@@ maaltyd kort gemaakt te hebben@, naar ...</td>\n",
       "    </tr>\n",
       "    <tr>\n",
       "      <th>1</th>\n",
       "      <td>U ) \\ maaltyd.kort gemaakt te hebben , naar d...</td>\n",
       "      <td>@@@@@@ maaltyd kort gemaakt te hebben@, naar d...</td>\n",
       "    </tr>\n",
       "    <tr>\n",
       "      <th>2</th>\n",
       "      <td>U ) \\ maaltyd.kort gemaakt te hebben , naar de...</td>\n",
       "      <td>@@@@@ maaltyd kort gemaakt te hebben@, naar de...</td>\n",
       "    </tr>\n",
       "    <tr>\n",
       "      <th>3</th>\n",
       "      <td>) \\ maaltyd.kort gemaakt te hebben , naar de ...</td>\n",
       "      <td>@@@@ maaltyd kort gemaakt te hebben@, naar de ...</td>\n",
       "    </tr>\n",
       "    <tr>\n",
       "      <th>4</th>\n",
       "      <td>) \\ maaltyd.kort gemaakt te hebben , naar de h...</td>\n",
       "      <td>@@@ maaltyd kort gemaakt te hebben@, naar de h...</td>\n",
       "    </tr>\n",
       "  </tbody>\n",
       "</table>\n",
       "</div>"
      ],
      "text/plain": [
       "                                              source  \\\n",
       "0  C U ) \\ maaltyd.kort gemaakt te hebben , naar ...   \n",
       "1   U ) \\ maaltyd.kort gemaakt te hebben , naar d...   \n",
       "2  U ) \\ maaltyd.kort gemaakt te hebben , naar de...   \n",
       "3   ) \\ maaltyd.kort gemaakt te hebben , naar de ...   \n",
       "4  ) \\ maaltyd.kort gemaakt te hebben , naar de h...   \n",
       "\n",
       "                                              target  \n",
       "0  @@@@@@@ maaltyd kort gemaakt te hebben@, naar ...  \n",
       "1  @@@@@@ maaltyd kort gemaakt te hebben@, naar d...  \n",
       "2  @@@@@ maaltyd kort gemaakt te hebben@, naar de...  \n",
       "3  @@@@ maaltyd kort gemaakt te hebben@, naar de ...  \n",
       "4  @@@ maaltyd kort gemaakt te hebben@, naar de h...  "
      ]
     },
     "execution_count": 18,
     "metadata": {},
     "output_type": "execute_result"
    }
   ],
   "source": [
    "df = train#.head(100)\n",
    "train_aligned = list(p.imap_unordered(create_windows, \n",
    "                                      tqdm(zip(df.ocr_aligned, \n",
    "                                               df.gs_aligned, \n",
    "                                               [window_length for x in df.ocr_aligned]), \n",
    "                                           total = len(df.ocr_aligned)),\n",
    "                                      chunksize = 128))\n",
    "s = []\n",
    "for r in tqdm(train_aligned):\n",
    "    s.extend(r)\n",
    "train_aligned = pd.DataFrame(s, columns = [\"source\", \"target\"])\n",
    "print(train_aligned.shape)\n",
    "train_aligned.head()"
   ]
  },
  {
   "cell_type": "code",
   "execution_count": 19,
   "metadata": {},
   "outputs": [
    {
     "data": {
      "text/html": [
       "<div>\n",
       "<style scoped>\n",
       "    .dataframe tbody tr th:only-of-type {\n",
       "        vertical-align: middle;\n",
       "    }\n",
       "\n",
       "    .dataframe tbody tr th {\n",
       "        vertical-align: top;\n",
       "    }\n",
       "\n",
       "    .dataframe thead th {\n",
       "        text-align: right;\n",
       "    }\n",
       "</style>\n",
       "<table border=\"1\" class=\"dataframe\">\n",
       "  <thead>\n",
       "    <tr style=\"text-align: right;\">\n",
       "      <th></th>\n",
       "      <th>source</th>\n",
       "      <th>target</th>\n",
       "    </tr>\n",
       "  </thead>\n",
       "  <tbody>\n",
       "    <tr>\n",
       "      <th>0</th>\n",
       "      <td>C U ) \\ maaltyd.kort gemaakt te hebben , naar ...</td>\n",
       "      <td>@@@@@@@ maaltyd kort gemaakt te hebben@, naar ...</td>\n",
       "    </tr>\n",
       "    <tr>\n",
       "      <th>1</th>\n",
       "      <td>U ) \\ maaltyd.kort gemaakt te hebben , naar d...</td>\n",
       "      <td>@@@@@@ maaltyd kort gemaakt te hebben@, naar d...</td>\n",
       "    </tr>\n",
       "    <tr>\n",
       "      <th>2</th>\n",
       "      <td>U ) \\ maaltyd.kort gemaakt te hebben , naar de...</td>\n",
       "      <td>@@@@@ maaltyd kort gemaakt te hebben@, naar de...</td>\n",
       "    </tr>\n",
       "    <tr>\n",
       "      <th>3</th>\n",
       "      <td>) \\ maaltyd.kort gemaakt te hebben , naar de ...</td>\n",
       "      <td>@@@@ maaltyd kort gemaakt te hebben@, naar de ...</td>\n",
       "    </tr>\n",
       "    <tr>\n",
       "      <th>4</th>\n",
       "      <td>) \\ maaltyd.kort gemaakt te hebben , naar de h...</td>\n",
       "      <td>@@@ maaltyd kort gemaakt te hebben@, naar de h...</td>\n",
       "    </tr>\n",
       "  </tbody>\n",
       "</table>\n",
       "</div>"
      ],
      "text/plain": [
       "                                              source  \\\n",
       "0  C U ) \\ maaltyd.kort gemaakt te hebben , naar ...   \n",
       "1   U ) \\ maaltyd.kort gemaakt te hebben , naar d...   \n",
       "2  U ) \\ maaltyd.kort gemaakt te hebben , naar de...   \n",
       "3   ) \\ maaltyd.kort gemaakt te hebben , naar de ...   \n",
       "4  ) \\ maaltyd.kort gemaakt te hebben , naar de h...   \n",
       "\n",
       "                                              target  \n",
       "0  @@@@@@@ maaltyd kort gemaakt te hebben@, naar ...  \n",
       "1  @@@@@@ maaltyd kort gemaakt te hebben@, naar d...  \n",
       "2  @@@@@ maaltyd kort gemaakt te hebben@, naar de...  \n",
       "3  @@@@ maaltyd kort gemaakt te hebben@, naar de ...  \n",
       "4  @@@ maaltyd kort gemaakt te hebben@, naar de h...  "
      ]
     },
     "execution_count": 19,
     "metadata": {},
     "output_type": "execute_result"
    }
   ],
   "source": [
    "train_aligned = train_aligned.assign(source = lambda df: df.source.str.replace(\"@\", \"\"))\n",
    "train_aligned.head()"
   ]
  },
  {
   "cell_type": "code",
   "execution_count": 20,
   "metadata": {},
   "outputs": [
    {
     "name": "stdout",
     "output_type": "stream",
     "text": [
      "(24515, 2)\n"
     ]
    },
    {
     "data": {
      "text/html": [
       "<div>\n",
       "<style scoped>\n",
       "    .dataframe tbody tr th:only-of-type {\n",
       "        vertical-align: middle;\n",
       "    }\n",
       "\n",
       "    .dataframe tbody tr th {\n",
       "        vertical-align: top;\n",
       "    }\n",
       "\n",
       "    .dataframe thead th {\n",
       "        text-align: right;\n",
       "    }\n",
       "</style>\n",
       "<table border=\"1\" class=\"dataframe\">\n",
       "  <thead>\n",
       "    <tr style=\"text-align: right;\">\n",
       "      <th></th>\n",
       "      <th>source</th>\n",
       "      <th>target</th>\n",
       "    </tr>\n",
       "  </thead>\n",
       "  <tbody>\n",
       "    <tr>\n",
       "      <th>0</th>\n",
       "      <td>t VERANTWOORDING. 7I Iaatfde woorden gaf ik du...</td>\n",
       "      <td>@ VERANTWOORDING. 7I laatste woorden gaf ik du...</td>\n",
       "    </tr>\n",
       "    <tr>\n",
       "      <th>1</th>\n",
       "      <td>VERANTWOORDING. 7I Iaatfde woorden gaf ik dui...</td>\n",
       "      <td>VERANTWOORDING. 7I laatste woorden gaf ik dui...</td>\n",
       "    </tr>\n",
       "    <tr>\n",
       "      <th>2</th>\n",
       "      <td>VERANTWOORDING. 7I Iaatfde woorden gaf ik duid...</td>\n",
       "      <td>VERANTWOORDING. 7I laatste woorden gaf ik duid...</td>\n",
       "    </tr>\n",
       "    <tr>\n",
       "      <th>3</th>\n",
       "      <td>ERANTWOORDING. 7I Iaatfde woorden gaf ik duide...</td>\n",
       "      <td>ERANTWOORDING. 7I laatste woorden gaf ik duide...</td>\n",
       "    </tr>\n",
       "    <tr>\n",
       "      <th>4</th>\n",
       "      <td>RANTWOORDING. 7I Iaatfde woorden gaf ik duidel...</td>\n",
       "      <td>RANTWOORDING. 7I laatste woorden gaf ik duidel...</td>\n",
       "    </tr>\n",
       "  </tbody>\n",
       "</table>\n",
       "</div>"
      ],
      "text/plain": [
       "                                              source  \\\n",
       "0  t VERANTWOORDING. 7I Iaatfde woorden gaf ik du...   \n",
       "1   VERANTWOORDING. 7I Iaatfde woorden gaf ik dui...   \n",
       "2  VERANTWOORDING. 7I Iaatfde woorden gaf ik duid...   \n",
       "3  ERANTWOORDING. 7I Iaatfde woorden gaf ik duide...   \n",
       "4  RANTWOORDING. 7I Iaatfde woorden gaf ik duidel...   \n",
       "\n",
       "                                              target  \n",
       "0  @ VERANTWOORDING. 7I laatste woorden gaf ik du...  \n",
       "1   VERANTWOORDING. 7I laatste woorden gaf ik dui...  \n",
       "2  VERANTWOORDING. 7I laatste woorden gaf ik duid...  \n",
       "3  ERANTWOORDING. 7I laatste woorden gaf ik duide...  \n",
       "4  RANTWOORDING. 7I laatste woorden gaf ik duidel...  "
      ]
     },
     "execution_count": 20,
     "metadata": {},
     "output_type": "execute_result"
    }
   ],
   "source": [
    "dev_aligned = dev.apply(lambda r: create_windows((r[\"ocr_aligned\"], r[\"gs_aligned\"], window_length)), \n",
    "                            axis = 1).sum()\n",
    "dev_aligned = pd.DataFrame(dev_aligned, columns = [\"source\", \"target\"])\n",
    "print(dev_aligned.shape)\n",
    "dev_aligned.head()"
   ]
  },
  {
   "cell_type": "code",
   "execution_count": 21,
   "metadata": {},
   "outputs": [
    {
     "data": {
      "text/html": [
       "<div>\n",
       "<style scoped>\n",
       "    .dataframe tbody tr th:only-of-type {\n",
       "        vertical-align: middle;\n",
       "    }\n",
       "\n",
       "    .dataframe tbody tr th {\n",
       "        vertical-align: top;\n",
       "    }\n",
       "\n",
       "    .dataframe thead th {\n",
       "        text-align: right;\n",
       "    }\n",
       "</style>\n",
       "<table border=\"1\" class=\"dataframe\">\n",
       "  <thead>\n",
       "    <tr style=\"text-align: right;\">\n",
       "      <th></th>\n",
       "      <th>source</th>\n",
       "      <th>target</th>\n",
       "    </tr>\n",
       "  </thead>\n",
       "  <tbody>\n",
       "    <tr>\n",
       "      <th>0</th>\n",
       "      <td>t VERANTWOORDING. 7I Iaatfde woorden gaf ik du...</td>\n",
       "      <td>@ VERANTWOORDING. 7I laatste woorden gaf ik du...</td>\n",
       "    </tr>\n",
       "    <tr>\n",
       "      <th>1</th>\n",
       "      <td>VERANTWOORDING. 7I Iaatfde woorden gaf ik dui...</td>\n",
       "      <td>VERANTWOORDING. 7I laatste woorden gaf ik dui...</td>\n",
       "    </tr>\n",
       "    <tr>\n",
       "      <th>2</th>\n",
       "      <td>VERANTWOORDING. 7I Iaatfde woorden gaf ik duid...</td>\n",
       "      <td>VERANTWOORDING. 7I laatste woorden gaf ik duid...</td>\n",
       "    </tr>\n",
       "    <tr>\n",
       "      <th>3</th>\n",
       "      <td>ERANTWOORDING. 7I Iaatfde woorden gaf ik duide...</td>\n",
       "      <td>ERANTWOORDING. 7I laatste woorden gaf ik duide...</td>\n",
       "    </tr>\n",
       "    <tr>\n",
       "      <th>4</th>\n",
       "      <td>RANTWOORDING. 7I Iaatfde woorden gaf ik duidel...</td>\n",
       "      <td>RANTWOORDING. 7I laatste woorden gaf ik duidel...</td>\n",
       "    </tr>\n",
       "  </tbody>\n",
       "</table>\n",
       "</div>"
      ],
      "text/plain": [
       "                                              source  \\\n",
       "0  t VERANTWOORDING. 7I Iaatfde woorden gaf ik du...   \n",
       "1   VERANTWOORDING. 7I Iaatfde woorden gaf ik dui...   \n",
       "2  VERANTWOORDING. 7I Iaatfde woorden gaf ik duid...   \n",
       "3  ERANTWOORDING. 7I Iaatfde woorden gaf ik duide...   \n",
       "4  RANTWOORDING. 7I Iaatfde woorden gaf ik duidel...   \n",
       "\n",
       "                                              target  \n",
       "0  @ VERANTWOORDING. 7I laatste woorden gaf ik du...  \n",
       "1   VERANTWOORDING. 7I laatste woorden gaf ik dui...  \n",
       "2  VERANTWOORDING. 7I laatste woorden gaf ik duid...  \n",
       "3  ERANTWOORDING. 7I laatste woorden gaf ik duide...  \n",
       "4  RANTWOORDING. 7I laatste woorden gaf ik duidel...  "
      ]
     },
     "execution_count": 21,
     "metadata": {},
     "output_type": "execute_result"
    }
   ],
   "source": [
    "dev_aligned = dev_aligned.assign(source = lambda df: df.source.str.replace(\"@\", \"\"))\n",
    "dev_aligned.head()"
   ]
  },
  {
   "cell_type": "code",
   "execution_count": 22,
   "metadata": {},
   "outputs": [],
   "source": [
    "train_aligned.to_pickle(output_folder/\"data/train_aligned.pkl\")\n",
    "dev_aligned.to_pickle(output_folder/\"data/dev_aligned.pkl\")"
   ]
  }
 ],
 "metadata": {
  "kernelspec": {
   "display_name": "Python 3",
   "language": "python",
   "name": "python3"
  },
  "language_info": {
   "codemirror_mode": {
    "name": "ipython",
    "version": 3
   },
   "file_extension": ".py",
   "mimetype": "text/x-python",
   "name": "python",
   "nbconvert_exporter": "python",
   "pygments_lexer": "ipython3",
   "version": "3.8.8"
  },
  "toc": {
   "base_numbering": 1,
   "nav_menu": {},
   "number_sections": true,
   "sideBar": true,
   "skip_h1_title": false,
   "title_cell": "Table of Contents",
   "title_sidebar": "Contents",
   "toc_cell": false,
   "toc_position": {},
   "toc_section_display": true,
   "toc_window_display": false
  }
 },
 "nbformat": 4,
 "nbformat_minor": 4
}
