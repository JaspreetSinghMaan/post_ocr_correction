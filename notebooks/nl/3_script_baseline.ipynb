{
 "cells": [
  {
   "cell_type": "code",
   "execution_count": 2,
   "metadata": {},
   "outputs": [
    {
     "name": "stdout",
     "output_type": "stream",
     "text": [
      "main folder:/home/jarobyte/scratch/guemes/icdar/nl/\n",
      "output folder:baseline\n",
      "\n",
      "Model: Transformer\n",
      "Tokens in the input vocabulary: 173\n",
      "Tokens in the output vocabulary: 173\n",
      "Max sequence length: 110\n",
      "Embedding dimension: 256\n",
      "Feedforward dimension: 1024\n",
      "Encoder layers: 4\n",
      "Decoder layers: 4\n",
      "Attention heads: 8\n",
      "Activation: relu\n",
      "Dropout: 0.3\n",
      "Trainable parameters: 7,535,021\n",
      "\n",
      "Training started\n",
      "Epochs: 10\n",
      "Learning rate: 0.0001\n",
      "Weight decay: 0.001\n",
      "Epoch | Train                 | Development           | Minutes\n",
      "      | Loss     | Error Rate | Loss     | Error Rate |\n",
      "---------------------------------------------------------------\n",
      "    1 |   4.2044 |     85.455 |   4.4425 |     94.376 |     0.0\n",
      "    2 |   3.5962 |     83.505 |   4.3518 |     94.455 |     0.0\n",
      "    3 |   3.4276 |     83.166 |   4.3324 |     94.673 |     0.1\n",
      "    4 |   3.3212 |     82.493 |   4.3407 |     92.851 |     0.1\n",
      "    5 |   3.2172 |     80.373 |   4.3053 |     87.248 |     0.1\n",
      "    6 |   3.0786 |     76.910 |   4.2820 |     86.436 |     0.1\n",
      "    7 |   2.9275 |     74.317 |   4.2346 |     84.297 |     0.1\n",
      "    8 |   2.7944 |     72.357 |   4.1980 |     81.257 |     0.1\n",
      "    9 |   2.6876 |     70.908 |   4.1914 |     79.673 |     0.2\n",
      "   10 |   2.5949 |     69.745 |   4.1862 |     78.644 |     0.2\n",
      "\n",
      "Evaluating model..\n",
      "disjoint window...\n",
      "greedy_search...\n",
      "beam_search...\n",
      "sliding, greedy...\n",
      "uniform...\n",
      "triangle...\n",
      "bell...\n",
      "sliding, beam...\n",
      "uniform...\n",
      "triangle...\n",
      "bell...\n",
      "  experiment_id  improvement    window decoding  window_size  \\\n",
      "0          test  -141.661029  disjoint   greedy           10   \n",
      "1          test  -126.811831  disjoint   greedy            5   \n",
      "2          test  -115.921348  disjoint     beam           10   \n",
      "3          test  -115.434771  disjoint     beam            5   \n",
      "4          test  -140.690790   sliding   greedy            5   \n",
      "5          test  -143.511507   sliding   greedy            5   \n",
      "6          test  -143.889561   sliding   greedy            5   \n",
      "7          test  -129.429366   sliding     beam            5   \n",
      "8          test  -124.930867   sliding     beam            5   \n",
      "9          test  -126.996629   sliding     beam            5   \n",
      "\n",
      "   inference_seconds  cer_before  cer_after weighting  \n",
      "0           2.091169   32.629083  78.851777       NaN  \n",
      "1           1.980470   32.629083  74.006620       NaN  \n",
      "2          17.197493   32.629083  70.453156       NaN  \n",
      "3          15.408788   32.629083  70.294390       NaN  \n",
      "4          11.892265   32.629083  78.535197   uniform  \n",
      "5          11.897778   32.629083  79.455571  triangle  \n",
      "6          11.947964   32.629083  79.578927      bell  \n",
      "7          77.966244   32.629083  74.860698   uniform  \n",
      "8          77.594263   32.629083  73.392879  triangle  \n",
      "9          75.299738   32.629083  74.066918      bell  \n"
     ]
    }
   ],
   "source": [
    "%run scripts/train_models/launch_experiments.py --experiment_id=test --random"
   ]
  },
  {
   "cell_type": "code",
   "execution_count": null,
   "metadata": {},
   "outputs": [],
   "source": []
  }
 ],
 "metadata": {
  "kernelspec": {
   "display_name": "Python 3",
   "language": "python",
   "name": "python3"
  }
 },
 "nbformat": 4,
 "nbformat_minor": 4
}
