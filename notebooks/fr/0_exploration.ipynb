{
 "cells": [
  {
   "cell_type": "code",
   "execution_count": 1,
   "metadata": {},
   "outputs": [],
   "source": [
    "import os\n",
    "from tqdm.notebook import tqdm\n",
    "from pathlib import Path\n",
    "import pandas as pd\n",
    "from nltk.lm import Vocabulary\n",
    "import sys\n",
    "sys.path.append(\"../../lib\")\n",
    "from metrics import levenshtein\n",
    "import pickle"
   ]
  },
  {
   "cell_type": "code",
   "execution_count": 2,
   "metadata": {},
   "outputs": [],
   "source": [
    "folder = \"../../data/ICDAR2019_POCR_competition_dataset/ICDAR2019_POCR_competition_training_18M_without_Finnish/FR/\""
   ]
  },
  {
   "cell_type": "code",
   "execution_count": 3,
   "metadata": {},
   "outputs": [],
   "source": [
    "output_folder = Path(\"../../data/fr\")"
   ]
  },
  {
   "cell_type": "code",
   "execution_count": 4,
   "metadata": {},
   "outputs": [
    {
     "data": {
      "text/plain": [
       "3"
      ]
     },
     "execution_count": 4,
     "metadata": {},
     "output_type": "execute_result"
    }
   ],
   "source": [
    "files = sorted(os.listdir(folder))\n",
    "len(files)"
   ]
  },
  {
   "cell_type": "code",
   "execution_count": 5,
   "metadata": {},
   "outputs": [
    {
     "data": {
      "text/plain": [
       "2257"
      ]
     },
     "execution_count": 5,
     "metadata": {},
     "output_type": "execute_result"
    }
   ],
   "source": [
    "import glob\n",
    "\n",
    "files = glob.glob(folder + '/**/*.txt', recursive=True)\n",
    "len(files)"
   ]
  },
  {
   "cell_type": "code",
   "execution_count": 6,
   "metadata": {},
   "outputs": [
    {
     "data": {
      "application/vnd.jupyter.widget-view+json": {
       "model_id": "8bf6f33a411344bfa9c289f204b46d40",
       "version_major": 2,
       "version_minor": 0
      },
      "text/plain": [
       "  0%|          | 0/2257 [00:00<?, ?it/s]"
      ]
     },
     "metadata": {},
     "output_type": "display_data"
    },
    {
     "data": {
      "text/plain": [
       "2257"
      ]
     },
     "execution_count": 6,
     "metadata": {},
     "output_type": "execute_result"
    }
   ],
   "source": [
    "from multiprocessing import Pool\n",
    "\n",
    "def extract(name):\n",
    "    with open(name) as file:\n",
    "        return file.readlines()\n",
    "    \n",
    "def create_windows(x):\n",
    "    A, B, window_length = x\n",
    "    assert len(A) == len(B)\n",
    "    return [(A[i:i + window_length], B[i:i + window_length]) \n",
    "            for i in range(len(A) + 1)]\n",
    "    \n",
    "p = Pool(4)\n",
    "    \n",
    "data = list(p.imap_unordered(extract, tqdm(files), chunksize = 128))\n",
    "len(data)"
   ]
  },
  {
   "cell_type": "code",
   "execution_count": 7,
   "metadata": {},
   "outputs": [
    {
     "name": "stdout",
     "output_type": "stream",
     "text": [
      "(2257, 3)\n"
     ]
    },
    {
     "data": {
      "text/html": [
       "<div>\n",
       "<style scoped>\n",
       "    .dataframe tbody tr th:only-of-type {\n",
       "        vertical-align: middle;\n",
       "    }\n",
       "\n",
       "    .dataframe tbody tr th {\n",
       "        vertical-align: top;\n",
       "    }\n",
       "\n",
       "    .dataframe thead th {\n",
       "        text-align: right;\n",
       "    }\n",
       "</style>\n",
       "<table border=\"1\" class=\"dataframe\">\n",
       "  <thead>\n",
       "    <tr style=\"text-align: right;\">\n",
       "      <th></th>\n",
       "      <th>ocr_to_input</th>\n",
       "      <th>ocr_aligned</th>\n",
       "      <th>gs_aligned</th>\n",
       "    </tr>\n",
       "  </thead>\n",
       "  <tbody>\n",
       "    <tr>\n",
       "      <th>0</th>\n",
       "      <td>Charles, etc. Savoir faisons à touz, presens e...</td>\n",
       "      <td>Charles, etc. Savoir faisons à touz, presens e...</td>\n",
       "      <td>Charles, etc. Savoir faisons à touz, presens e...</td>\n",
       "    </tr>\n",
       "    <tr>\n",
       "      <th>1</th>\n",
       "      <td>par la grace de Dieu, roys de France. Savoir f...</td>\n",
       "      <td>@@@@@@@@@@@par la grace de Dieu, roys de Franc...</td>\n",
       "      <td>Philippes, par la grace de Dieu, roys de Franc...</td>\n",
       "    </tr>\n",
       "    <tr>\n",
       "      <th>2</th>\n",
       "      <td>Jehan ainsné, filz et lieu tenant du roy de Fr...</td>\n",
       "      <td>Jehan@ ainsné, filz et lieu tenant du roy de F...</td>\n",
       "      <td>Jehan, ainsné@ filz et lieu tenant du roy de F...</td>\n",
       "    </tr>\n",
       "    <tr>\n",
       "      <th>3</th>\n",
       "      <td>Johannes, Dei gratia, Francorum rex. Notum fac...</td>\n",
       "      <td>Johannes, Dei gratia, Francorum rex. Notum fac...</td>\n",
       "      <td>Johannes, Dei gratia, Francorum rex. Notum fac...</td>\n",
       "    </tr>\n",
       "    <tr>\n",
       "      <th>4</th>\n",
       "      <td>umbre de ce que eulx et nostre procureur disoi...</td>\n",
       "      <td>umbre de ce que eulx et nostre procureur disoi...</td>\n",
       "      <td>umbre de ce que eulz et nostre procureur disoi...</td>\n",
       "    </tr>\n",
       "  </tbody>\n",
       "</table>\n",
       "</div>"
      ],
      "text/plain": [
       "                                        ocr_to_input  \\\n",
       "0  Charles, etc. Savoir faisons à touz, presens e...   \n",
       "1  par la grace de Dieu, roys de France. Savoir f...   \n",
       "2  Jehan ainsné, filz et lieu tenant du roy de Fr...   \n",
       "3  Johannes, Dei gratia, Francorum rex. Notum fac...   \n",
       "4  umbre de ce que eulx et nostre procureur disoi...   \n",
       "\n",
       "                                         ocr_aligned  \\\n",
       "0  Charles, etc. Savoir faisons à touz, presens e...   \n",
       "1  @@@@@@@@@@@par la grace de Dieu, roys de Franc...   \n",
       "2  Jehan@ ainsné, filz et lieu tenant du roy de F...   \n",
       "3  Johannes, Dei gratia, Francorum rex. Notum fac...   \n",
       "4  umbre de ce que eulx et nostre procureur disoi...   \n",
       "\n",
       "                                          gs_aligned  \n",
       "0  Charles, etc. Savoir faisons à touz, presens e...  \n",
       "1  Philippes, par la grace de Dieu, roys de Franc...  \n",
       "2  Jehan, ainsné@ filz et lieu tenant du roy de F...  \n",
       "3  Johannes, Dei gratia, Francorum rex. Notum fac...  \n",
       "4  umbre de ce que eulz et nostre procureur disoi...  "
      ]
     },
     "execution_count": 7,
     "metadata": {},
     "output_type": "execute_result"
    }
   ],
   "source": [
    "# data = []\n",
    "# for f in tqdm(files):\n",
    "#     with open(f) as file:\n",
    "#         data.append(file.readlines())\n",
    "\n",
    "data = pd.DataFrame(data, \n",
    "                    columns = [\"ocr_to_input\", \n",
    "                               \"ocr_aligned\", \n",
    "                               \"gs_aligned\"])\\\n",
    ".assign(ocr_to_input = lambda df: df.ocr_to_input.str.replace(\"[OCR_toInput] \", \"\", regex = False),\n",
    "        ocr_aligned = lambda df: df.ocr_aligned.str.replace(\"[OCR_aligned] \", \"\", regex = False),\n",
    "        gs_aligned = lambda df: df.gs_aligned.str.replace(\"[ GS_aligned] \", \"\", regex = False))\n",
    "\n",
    "print(data.shape)\n",
    "data.head()"
   ]
  },
  {
   "cell_type": "code",
   "execution_count": 8,
   "metadata": {},
   "outputs": [
    {
     "data": {
      "text/html": [
       "<div>\n",
       "<style scoped>\n",
       "    .dataframe tbody tr th:only-of-type {\n",
       "        vertical-align: middle;\n",
       "    }\n",
       "\n",
       "    .dataframe tbody tr th {\n",
       "        vertical-align: top;\n",
       "    }\n",
       "\n",
       "    .dataframe thead th {\n",
       "        text-align: right;\n",
       "    }\n",
       "</style>\n",
       "<table border=\"1\" class=\"dataframe\">\n",
       "  <thead>\n",
       "    <tr style=\"text-align: right;\">\n",
       "      <th></th>\n",
       "      <th>ocr_to_input</th>\n",
       "      <th>ocr_aligned</th>\n",
       "      <th>gs_aligned</th>\n",
       "    </tr>\n",
       "  </thead>\n",
       "  <tbody>\n",
       "    <tr>\n",
       "      <th>count</th>\n",
       "      <td>2257.000000</td>\n",
       "      <td>2257.000000</td>\n",
       "      <td>2257.000000</td>\n",
       "    </tr>\n",
       "    <tr>\n",
       "      <th>mean</th>\n",
       "      <td>1534.002658</td>\n",
       "      <td>1575.715995</td>\n",
       "      <td>1575.715995</td>\n",
       "    </tr>\n",
       "    <tr>\n",
       "      <th>std</th>\n",
       "      <td>1518.163885</td>\n",
       "      <td>1558.757803</td>\n",
       "      <td>1558.757803</td>\n",
       "    </tr>\n",
       "    <tr>\n",
       "      <th>min</th>\n",
       "      <td>1.000000</td>\n",
       "      <td>2.000000</td>\n",
       "      <td>2.000000</td>\n",
       "    </tr>\n",
       "    <tr>\n",
       "      <th>25%</th>\n",
       "      <td>432.000000</td>\n",
       "      <td>439.000000</td>\n",
       "      <td>439.000000</td>\n",
       "    </tr>\n",
       "    <tr>\n",
       "      <th>50%</th>\n",
       "      <td>900.000000</td>\n",
       "      <td>919.000000</td>\n",
       "      <td>919.000000</td>\n",
       "    </tr>\n",
       "    <tr>\n",
       "      <th>75%</th>\n",
       "      <td>2166.000000</td>\n",
       "      <td>2238.000000</td>\n",
       "      <td>2238.000000</td>\n",
       "    </tr>\n",
       "    <tr>\n",
       "      <th>max</th>\n",
       "      <td>9760.000000</td>\n",
       "      <td>10051.000000</td>\n",
       "      <td>10051.000000</td>\n",
       "    </tr>\n",
       "  </tbody>\n",
       "</table>\n",
       "</div>"
      ],
      "text/plain": [
       "       ocr_to_input   ocr_aligned    gs_aligned\n",
       "count   2257.000000   2257.000000   2257.000000\n",
       "mean    1534.002658   1575.715995   1575.715995\n",
       "std     1518.163885   1558.757803   1558.757803\n",
       "min        1.000000      2.000000      2.000000\n",
       "25%      432.000000    439.000000    439.000000\n",
       "50%      900.000000    919.000000    919.000000\n",
       "75%     2166.000000   2238.000000   2238.000000\n",
       "max     9760.000000  10051.000000  10051.000000"
      ]
     },
     "execution_count": 8,
     "metadata": {},
     "output_type": "execute_result"
    }
   ],
   "source": [
    "data.applymap(len).describe()"
   ]
  },
  {
   "cell_type": "code",
   "execution_count": 9,
   "metadata": {},
   "outputs": [
    {
     "data": {
      "text/plain": [
       "count     2257.000000\n",
       "mean        15.638400\n",
       "std        217.453987\n",
       "min          0.000000\n",
       "25%          3.469641\n",
       "50%          5.024051\n",
       "75%          8.736718\n",
       "max      10228.571429\n",
       "Name: cer, dtype: float64"
      ]
     },
     "execution_count": 9,
     "metadata": {},
     "output_type": "execute_result"
    }
   ],
   "source": [
    "levenshtein(reference = data.gs_aligned.str.replace(\"@\", \"\"), \n",
    "            hypothesis = data.ocr_to_input).cer.describe()"
   ]
  },
  {
   "cell_type": "code",
   "execution_count": 10,
   "metadata": {},
   "outputs": [
    {
     "data": {
      "text/plain": [
       "count    2257.000000\n",
       "mean        8.629824\n",
       "std        11.475876\n",
       "min         0.000000\n",
       "25%         3.448276\n",
       "50%         4.976775\n",
       "75%         8.593322\n",
       "max        99.799599\n",
       "Name: cer, dtype: float64"
      ]
     },
     "execution_count": 10,
     "metadata": {},
     "output_type": "execute_result"
    }
   ],
   "source": [
    "levenshtein(reference = data.gs_aligned, \n",
    "            hypothesis = data.ocr_aligned).cer.describe()"
   ]
  },
  {
   "cell_type": "code",
   "execution_count": 11,
   "metadata": {},
   "outputs": [
    {
     "name": "stdout",
     "output_type": "stream",
     "text": [
      "191\n"
     ]
    }
   ],
   "source": [
    "vocabulary = Vocabulary(data.ocr_to_input.sum() + data.ocr_aligned.sum() + data.gs_aligned.sum())\n",
    "print(len(vocabulary))\n",
    "with open(output_folder/\"data/vocabulary.pkl\", \"wb\") as file:\n",
    "    pickle.dump(vocabulary, file)"
   ]
  },
  {
   "cell_type": "code",
   "execution_count": 12,
   "metadata": {},
   "outputs": [
    {
     "data": {
      "text/plain": [
       "(5, 3)"
      ]
     },
     "execution_count": 12,
     "metadata": {},
     "output_type": "execute_result"
    }
   ],
   "source": [
    "dev = data.sample(n = 5, random_state = 1)\n",
    "dev.to_pickle(output_folder/\"data/dev.pkl\")\n",
    "dev.shape"
   ]
  },
  {
   "cell_type": "code",
   "execution_count": 13,
   "metadata": {},
   "outputs": [
    {
     "data": {
      "text/plain": [
       "(2252, 3)"
      ]
     },
     "execution_count": 13,
     "metadata": {},
     "output_type": "execute_result"
    }
   ],
   "source": [
    "train = data.drop(dev.index)\n",
    "train.to_pickle(output_folder/\"data/train.pkl\")\n",
    "train.shape"
   ]
  },
  {
   "cell_type": "code",
   "execution_count": 14,
   "metadata": {},
   "outputs": [
    {
     "data": {
      "text/html": [
       "<div>\n",
       "<style scoped>\n",
       "    .dataframe tbody tr th:only-of-type {\n",
       "        vertical-align: middle;\n",
       "    }\n",
       "\n",
       "    .dataframe tbody tr th {\n",
       "        vertical-align: top;\n",
       "    }\n",
       "\n",
       "    .dataframe thead th {\n",
       "        text-align: right;\n",
       "    }\n",
       "</style>\n",
       "<table border=\"1\" class=\"dataframe\">\n",
       "  <thead>\n",
       "    <tr style=\"text-align: right;\">\n",
       "      <th></th>\n",
       "      <th>ocr_to_input</th>\n",
       "      <th>ocr_aligned</th>\n",
       "      <th>gs_aligned</th>\n",
       "    </tr>\n",
       "  </thead>\n",
       "  <tbody>\n",
       "    <tr>\n",
       "      <th>count</th>\n",
       "      <td>2252.000000</td>\n",
       "      <td>2252.000000</td>\n",
       "      <td>2252.000000</td>\n",
       "    </tr>\n",
       "    <tr>\n",
       "      <th>mean</th>\n",
       "      <td>1536.216252</td>\n",
       "      <td>1577.992451</td>\n",
       "      <td>1577.992451</td>\n",
       "    </tr>\n",
       "    <tr>\n",
       "      <th>std</th>\n",
       "      <td>1519.010779</td>\n",
       "      <td>1559.622058</td>\n",
       "      <td>1559.622058</td>\n",
       "    </tr>\n",
       "    <tr>\n",
       "      <th>min</th>\n",
       "      <td>1.000000</td>\n",
       "      <td>2.000000</td>\n",
       "      <td>2.000000</td>\n",
       "    </tr>\n",
       "    <tr>\n",
       "      <th>25%</th>\n",
       "      <td>432.000000</td>\n",
       "      <td>439.750000</td>\n",
       "      <td>439.750000</td>\n",
       "    </tr>\n",
       "    <tr>\n",
       "      <th>50%</th>\n",
       "      <td>901.500000</td>\n",
       "      <td>921.000000</td>\n",
       "      <td>921.000000</td>\n",
       "    </tr>\n",
       "    <tr>\n",
       "      <th>75%</th>\n",
       "      <td>2181.000000</td>\n",
       "      <td>2246.500000</td>\n",
       "      <td>2246.500000</td>\n",
       "    </tr>\n",
       "    <tr>\n",
       "      <th>max</th>\n",
       "      <td>9760.000000</td>\n",
       "      <td>10051.000000</td>\n",
       "      <td>10051.000000</td>\n",
       "    </tr>\n",
       "  </tbody>\n",
       "</table>\n",
       "</div>"
      ],
      "text/plain": [
       "       ocr_to_input   ocr_aligned    gs_aligned\n",
       "count   2252.000000   2252.000000   2252.000000\n",
       "mean    1536.216252   1577.992451   1577.992451\n",
       "std     1519.010779   1559.622058   1559.622058\n",
       "min        1.000000      2.000000      2.000000\n",
       "25%      432.000000    439.750000    439.750000\n",
       "50%      901.500000    921.000000    921.000000\n",
       "75%     2181.000000   2246.500000   2246.500000\n",
       "max     9760.000000  10051.000000  10051.000000"
      ]
     },
     "execution_count": 14,
     "metadata": {},
     "output_type": "execute_result"
    }
   ],
   "source": [
    "train.applymap(len).describe()"
   ]
  },
  {
   "cell_type": "code",
   "execution_count": 15,
   "metadata": {},
   "outputs": [
    {
     "data": {
      "text/html": [
       "<div>\n",
       "<style scoped>\n",
       "    .dataframe tbody tr th:only-of-type {\n",
       "        vertical-align: middle;\n",
       "    }\n",
       "\n",
       "    .dataframe tbody tr th {\n",
       "        vertical-align: top;\n",
       "    }\n",
       "\n",
       "    .dataframe thead th {\n",
       "        text-align: right;\n",
       "    }\n",
       "</style>\n",
       "<table border=\"1\" class=\"dataframe\">\n",
       "  <thead>\n",
       "    <tr style=\"text-align: right;\">\n",
       "      <th></th>\n",
       "      <th>ocr_to_input</th>\n",
       "      <th>ocr_aligned</th>\n",
       "      <th>gs_aligned</th>\n",
       "    </tr>\n",
       "  </thead>\n",
       "  <tbody>\n",
       "    <tr>\n",
       "      <th>count</th>\n",
       "      <td>5.000000</td>\n",
       "      <td>5.000000</td>\n",
       "      <td>5.000000</td>\n",
       "    </tr>\n",
       "    <tr>\n",
       "      <th>mean</th>\n",
       "      <td>537.000000</td>\n",
       "      <td>550.400000</td>\n",
       "      <td>550.400000</td>\n",
       "    </tr>\n",
       "    <tr>\n",
       "      <th>std</th>\n",
       "      <td>433.894572</td>\n",
       "      <td>451.103979</td>\n",
       "      <td>451.103979</td>\n",
       "    </tr>\n",
       "    <tr>\n",
       "      <th>min</th>\n",
       "      <td>298.000000</td>\n",
       "      <td>298.000000</td>\n",
       "      <td>298.000000</td>\n",
       "    </tr>\n",
       "    <tr>\n",
       "      <th>25%</th>\n",
       "      <td>305.000000</td>\n",
       "      <td>326.000000</td>\n",
       "      <td>326.000000</td>\n",
       "    </tr>\n",
       "    <tr>\n",
       "      <th>50%</th>\n",
       "      <td>340.000000</td>\n",
       "      <td>340.000000</td>\n",
       "      <td>340.000000</td>\n",
       "    </tr>\n",
       "    <tr>\n",
       "      <th>75%</th>\n",
       "      <td>435.000000</td>\n",
       "      <td>436.000000</td>\n",
       "      <td>436.000000</td>\n",
       "    </tr>\n",
       "    <tr>\n",
       "      <th>max</th>\n",
       "      <td>1307.000000</td>\n",
       "      <td>1352.000000</td>\n",
       "      <td>1352.000000</td>\n",
       "    </tr>\n",
       "  </tbody>\n",
       "</table>\n",
       "</div>"
      ],
      "text/plain": [
       "       ocr_to_input  ocr_aligned   gs_aligned\n",
       "count      5.000000     5.000000     5.000000\n",
       "mean     537.000000   550.400000   550.400000\n",
       "std      433.894572   451.103979   451.103979\n",
       "min      298.000000   298.000000   298.000000\n",
       "25%      305.000000   326.000000   326.000000\n",
       "50%      340.000000   340.000000   340.000000\n",
       "75%      435.000000   436.000000   436.000000\n",
       "max     1307.000000  1352.000000  1352.000000"
      ]
     },
     "execution_count": 15,
     "metadata": {},
     "output_type": "execute_result"
    }
   ],
   "source": [
    "dev.applymap(len).describe()"
   ]
  },
  {
   "cell_type": "code",
   "execution_count": 16,
   "metadata": {},
   "outputs": [
    {
     "data": {
      "text/plain": [
       "count    5.000000\n",
       "mean     5.547289\n",
       "std      1.365981\n",
       "min      4.147465\n",
       "25%      4.776119\n",
       "50%      4.844291\n",
       "75%      6.606607\n",
       "max      7.361963\n",
       "Name: cer, dtype: float64"
      ]
     },
     "execution_count": 16,
     "metadata": {},
     "output_type": "execute_result"
    }
   ],
   "source": [
    "levenshtein(reference = dev.gs_aligned.str.replace(\"@\", \"\"), \n",
    "            hypothesis = dev.ocr_to_input).cer.describe()"
   ]
  },
  {
   "cell_type": "code",
   "execution_count": 17,
   "metadata": {},
   "outputs": [
    {
     "data": {
      "text/plain": [
       "count    5.000000\n",
       "mean     5.480630\n",
       "std      1.381836\n",
       "min      4.128440\n",
       "25%      4.697987\n",
       "50%      4.705882\n",
       "75%      6.508876\n",
       "max      7.361963\n",
       "Name: cer, dtype: float64"
      ]
     },
     "execution_count": 17,
     "metadata": {},
     "output_type": "execute_result"
    }
   ],
   "source": [
    "levenshtein(reference = dev.gs_aligned, \n",
    "            hypothesis = dev.ocr_to_input).cer.describe()"
   ]
  },
  {
   "cell_type": "code",
   "execution_count": 18,
   "metadata": {},
   "outputs": [],
   "source": [
    "window_length = 100"
   ]
  },
  {
   "cell_type": "code",
   "execution_count": 19,
   "metadata": {},
   "outputs": [
    {
     "data": {
      "application/vnd.jupyter.widget-view+json": {
       "model_id": "6730a4a21e5e4357a041c2b2bd48f1a4",
       "version_major": 2,
       "version_minor": 0
      },
      "text/plain": [
       "  0%|          | 0/2252 [00:00<?, ?it/s]"
      ]
     },
     "metadata": {},
     "output_type": "display_data"
    },
    {
     "data": {
      "application/vnd.jupyter.widget-view+json": {
       "model_id": "a62802383b5440069736c26051f35e5a",
       "version_major": 2,
       "version_minor": 0
      },
      "text/plain": [
       "  0%|          | 0/2252 [00:00<?, ?it/s]"
      ]
     },
     "metadata": {},
     "output_type": "display_data"
    },
    {
     "name": "stdout",
     "output_type": "stream",
     "text": [
      "(3555891, 2)\n"
     ]
    },
    {
     "data": {
      "text/html": [
       "<div>\n",
       "<style scoped>\n",
       "    .dataframe tbody tr th:only-of-type {\n",
       "        vertical-align: middle;\n",
       "    }\n",
       "\n",
       "    .dataframe tbody tr th {\n",
       "        vertical-align: top;\n",
       "    }\n",
       "\n",
       "    .dataframe thead th {\n",
       "        text-align: right;\n",
       "    }\n",
       "</style>\n",
       "<table border=\"1\" class=\"dataframe\">\n",
       "  <thead>\n",
       "    <tr style=\"text-align: right;\">\n",
       "      <th></th>\n",
       "      <th>source</th>\n",
       "      <th>target</th>\n",
       "    </tr>\n",
       "  </thead>\n",
       "  <tbody>\n",
       "    <tr>\n",
       "      <th>0</th>\n",
       "      <td>Karolus, etc. Notum facimus universis, present...</td>\n",
       "      <td>Karolus, etc. Notum facimus universis, present...</td>\n",
       "    </tr>\n",
       "    <tr>\n",
       "      <th>1</th>\n",
       "      <td>arolus, etc. Notum facimus universis, presenti...</td>\n",
       "      <td>arolus, etc. Notum facimus universis, presenti...</td>\n",
       "    </tr>\n",
       "    <tr>\n",
       "      <th>2</th>\n",
       "      <td>rolus, etc. Notum facimus universis, presentib...</td>\n",
       "      <td>rolus, etc. Notum facimus universis, presentib...</td>\n",
       "    </tr>\n",
       "    <tr>\n",
       "      <th>3</th>\n",
       "      <td>olus, etc. Notum facimus universis, presentibu...</td>\n",
       "      <td>olus, etc. Notum facimus universis, presentibu...</td>\n",
       "    </tr>\n",
       "    <tr>\n",
       "      <th>4</th>\n",
       "      <td>lus, etc. Notum facimus universis, presentibus...</td>\n",
       "      <td>lus, etc. Notum facimus universis, presentibus...</td>\n",
       "    </tr>\n",
       "  </tbody>\n",
       "</table>\n",
       "</div>"
      ],
      "text/plain": [
       "                                              source  \\\n",
       "0  Karolus, etc. Notum facimus universis, present...   \n",
       "1  arolus, etc. Notum facimus universis, presenti...   \n",
       "2  rolus, etc. Notum facimus universis, presentib...   \n",
       "3  olus, etc. Notum facimus universis, presentibu...   \n",
       "4  lus, etc. Notum facimus universis, presentibus...   \n",
       "\n",
       "                                              target  \n",
       "0  Karolus, etc. Notum facimus universis, present...  \n",
       "1  arolus, etc. Notum facimus universis, presenti...  \n",
       "2  rolus, etc. Notum facimus universis, presentib...  \n",
       "3  olus, etc. Notum facimus universis, presentibu...  \n",
       "4  lus, etc. Notum facimus universis, presentibus...  "
      ]
     },
     "execution_count": 19,
     "metadata": {},
     "output_type": "execute_result"
    }
   ],
   "source": [
    "df = train#.head(100)\n",
    "train_aligned = list(p.imap_unordered(create_windows, \n",
    "                                      tqdm(zip(df.ocr_aligned, \n",
    "                                               df.gs_aligned, \n",
    "                                               [window_length for x in df.ocr_aligned]), \n",
    "                                           total = len(df.ocr_aligned)),\n",
    "                                      chunksize = 128))\n",
    "s = []\n",
    "for r in tqdm(train_aligned):\n",
    "    s.extend(r)\n",
    "train_aligned = pd.DataFrame(s, columns = [\"source\", \"target\"])\n",
    "print(train_aligned.shape)\n",
    "train_aligned.head()"
   ]
  },
  {
   "cell_type": "code",
   "execution_count": 20,
   "metadata": {},
   "outputs": [
    {
     "data": {
      "text/html": [
       "<div>\n",
       "<style scoped>\n",
       "    .dataframe tbody tr th:only-of-type {\n",
       "        vertical-align: middle;\n",
       "    }\n",
       "\n",
       "    .dataframe tbody tr th {\n",
       "        vertical-align: top;\n",
       "    }\n",
       "\n",
       "    .dataframe thead th {\n",
       "        text-align: right;\n",
       "    }\n",
       "</style>\n",
       "<table border=\"1\" class=\"dataframe\">\n",
       "  <thead>\n",
       "    <tr style=\"text-align: right;\">\n",
       "      <th></th>\n",
       "      <th>source</th>\n",
       "      <th>target</th>\n",
       "    </tr>\n",
       "  </thead>\n",
       "  <tbody>\n",
       "    <tr>\n",
       "      <th>0</th>\n",
       "      <td>Karolus, etc. Notum facimus universis, present...</td>\n",
       "      <td>Karolus, etc. Notum facimus universis, present...</td>\n",
       "    </tr>\n",
       "    <tr>\n",
       "      <th>1</th>\n",
       "      <td>arolus, etc. Notum facimus universis, presenti...</td>\n",
       "      <td>arolus, etc. Notum facimus universis, presenti...</td>\n",
       "    </tr>\n",
       "    <tr>\n",
       "      <th>2</th>\n",
       "      <td>rolus, etc. Notum facimus universis, presentib...</td>\n",
       "      <td>rolus, etc. Notum facimus universis, presentib...</td>\n",
       "    </tr>\n",
       "    <tr>\n",
       "      <th>3</th>\n",
       "      <td>olus, etc. Notum facimus universis, presentibu...</td>\n",
       "      <td>olus, etc. Notum facimus universis, presentibu...</td>\n",
       "    </tr>\n",
       "    <tr>\n",
       "      <th>4</th>\n",
       "      <td>lus, etc. Notum facimus universis, presentibus...</td>\n",
       "      <td>lus, etc. Notum facimus universis, presentibus...</td>\n",
       "    </tr>\n",
       "  </tbody>\n",
       "</table>\n",
       "</div>"
      ],
      "text/plain": [
       "                                              source  \\\n",
       "0  Karolus, etc. Notum facimus universis, present...   \n",
       "1  arolus, etc. Notum facimus universis, presenti...   \n",
       "2  rolus, etc. Notum facimus universis, presentib...   \n",
       "3  olus, etc. Notum facimus universis, presentibu...   \n",
       "4  lus, etc. Notum facimus universis, presentibus...   \n",
       "\n",
       "                                              target  \n",
       "0  Karolus, etc. Notum facimus universis, present...  \n",
       "1  arolus, etc. Notum facimus universis, presenti...  \n",
       "2  rolus, etc. Notum facimus universis, presentib...  \n",
       "3  olus, etc. Notum facimus universis, presentibu...  \n",
       "4  lus, etc. Notum facimus universis, presentibus...  "
      ]
     },
     "execution_count": 20,
     "metadata": {},
     "output_type": "execute_result"
    }
   ],
   "source": [
    "train_aligned = train_aligned.assign(source = lambda df: df.source.str.replace(\"@\", \"\"))\n",
    "train_aligned.head()"
   ]
  },
  {
   "cell_type": "code",
   "execution_count": 21,
   "metadata": {},
   "outputs": [
    {
     "name": "stdout",
     "output_type": "stream",
     "text": [
      "(2757, 2)\n"
     ]
    },
    {
     "data": {
      "text/html": [
       "<div>\n",
       "<style scoped>\n",
       "    .dataframe tbody tr th:only-of-type {\n",
       "        vertical-align: middle;\n",
       "    }\n",
       "\n",
       "    .dataframe tbody tr th {\n",
       "        vertical-align: top;\n",
       "    }\n",
       "\n",
       "    .dataframe thead th {\n",
       "        text-align: right;\n",
       "    }\n",
       "</style>\n",
       "<table border=\"1\" class=\"dataframe\">\n",
       "  <thead>\n",
       "    <tr style=\"text-align: right;\">\n",
       "      <th></th>\n",
       "      <th>source</th>\n",
       "      <th>target</th>\n",
       "    </tr>\n",
       "  </thead>\n",
       "  <tbody>\n",
       "    <tr>\n",
       "      <th>0</th>\n",
       "      <td>Philippus, etc. Notam facimus universis, tam p...</td>\n",
       "      <td>Philippus, etc. Notum facimus universis, tam p...</td>\n",
       "    </tr>\n",
       "    <tr>\n",
       "      <th>1</th>\n",
       "      <td>hilippus, etc. Notam facimus universis, tam pr...</td>\n",
       "      <td>hilippus, etc. Notum facimus universis, tam pr...</td>\n",
       "    </tr>\n",
       "    <tr>\n",
       "      <th>2</th>\n",
       "      <td>ilippus, etc. Notam facimus universis, tam pre...</td>\n",
       "      <td>ilippus, etc. Notum facimus universis, tam pre...</td>\n",
       "    </tr>\n",
       "    <tr>\n",
       "      <th>3</th>\n",
       "      <td>lippus, etc. Notam facimus universis, tam pres...</td>\n",
       "      <td>lippus, etc. Notum facimus universis, tam pres...</td>\n",
       "    </tr>\n",
       "    <tr>\n",
       "      <th>4</th>\n",
       "      <td>ippus, etc. Notam facimus universis, tam prese...</td>\n",
       "      <td>ippus, etc. Notum facimus universis, tam prese...</td>\n",
       "    </tr>\n",
       "  </tbody>\n",
       "</table>\n",
       "</div>"
      ],
      "text/plain": [
       "                                              source  \\\n",
       "0  Philippus, etc. Notam facimus universis, tam p...   \n",
       "1  hilippus, etc. Notam facimus universis, tam pr...   \n",
       "2  ilippus, etc. Notam facimus universis, tam pre...   \n",
       "3  lippus, etc. Notam facimus universis, tam pres...   \n",
       "4  ippus, etc. Notam facimus universis, tam prese...   \n",
       "\n",
       "                                              target  \n",
       "0  Philippus, etc. Notum facimus universis, tam p...  \n",
       "1  hilippus, etc. Notum facimus universis, tam pr...  \n",
       "2  ilippus, etc. Notum facimus universis, tam pre...  \n",
       "3  lippus, etc. Notum facimus universis, tam pres...  \n",
       "4  ippus, etc. Notum facimus universis, tam prese...  "
      ]
     },
     "execution_count": 21,
     "metadata": {},
     "output_type": "execute_result"
    }
   ],
   "source": [
    "dev_aligned = dev.apply(lambda r: create_windows((r[\"ocr_aligned\"], r[\"gs_aligned\"], window_length)), \n",
    "                            axis = 1).sum()\n",
    "dev_aligned = pd.DataFrame(dev_aligned, columns = [\"source\", \"target\"])\n",
    "print(dev_aligned.shape)\n",
    "dev_aligned.head()"
   ]
  },
  {
   "cell_type": "code",
   "execution_count": 22,
   "metadata": {},
   "outputs": [
    {
     "data": {
      "text/html": [
       "<div>\n",
       "<style scoped>\n",
       "    .dataframe tbody tr th:only-of-type {\n",
       "        vertical-align: middle;\n",
       "    }\n",
       "\n",
       "    .dataframe tbody tr th {\n",
       "        vertical-align: top;\n",
       "    }\n",
       "\n",
       "    .dataframe thead th {\n",
       "        text-align: right;\n",
       "    }\n",
       "</style>\n",
       "<table border=\"1\" class=\"dataframe\">\n",
       "  <thead>\n",
       "    <tr style=\"text-align: right;\">\n",
       "      <th></th>\n",
       "      <th>source</th>\n",
       "      <th>target</th>\n",
       "    </tr>\n",
       "  </thead>\n",
       "  <tbody>\n",
       "    <tr>\n",
       "      <th>0</th>\n",
       "      <td>Philippus, etc. Notam facimus universis, tam p...</td>\n",
       "      <td>Philippus, etc. Notum facimus universis, tam p...</td>\n",
       "    </tr>\n",
       "    <tr>\n",
       "      <th>1</th>\n",
       "      <td>hilippus, etc. Notam facimus universis, tam pr...</td>\n",
       "      <td>hilippus, etc. Notum facimus universis, tam pr...</td>\n",
       "    </tr>\n",
       "    <tr>\n",
       "      <th>2</th>\n",
       "      <td>ilippus, etc. Notam facimus universis, tam pre...</td>\n",
       "      <td>ilippus, etc. Notum facimus universis, tam pre...</td>\n",
       "    </tr>\n",
       "    <tr>\n",
       "      <th>3</th>\n",
       "      <td>lippus, etc. Notam facimus universis, tam pres...</td>\n",
       "      <td>lippus, etc. Notum facimus universis, tam pres...</td>\n",
       "    </tr>\n",
       "    <tr>\n",
       "      <th>4</th>\n",
       "      <td>ippus, etc. Notam facimus universis, tam prese...</td>\n",
       "      <td>ippus, etc. Notum facimus universis, tam prese...</td>\n",
       "    </tr>\n",
       "  </tbody>\n",
       "</table>\n",
       "</div>"
      ],
      "text/plain": [
       "                                              source  \\\n",
       "0  Philippus, etc. Notam facimus universis, tam p...   \n",
       "1  hilippus, etc. Notam facimus universis, tam pr...   \n",
       "2  ilippus, etc. Notam facimus universis, tam pre...   \n",
       "3  lippus, etc. Notam facimus universis, tam pres...   \n",
       "4  ippus, etc. Notam facimus universis, tam prese...   \n",
       "\n",
       "                                              target  \n",
       "0  Philippus, etc. Notum facimus universis, tam p...  \n",
       "1  hilippus, etc. Notum facimus universis, tam pr...  \n",
       "2  ilippus, etc. Notum facimus universis, tam pre...  \n",
       "3  lippus, etc. Notum facimus universis, tam pres...  \n",
       "4  ippus, etc. Notum facimus universis, tam prese...  "
      ]
     },
     "execution_count": 22,
     "metadata": {},
     "output_type": "execute_result"
    }
   ],
   "source": [
    "dev_aligned = dev_aligned.assign(source = lambda df: df.source.str.replace(\"@\", \"\"))\n",
    "dev_aligned.head()"
   ]
  },
  {
   "cell_type": "code",
   "execution_count": 23,
   "metadata": {},
   "outputs": [],
   "source": [
    "train_aligned.to_pickle(output_folder/\"data/train_aligned.pkl\")\n",
    "dev_aligned.to_pickle(output_folder/\"data/dev_aligned.pkl\")"
   ]
  }
 ],
 "metadata": {
  "kernelspec": {
   "display_name": "Python 3",
   "language": "python",
   "name": "python3"
  },
  "language_info": {
   "codemirror_mode": {
    "name": "ipython",
    "version": 3
   },
   "file_extension": ".py",
   "mimetype": "text/x-python",
   "name": "python",
   "nbconvert_exporter": "python",
   "pygments_lexer": "ipython3",
   "version": "3.8.8"
  },
  "toc": {
   "base_numbering": 1,
   "nav_menu": {},
   "number_sections": true,
   "sideBar": true,
   "skip_h1_title": false,
   "title_cell": "Table of Contents",
   "title_sidebar": "Contents",
   "toc_cell": false,
   "toc_position": {},
   "toc_section_display": true,
   "toc_window_display": false
  }
 },
 "nbformat": 4,
 "nbformat_minor": 4
}
