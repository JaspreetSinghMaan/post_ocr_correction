{
 "cells": [
  {
   "cell_type": "code",
   "execution_count": 2,
   "metadata": {},
   "outputs": [
    {
     "name": "stdout",
     "output_type": "stream",
     "text": [
      "main folder:/home/jarobyte/scratch/guemes/icdar/fr/\n",
      "output folder:baseline\n",
      "\n",
      "Model: Transformer\n",
      "Tokens in the input vocabulary: 194\n",
      "Tokens in the output vocabulary: 194\n",
      "Max sequence length: 110\n",
      "Embedding dimension: 128\n",
      "Feedforward dimension: 512\n",
      "Encoder layers: 3\n",
      "Decoder layers: 3\n",
      "Attention heads: 8\n",
      "Activation: relu\n",
      "Dropout: 0.1\n",
      "Trainable parameters: 1,477,826\n",
      "\n",
      "Training started\n",
      "Epochs: 10\n",
      "Learning rate: 0.0001\n",
      "Weight decay: 0.001\n",
      "Epoch | Train                 | Development           | Minutes\n",
      "      | Loss     | Error Rate | Loss     | Error Rate |\n",
      "---------------------------------------------------------------\n",
      "    1 |   4.8845 |     90.046 |   4.4617 |     79.842 |     0.0\n",
      "    2 |   4.4397 |     85.193 |   4.3121 |     79.842 |     0.0\n",
      "    3 |   4.2898 |     85.193 |   4.2235 |     79.842 |     0.0\n",
      "    4 |   4.1897 |     85.193 |   4.1554 |     79.842 |     0.0\n",
      "    5 |   4.1000 |     85.192 |   4.0951 |     79.842 |     0.0\n",
      "    6 |   4.0064 |     85.183 |   4.0385 |     79.842 |     0.1\n",
      "    7 |   3.9198 |     85.123 |   3.9856 |     79.842 |     0.1\n",
      "    8 |   3.8334 |     84.857 |   3.9389 |     79.257 |     0.1\n",
      "    9 |   3.7476 |     84.069 |   3.8956 |     78.624 |     0.1\n",
      "   10 |   3.6604 |     83.286 |   3.8519 |     78.564 |     0.1\n",
      "\n",
      "Evaluating model..\n",
      "disjoint window...\n",
      "greedy_search...\n",
      "beam_search...\n",
      "sliding, greedy...\n",
      "uniform...\n",
      "triangle...\n",
      "bell...\n",
      "sliding, beam...\n",
      "uniform...\n",
      "triangle...\n",
      "bell...\n",
      "  experiment_id  improvement    window decoding  window_size  \\\n",
      "0          test -1313.940242  disjoint   greedy           10   \n",
      "1          test -1332.452024  disjoint   greedy            5   \n",
      "2          test -1300.407521  disjoint     beam           10   \n",
      "3          test -1304.791075  disjoint     beam            5   \n",
      "4          test -1350.852238   sliding   greedy            5   \n",
      "5          test -1354.354236   sliding   greedy            5   \n",
      "6          test -1366.268494   sliding   greedy            5   \n",
      "7          test -1327.743148   sliding     beam            5   \n",
      "8          test -1328.153720   sliding     beam            5   \n",
      "9          test -1325.532767   sliding     beam            5   \n",
      "\n",
      "   inference_seconds  cer_before  cer_after weighting  \n",
      "0           0.459944    5.530536  78.198471       NaN  \n",
      "1           0.400733    5.530536  79.222271       NaN  \n",
      "2           3.101559    5.530536  77.450039       NaN  \n",
      "3           2.702731    5.530536  77.692473       NaN  \n",
      "4           2.393110    5.530536  80.239902   uniform  \n",
      "5           2.298076    5.530536  80.433581  triangle  \n",
      "6           2.270854    5.530536  81.092503      bell  \n",
      "7          13.672665    5.530536  78.961845   uniform  \n",
      "8          13.586901    5.530536  78.984552  triangle  \n",
      "9          13.941043    5.530536  78.839599      bell  \n"
     ]
    }
   ],
   "source": [
    "%run scripts/train_models/launch_experiments.py --experiment_id=test --random"
   ]
  },
  {
   "cell_type": "code",
   "execution_count": null,
   "metadata": {},
   "outputs": [],
   "source": []
  }
 ],
 "metadata": {
  "kernelspec": {
   "display_name": "Python 3",
   "language": "python",
   "name": "python3"
  }
 },
 "nbformat": 4,
 "nbformat_minor": 4
}
