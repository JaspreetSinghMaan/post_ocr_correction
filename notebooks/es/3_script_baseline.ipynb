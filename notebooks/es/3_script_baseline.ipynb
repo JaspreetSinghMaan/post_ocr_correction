{
 "cells": [
  {
   "cell_type": "code",
   "execution_count": 2,
   "metadata": {},
   "outputs": [
    {
     "name": "stdout",
     "output_type": "stream",
     "text": [
      "main folder:/home/jarobyte/scratch/guemes/icdar/es/\n",
      "output folder:baseline\n",
      "\n",
      "Model: Transformer\n",
      "Tokens in the input vocabulary: 182\n",
      "Tokens in the output vocabulary: 182\n",
      "Max sequence length: 110\n",
      "Embedding dimension: 256\n",
      "Feedforward dimension: 1024\n",
      "Encoder layers: 2\n",
      "Decoder layers: 2\n",
      "Attention heads: 8\n",
      "Activation: relu\n",
      "Dropout: 0.4\n",
      "Trainable parameters: 3,855,542\n",
      "\n",
      "Training started\n",
      "Epochs: 10\n",
      "Learning rate: 0.0001\n",
      "Weight decay: 0.001\n",
      "Epoch | Train                 | Development           | Minutes\n",
      "      | Loss     | Error Rate | Loss     | Error Rate |\n",
      "---------------------------------------------------------------\n",
      "    1 |   4.4012 |     83.244 |   4.2320 |     99.960 |     0.0\n",
      "    2 |   3.5844 |     77.707 |   3.8039 |     99.089 |     0.0\n",
      "    3 |   3.3182 |     77.088 |   3.6094 |     92.277 |     0.0\n",
      "    4 |   3.1461 |     75.265 |   3.4594 |     85.485 |     0.0\n",
      "    5 |   3.0011 |     72.756 |   3.3018 |     80.733 |     0.0\n",
      "    6 |   2.8745 |     70.236 |   3.1664 |     78.208 |     0.1\n",
      "    7 |   2.7630 |     68.191 |   3.0840 |     78.000 |     0.1\n",
      "    8 |   2.6652 |     66.625 |   3.0250 |     77.842 |     0.1\n",
      "    9 |   2.5855 |     65.606 |   2.9725 |     77.554 |     0.1\n",
      "   10 |   2.5184 |     64.743 |   2.9266 |     77.337 |     0.1\n",
      "\n",
      "Evaluating model..\n",
      "disjoint window...\n",
      "greedy_search...\n",
      "beam_search...\n",
      "sliding, greedy...\n",
      "uniform...\n",
      "triangle...\n",
      "bell...\n",
      "sliding, beam...\n",
      "uniform...\n",
      "triangle...\n",
      "bell...\n",
      "  experiment_id  improvement    window decoding  window_size  \\\n",
      "0          test   -70.150204  disjoint   greedy           10   \n",
      "1          test   -67.381259  disjoint   greedy            5   \n",
      "2          test   -79.538192  disjoint     beam           10   \n",
      "3          test   -78.658891  disjoint     beam            5   \n",
      "4          test   -72.055369   sliding   greedy            5   \n",
      "5          test   -71.941569   sliding   greedy            5   \n",
      "6          test   -71.941569   sliding   greedy            5   \n",
      "7          test   -78.131311   sliding     beam            5   \n",
      "8          test   -78.131311   sliding     beam            5   \n",
      "9          test   -78.131311   sliding     beam            5   \n",
      "\n",
      "   inference_seconds  cer_before  cer_after weighting  \n",
      "0           0.647468   43.407167  73.857383       NaN  \n",
      "1           0.584162   43.407167  72.655462       NaN  \n",
      "2           4.998648   43.407167  77.932442       NaN  \n",
      "3           4.504213   43.407167  77.550763       NaN  \n",
      "4           4.149696   43.407167  74.684361   uniform  \n",
      "5           3.930020   43.407167  74.634964  triangle  \n",
      "6           3.926667   43.407167  74.634964      bell  \n",
      "7          23.705193   43.407167  77.321755   uniform  \n",
      "8          23.494794   43.407167  77.321755  triangle  \n",
      "9          23.261851   43.407167  77.321755      bell  \n"
     ]
    }
   ],
   "source": [
    "%run scripts/train_models/launch_experiments.py --experiment_id=test --random"
   ]
  },
  {
   "cell_type": "code",
   "execution_count": null,
   "metadata": {},
   "outputs": [],
   "source": []
  }
 ],
 "metadata": {
  "kernelspec": {
   "display_name": "Python 3",
   "language": "python",
   "name": "python3"
  },
  "language_info": {
   "codemirror_mode": {
    "name": "ipython",
    "version": 3
   },
   "file_extension": ".py",
   "mimetype": "text/x-python",
   "name": "python",
   "nbconvert_exporter": "python",
   "pygments_lexer": "ipython3",
   "version": "3.7.4"
  }
 },
 "nbformat": 4,
 "nbformat_minor": 4
}
