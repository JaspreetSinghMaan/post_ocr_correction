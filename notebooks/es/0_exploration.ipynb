{
 "cells": [
  {
   "cell_type": "code",
   "execution_count": 1,
   "metadata": {},
   "outputs": [],
   "source": [
    "import os\n",
    "from tqdm.notebook import tqdm\n",
    "from pathlib import Path\n",
    "import pandas as pd\n",
    "from nltk.lm import Vocabulary\n",
    "import sys\n",
    "sys.path.append(\"../../lib\")\n",
    "from metrics import levenshtein\n",
    "import pickle"
   ]
  },
  {
   "cell_type": "code",
   "execution_count": 2,
   "metadata": {},
   "outputs": [],
   "source": [
    "folder = \"../../data/ICDAR2019_POCR_competition_dataset/ICDAR2019_POCR_competition_training_18M_without_Finnish/ES/\""
   ]
  },
  {
   "cell_type": "code",
   "execution_count": 3,
   "metadata": {},
   "outputs": [],
   "source": [
    "output_folder = Path(\"../../data/es\")"
   ]
  },
  {
   "cell_type": "code",
   "execution_count": 4,
   "metadata": {},
   "outputs": [
    {
     "data": {
      "text/plain": [
       "1"
      ]
     },
     "execution_count": 4,
     "metadata": {},
     "output_type": "execute_result"
    }
   ],
   "source": [
    "files = sorted(os.listdir(folder))\n",
    "len(files)"
   ]
  },
  {
   "cell_type": "code",
   "execution_count": 5,
   "metadata": {},
   "outputs": [
    {
     "data": {
      "text/plain": [
       "147"
      ]
     },
     "execution_count": 5,
     "metadata": {},
     "output_type": "execute_result"
    }
   ],
   "source": [
    "import glob\n",
    "\n",
    "files = glob.glob(folder + '/**/*.txt', recursive=True)\n",
    "len(files)"
   ]
  },
  {
   "cell_type": "code",
   "execution_count": 6,
   "metadata": {},
   "outputs": [
    {
     "data": {
      "application/vnd.jupyter.widget-view+json": {
       "model_id": "bf5aea7ce94644a4b41dddabfe810daa",
       "version_major": 2,
       "version_minor": 0
      },
      "text/plain": [
       "  0%|          | 0/147 [00:00<?, ?it/s]"
      ]
     },
     "metadata": {},
     "output_type": "display_data"
    },
    {
     "data": {
      "text/plain": [
       "147"
      ]
     },
     "execution_count": 6,
     "metadata": {},
     "output_type": "execute_result"
    }
   ],
   "source": [
    "from multiprocessing import Pool\n",
    "\n",
    "def extract(name):\n",
    "    with open(name) as file:\n",
    "        return file.readlines()\n",
    "    \n",
    "def create_windows(x):\n",
    "    A, B, window_length = x\n",
    "    assert len(A) == len(B)\n",
    "    return [(A[i:i + window_length], B[i:i + window_length]) \n",
    "            for i in range(len(A) + 1)]\n",
    "    \n",
    "p = Pool(4)\n",
    "    \n",
    "data = list(p.imap_unordered(extract, tqdm(files), chunksize = 128))\n",
    "len(data)"
   ]
  },
  {
   "cell_type": "code",
   "execution_count": 7,
   "metadata": {},
   "outputs": [
    {
     "name": "stdout",
     "output_type": "stream",
     "text": [
      "(147, 3)\n"
     ]
    },
    {
     "data": {
      "text/html": [
       "<div>\n",
       "<style scoped>\n",
       "    .dataframe tbody tr th:only-of-type {\n",
       "        vertical-align: middle;\n",
       "    }\n",
       "\n",
       "    .dataframe tbody tr th {\n",
       "        vertical-align: top;\n",
       "    }\n",
       "\n",
       "    .dataframe thead th {\n",
       "        text-align: right;\n",
       "    }\n",
       "</style>\n",
       "<table border=\"1\" class=\"dataframe\">\n",
       "  <thead>\n",
       "    <tr style=\"text-align: right;\">\n",
       "      <th></th>\n",
       "      <th>ocr_to_input</th>\n",
       "      <th>ocr_aligned</th>\n",
       "      <th>gs_aligned</th>\n",
       "    </tr>\n",
       "  </thead>\n",
       "  <tbody>\n",
       "    <tr>\n",
       "      <th>0</th>\n",
       "      <td>A MI dón. Vease. Es voz andquada,y la trabe Ne...</td>\n",
       "      <td>@@@@@A MI@ dón. Vease. Es voz andquada,y la tr...</td>\n",
       "      <td>AMI A MIGAJAS. Vease@ @@Migája. AMIGO,@@@@ @@...</td>\n",
       "    </tr>\n",
       "    <tr>\n",
       "      <th>1</th>\n",
       "      <td>&amp; V S A Í1T7 iCnmulo &lt;t U Señora 'Dona diaria ...</td>\n",
       "      <td>@@@@@@@@@@@@@@@@@@@@@@@@&amp; @@@@@V @@S @@@A Í1T7...</td>\n",
       "      <td>© Biblioteca Nacional de España Tu- MVSA III....</td>\n",
       "    </tr>\n",
       "    <tr>\n",
       "      <th>2</th>\n",
       "      <td>De Don Pedro Calderón déla Barca.' No soy Alva...</td>\n",
       "      <td>@@@@@@@@@@@@@@@@@@@@@@@@@@@@@@@@@De Don Pedro ...</td>\n",
       "      <td>© Biblioteca Nacional de España De Don Pedro ...</td>\n",
       "    </tr>\n",
       "    <tr>\n",
       "      <th>3</th>\n",
       "      <td>EL REY. Or quanto por parte de vos la Real Aca...</td>\n",
       "      <td>@EL REY. Or quanto por parte de vos la Real Ac...</td>\n",
       "      <td>EL REY. Or quanto por parte de vos la Real Ac...</td>\n",
       "    </tr>\n",
       "    <tr>\n",
       "      <th>4</th>\n",
       "      <td>© Biblioteca Nacional de España w O i i i Come...</td>\n",
       "      <td>© Bibli@oteca @@@Na@@cio@@nal @@@@@@de España ...</td>\n",
       "      <td>@ Alarico. Vn soldado Romano, pregundo por ti ...</td>\n",
       "    </tr>\n",
       "  </tbody>\n",
       "</table>\n",
       "</div>"
      ],
      "text/plain": [
       "                                        ocr_to_input  \\\n",
       "0  A MI dón. Vease. Es voz andquada,y la trabe Ne...   \n",
       "1  & V S A Í1T7 iCnmulo <t U Señora 'Dona diaria ...   \n",
       "2  De Don Pedro Calderón déla Barca.' No soy Alva...   \n",
       "3  EL REY. Or quanto por parte de vos la Real Aca...   \n",
       "4  © Biblioteca Nacional de España w O i i i Come...   \n",
       "\n",
       "                                         ocr_aligned  \\\n",
       "0  @@@@@A MI@ dón. Vease. Es voz andquada,y la tr...   \n",
       "1  @@@@@@@@@@@@@@@@@@@@@@@@& @@@@@V @@S @@@A Í1T7...   \n",
       "2  @@@@@@@@@@@@@@@@@@@@@@@@@@@@@@@@@De Don Pedro ...   \n",
       "3  @EL REY. Or quanto por parte de vos la Real Ac...   \n",
       "4  © Bibli@oteca @@@Na@@cio@@nal @@@@@@de España ...   \n",
       "\n",
       "                                          gs_aligned  \n",
       "0   AMI A MIGAJAS. Vease@ @@Migája. AMIGO,@@@@ @@...  \n",
       "1   © Biblioteca Nacional de España Tu- MVSA III....  \n",
       "2   © Biblioteca Nacional de España De Don Pedro ...  \n",
       "3   EL REY. Or quanto por parte de vos la Real Ac...  \n",
       "4  @ Alarico. Vn soldado Romano, pregundo por ti ...  "
      ]
     },
     "execution_count": 7,
     "metadata": {},
     "output_type": "execute_result"
    }
   ],
   "source": [
    "# data = []\n",
    "# for f in tqdm(files):\n",
    "#     with open(f) as file:\n",
    "#         data.append(file.readlines())\n",
    "\n",
    "data = pd.DataFrame(data, \n",
    "                    columns = [\"ocr_to_input\", \n",
    "                               \"ocr_aligned\", \n",
    "                               \"gs_aligned\"])\\\n",
    ".assign(ocr_to_input = lambda df: df.ocr_to_input.str.replace(\"[OCR_toInput] \", \"\", regex = False),\n",
    "        ocr_aligned = lambda df: df.ocr_aligned.str.replace(\"[OCR_aligned] \", \"\", regex = False),\n",
    "        gs_aligned = lambda df: df.gs_aligned.str.replace(\"[ GS_aligned] \", \"\", regex = False))\n",
    "\n",
    "print(data.shape)\n",
    "data.head()"
   ]
  },
  {
   "cell_type": "code",
   "execution_count": 8,
   "metadata": {},
   "outputs": [
    {
     "data": {
      "text/html": [
       "<div>\n",
       "<style scoped>\n",
       "    .dataframe tbody tr th:only-of-type {\n",
       "        vertical-align: middle;\n",
       "    }\n",
       "\n",
       "    .dataframe tbody tr th {\n",
       "        vertical-align: top;\n",
       "    }\n",
       "\n",
       "    .dataframe thead th {\n",
       "        text-align: right;\n",
       "    }\n",
       "</style>\n",
       "<table border=\"1\" class=\"dataframe\">\n",
       "  <thead>\n",
       "    <tr style=\"text-align: right;\">\n",
       "      <th></th>\n",
       "      <th>ocr_to_input</th>\n",
       "      <th>ocr_aligned</th>\n",
       "      <th>gs_aligned</th>\n",
       "    </tr>\n",
       "  </thead>\n",
       "  <tbody>\n",
       "    <tr>\n",
       "      <th>count</th>\n",
       "      <td>147.000000</td>\n",
       "      <td>147.000000</td>\n",
       "      <td>147.000000</td>\n",
       "    </tr>\n",
       "    <tr>\n",
       "      <th>mean</th>\n",
       "      <td>2937.489796</td>\n",
       "      <td>3247.673469</td>\n",
       "      <td>3247.673469</td>\n",
       "    </tr>\n",
       "    <tr>\n",
       "      <th>std</th>\n",
       "      <td>1925.402795</td>\n",
       "      <td>2212.369396</td>\n",
       "      <td>2212.369396</td>\n",
       "    </tr>\n",
       "    <tr>\n",
       "      <th>min</th>\n",
       "      <td>261.000000</td>\n",
       "      <td>262.000000</td>\n",
       "      <td>262.000000</td>\n",
       "    </tr>\n",
       "    <tr>\n",
       "      <th>25%</th>\n",
       "      <td>1277.500000</td>\n",
       "      <td>1433.500000</td>\n",
       "      <td>1433.500000</td>\n",
       "    </tr>\n",
       "    <tr>\n",
       "      <th>50%</th>\n",
       "      <td>1861.000000</td>\n",
       "      <td>1999.000000</td>\n",
       "      <td>1999.000000</td>\n",
       "    </tr>\n",
       "    <tr>\n",
       "      <th>75%</th>\n",
       "      <td>5260.500000</td>\n",
       "      <td>5780.000000</td>\n",
       "      <td>5780.000000</td>\n",
       "    </tr>\n",
       "    <tr>\n",
       "      <th>max</th>\n",
       "      <td>5953.000000</td>\n",
       "      <td>6993.000000</td>\n",
       "      <td>6993.000000</td>\n",
       "    </tr>\n",
       "  </tbody>\n",
       "</table>\n",
       "</div>"
      ],
      "text/plain": [
       "       ocr_to_input  ocr_aligned   gs_aligned\n",
       "count    147.000000   147.000000   147.000000\n",
       "mean    2937.489796  3247.673469  3247.673469\n",
       "std     1925.402795  2212.369396  2212.369396\n",
       "min      261.000000   262.000000   262.000000\n",
       "25%     1277.500000  1433.500000  1433.500000\n",
       "50%     1861.000000  1999.000000  1999.000000\n",
       "75%     5260.500000  5780.000000  5780.000000\n",
       "max     5953.000000  6993.000000  6993.000000"
      ]
     },
     "execution_count": 8,
     "metadata": {},
     "output_type": "execute_result"
    }
   ],
   "source": [
    "data.applymap(len).describe()"
   ]
  },
  {
   "cell_type": "code",
   "execution_count": 9,
   "metadata": {},
   "outputs": [
    {
     "data": {
      "text/plain": [
       "count     147.000000\n",
       "mean       76.538615\n",
       "std       450.688649\n",
       "min         4.203205\n",
       "25%        11.185187\n",
       "50%        27.146042\n",
       "75%        55.906375\n",
       "max      5452.173913\n",
       "Name: cer, dtype: float64"
      ]
     },
     "execution_count": 9,
     "metadata": {},
     "output_type": "execute_result"
    }
   ],
   "source": [
    "levenshtein(reference = data.gs_aligned.str.replace(\"@\", \"\"), \n",
    "            hypothesis = data.ocr_to_input).cer.describe()"
   ]
  },
  {
   "cell_type": "code",
   "execution_count": 10,
   "metadata": {},
   "outputs": [
    {
     "data": {
      "text/plain": [
       "count    147.000000\n",
       "mean      30.835365\n",
       "std       21.797847\n",
       "min        4.166667\n",
       "25%       10.892862\n",
       "50%       25.373394\n",
       "75%       46.905675\n",
       "max       98.275862\n",
       "Name: cer, dtype: float64"
      ]
     },
     "execution_count": 10,
     "metadata": {},
     "output_type": "execute_result"
    }
   ],
   "source": [
    "levenshtein(reference = data.gs_aligned, \n",
    "            hypothesis = data.ocr_aligned).cer.describe()"
   ]
  },
  {
   "cell_type": "code",
   "execution_count": 11,
   "metadata": {},
   "outputs": [
    {
     "name": "stdout",
     "output_type": "stream",
     "text": [
      "179\n"
     ]
    }
   ],
   "source": [
    "vocabulary = Vocabulary(data.ocr_to_input.sum() + data.ocr_aligned.sum() + data.gs_aligned.sum())\n",
    "print(len(vocabulary))\n",
    "with open(output_folder/\"data/vocabulary.pkl\", \"wb\") as file:\n",
    "    pickle.dump(vocabulary, file)"
   ]
  },
  {
   "cell_type": "code",
   "execution_count": 12,
   "metadata": {},
   "outputs": [
    {
     "data": {
      "text/plain": [
       "(5, 3)"
      ]
     },
     "execution_count": 12,
     "metadata": {},
     "output_type": "execute_result"
    }
   ],
   "source": [
    "dev = data.sample(n = 5, random_state = 1)\n",
    "dev.to_pickle(output_folder/\"data/dev.pkl\")\n",
    "dev.shape"
   ]
  },
  {
   "cell_type": "code",
   "execution_count": 13,
   "metadata": {},
   "outputs": [
    {
     "data": {
      "text/plain": [
       "(142, 3)"
      ]
     },
     "execution_count": 13,
     "metadata": {},
     "output_type": "execute_result"
    }
   ],
   "source": [
    "train = data.drop(dev.index)\n",
    "train.to_pickle(output_folder/\"data/train.pkl\")\n",
    "train.shape"
   ]
  },
  {
   "cell_type": "code",
   "execution_count": 23,
   "metadata": {},
   "outputs": [
    {
     "data": {
      "text/html": [
       "<div>\n",
       "<style scoped>\n",
       "    .dataframe tbody tr th:only-of-type {\n",
       "        vertical-align: middle;\n",
       "    }\n",
       "\n",
       "    .dataframe tbody tr th {\n",
       "        vertical-align: top;\n",
       "    }\n",
       "\n",
       "    .dataframe thead th {\n",
       "        text-align: right;\n",
       "    }\n",
       "</style>\n",
       "<table border=\"1\" class=\"dataframe\">\n",
       "  <thead>\n",
       "    <tr style=\"text-align: right;\">\n",
       "      <th></th>\n",
       "      <th>ocr_to_input</th>\n",
       "      <th>ocr_aligned</th>\n",
       "      <th>gs_aligned</th>\n",
       "    </tr>\n",
       "  </thead>\n",
       "  <tbody>\n",
       "    <tr>\n",
       "      <th>count</th>\n",
       "      <td>142.000000</td>\n",
       "      <td>142.000000</td>\n",
       "      <td>142.000000</td>\n",
       "    </tr>\n",
       "    <tr>\n",
       "      <th>mean</th>\n",
       "      <td>2966.626761</td>\n",
       "      <td>3282.007042</td>\n",
       "      <td>3282.007042</td>\n",
       "    </tr>\n",
       "    <tr>\n",
       "      <th>std</th>\n",
       "      <td>1918.321080</td>\n",
       "      <td>2207.777575</td>\n",
       "      <td>2207.777575</td>\n",
       "    </tr>\n",
       "    <tr>\n",
       "      <th>min</th>\n",
       "      <td>311.000000</td>\n",
       "      <td>313.000000</td>\n",
       "      <td>313.000000</td>\n",
       "    </tr>\n",
       "    <tr>\n",
       "      <th>25%</th>\n",
       "      <td>1281.250000</td>\n",
       "      <td>1457.750000</td>\n",
       "      <td>1457.750000</td>\n",
       "    </tr>\n",
       "    <tr>\n",
       "      <th>50%</th>\n",
       "      <td>1876.000000</td>\n",
       "      <td>2033.000000</td>\n",
       "      <td>2033.000000</td>\n",
       "    </tr>\n",
       "    <tr>\n",
       "      <th>75%</th>\n",
       "      <td>5261.750000</td>\n",
       "      <td>5786.000000</td>\n",
       "      <td>5786.000000</td>\n",
       "    </tr>\n",
       "    <tr>\n",
       "      <th>max</th>\n",
       "      <td>5953.000000</td>\n",
       "      <td>6993.000000</td>\n",
       "      <td>6993.000000</td>\n",
       "    </tr>\n",
       "  </tbody>\n",
       "</table>\n",
       "</div>"
      ],
      "text/plain": [
       "       ocr_to_input  ocr_aligned   gs_aligned\n",
       "count    142.000000   142.000000   142.000000\n",
       "mean    2966.626761  3282.007042  3282.007042\n",
       "std     1918.321080  2207.777575  2207.777575\n",
       "min      311.000000   313.000000   313.000000\n",
       "25%     1281.250000  1457.750000  1457.750000\n",
       "50%     1876.000000  2033.000000  2033.000000\n",
       "75%     5261.750000  5786.000000  5786.000000\n",
       "max     5953.000000  6993.000000  6993.000000"
      ]
     },
     "execution_count": 23,
     "metadata": {},
     "output_type": "execute_result"
    }
   ],
   "source": [
    "train.applymap(len).describe()"
   ]
  },
  {
   "cell_type": "code",
   "execution_count": 14,
   "metadata": {},
   "outputs": [
    {
     "data": {
      "text/html": [
       "<div>\n",
       "<style scoped>\n",
       "    .dataframe tbody tr th:only-of-type {\n",
       "        vertical-align: middle;\n",
       "    }\n",
       "\n",
       "    .dataframe tbody tr th {\n",
       "        vertical-align: top;\n",
       "    }\n",
       "\n",
       "    .dataframe thead th {\n",
       "        text-align: right;\n",
       "    }\n",
       "</style>\n",
       "<table border=\"1\" class=\"dataframe\">\n",
       "  <thead>\n",
       "    <tr style=\"text-align: right;\">\n",
       "      <th></th>\n",
       "      <th>ocr_to_input</th>\n",
       "      <th>ocr_aligned</th>\n",
       "      <th>gs_aligned</th>\n",
       "    </tr>\n",
       "  </thead>\n",
       "  <tbody>\n",
       "    <tr>\n",
       "      <th>count</th>\n",
       "      <td>5.000000</td>\n",
       "      <td>5.000000</td>\n",
       "      <td>5.000000</td>\n",
       "    </tr>\n",
       "    <tr>\n",
       "      <th>mean</th>\n",
       "      <td>2110.000000</td>\n",
       "      <td>2272.600000</td>\n",
       "      <td>2272.600000</td>\n",
       "    </tr>\n",
       "    <tr>\n",
       "      <th>std</th>\n",
       "      <td>2169.658498</td>\n",
       "      <td>2367.143384</td>\n",
       "      <td>2367.143384</td>\n",
       "    </tr>\n",
       "    <tr>\n",
       "      <th>min</th>\n",
       "      <td>261.000000</td>\n",
       "      <td>262.000000</td>\n",
       "      <td>262.000000</td>\n",
       "    </tr>\n",
       "    <tr>\n",
       "      <th>25%</th>\n",
       "      <td>1208.000000</td>\n",
       "      <td>1255.000000</td>\n",
       "      <td>1255.000000</td>\n",
       "    </tr>\n",
       "    <tr>\n",
       "      <th>50%</th>\n",
       "      <td>1437.000000</td>\n",
       "      <td>1498.000000</td>\n",
       "      <td>1498.000000</td>\n",
       "    </tr>\n",
       "    <tr>\n",
       "      <th>75%</th>\n",
       "      <td>1787.000000</td>\n",
       "      <td>1994.000000</td>\n",
       "      <td>1994.000000</td>\n",
       "    </tr>\n",
       "    <tr>\n",
       "      <th>max</th>\n",
       "      <td>5857.000000</td>\n",
       "      <td>6354.000000</td>\n",
       "      <td>6354.000000</td>\n",
       "    </tr>\n",
       "  </tbody>\n",
       "</table>\n",
       "</div>"
      ],
      "text/plain": [
       "       ocr_to_input  ocr_aligned   gs_aligned\n",
       "count      5.000000     5.000000     5.000000\n",
       "mean    2110.000000  2272.600000  2272.600000\n",
       "std     2169.658498  2367.143384  2367.143384\n",
       "min      261.000000   262.000000   262.000000\n",
       "25%     1208.000000  1255.000000  1255.000000\n",
       "50%     1437.000000  1498.000000  1498.000000\n",
       "75%     1787.000000  1994.000000  1994.000000\n",
       "max     5857.000000  6354.000000  6354.000000"
      ]
     },
     "execution_count": 14,
     "metadata": {},
     "output_type": "execute_result"
    }
   ],
   "source": [
    "dev.applymap(len).describe()"
   ]
  },
  {
   "cell_type": "code",
   "execution_count": 15,
   "metadata": {},
   "outputs": [
    {
     "data": {
      "text/plain": [
       "count      5.000000\n",
       "mean     167.521258\n",
       "std      296.806703\n",
       "min       10.664479\n",
       "25%       16.410615\n",
       "50%       49.858677\n",
       "75%       63.702822\n",
       "max      696.969697\n",
       "Name: cer, dtype: float64"
      ]
     },
     "execution_count": 15,
     "metadata": {},
     "output_type": "execute_result"
    }
   ],
   "source": [
    "levenshtein(reference = dev.gs_aligned.str.replace(\"@\", \"\"), \n",
    "            hypothesis = dev.ocr_to_input).cer.describe()"
   ]
  },
  {
   "cell_type": "code",
   "execution_count": 16,
   "metadata": {},
   "outputs": [
    {
     "data": {
      "text/plain": [
       "count     5.000000\n",
       "mean     43.407167\n",
       "std      31.910011\n",
       "min      10.358566\n",
       "25%      15.687583\n",
       "50%      44.232698\n",
       "75%      58.970727\n",
       "max      87.786260\n",
       "Name: cer, dtype: float64"
      ]
     },
     "execution_count": 16,
     "metadata": {},
     "output_type": "execute_result"
    }
   ],
   "source": [
    "levenshtein(reference = dev.gs_aligned, \n",
    "            hypothesis = dev.ocr_to_input).cer.describe()"
   ]
  },
  {
   "cell_type": "code",
   "execution_count": 17,
   "metadata": {},
   "outputs": [],
   "source": [
    "window_length = 100"
   ]
  },
  {
   "cell_type": "code",
   "execution_count": 18,
   "metadata": {},
   "outputs": [
    {
     "data": {
      "application/vnd.jupyter.widget-view+json": {
       "model_id": "0d7ff64c69ef445186941ca14b536867",
       "version_major": 2,
       "version_minor": 0
      },
      "text/plain": [
       "  0%|          | 0/142 [00:00<?, ?it/s]"
      ]
     },
     "metadata": {},
     "output_type": "display_data"
    },
    {
     "data": {
      "application/vnd.jupyter.widget-view+json": {
       "model_id": "5263acfd8d38439988a29883d8e32632",
       "version_major": 2,
       "version_minor": 0
      },
      "text/plain": [
       "  0%|          | 0/142 [00:00<?, ?it/s]"
      ]
     },
     "metadata": {},
     "output_type": "display_data"
    },
    {
     "name": "stdout",
     "output_type": "stream",
     "text": [
      "(466187, 2)\n"
     ]
    },
    {
     "data": {
      "text/html": [
       "<div>\n",
       "<style scoped>\n",
       "    .dataframe tbody tr th:only-of-type {\n",
       "        vertical-align: middle;\n",
       "    }\n",
       "\n",
       "    .dataframe tbody tr th {\n",
       "        vertical-align: top;\n",
       "    }\n",
       "\n",
       "    .dataframe thead th {\n",
       "        text-align: right;\n",
       "    }\n",
       "</style>\n",
       "<table border=\"1\" class=\"dataframe\">\n",
       "  <thead>\n",
       "    <tr style=\"text-align: right;\">\n",
       "      <th></th>\n",
       "      <th>source</th>\n",
       "      <th>target</th>\n",
       "    </tr>\n",
       "  </thead>\n",
       "  <tbody>\n",
       "    <tr>\n",
       "      <th>0</th>\n",
       "      <td>LIBRO V. nian en la corte, assí para grande za...</td>\n",
       "      <td>@@@ CAP. @XI. LIBRO @@@@V. @@DE @LOS @@@@llos....</td>\n",
       "    </tr>\n",
       "    <tr>\n",
       "      <th>1</th>\n",
       "      <td>IBRO V. nian en la corte, assí para grande za ...</td>\n",
       "      <td>@@ CAP. @XI. LIBRO @@@@V. @@DE @LOS @@@@llos. ...</td>\n",
       "    </tr>\n",
       "    <tr>\n",
       "      <th>2</th>\n",
       "      <td>BRO V. nian en la corte, assí para grande za d...</td>\n",
       "      <td>@ CAP. @XI. LIBRO @@@@V. @@DE @LOS @@@@llos. D...</td>\n",
       "    </tr>\n",
       "    <tr>\n",
       "      <th>3</th>\n",
       "      <td>RO V. nian en la corte, assí para grande za de...</td>\n",
       "      <td>CAP. @XI. LIBRO @@@@V. @@DE @LOS @@@@llos. De...</td>\n",
       "    </tr>\n",
       "    <tr>\n",
       "      <th>4</th>\n",
       "      <td>O V. nian en la corte, assí para grande za del...</td>\n",
       "      <td>CAP. @XI. LIBRO @@@@V. @@DE @LOS @@@@llos. De ...</td>\n",
       "    </tr>\n",
       "  </tbody>\n",
       "</table>\n",
       "</div>"
      ],
      "text/plain": [
       "                                              source  \\\n",
       "0  LIBRO V. nian en la corte, assí para grande za...   \n",
       "1  IBRO V. nian en la corte, assí para grande za ...   \n",
       "2  BRO V. nian en la corte, assí para grande za d...   \n",
       "3  RO V. nian en la corte, assí para grande za de...   \n",
       "4  O V. nian en la corte, assí para grande za del...   \n",
       "\n",
       "                                              target  \n",
       "0  @@@ CAP. @XI. LIBRO @@@@V. @@DE @LOS @@@@llos....  \n",
       "1  @@ CAP. @XI. LIBRO @@@@V. @@DE @LOS @@@@llos. ...  \n",
       "2  @ CAP. @XI. LIBRO @@@@V. @@DE @LOS @@@@llos. D...  \n",
       "3   CAP. @XI. LIBRO @@@@V. @@DE @LOS @@@@llos. De...  \n",
       "4  CAP. @XI. LIBRO @@@@V. @@DE @LOS @@@@llos. De ...  "
      ]
     },
     "execution_count": 18,
     "metadata": {},
     "output_type": "execute_result"
    }
   ],
   "source": [
    "df = train#.head(100)\n",
    "train_aligned = list(p.imap_unordered(create_windows, \n",
    "                                      tqdm(zip(df.ocr_aligned, \n",
    "                                               df.gs_aligned, \n",
    "                                               [window_length for x in df.ocr_aligned]), \n",
    "                                           total = len(df.ocr_aligned)),\n",
    "                                      chunksize = 128))\n",
    "s = []\n",
    "for r in tqdm(train_aligned):\n",
    "    s.extend(r)\n",
    "train_aligned = pd.DataFrame(s, columns = [\"source\", \"target\"])\n",
    "print(train_aligned.shape)\n",
    "train_aligned.head()"
   ]
  },
  {
   "cell_type": "code",
   "execution_count": 19,
   "metadata": {},
   "outputs": [
    {
     "data": {
      "text/html": [
       "<div>\n",
       "<style scoped>\n",
       "    .dataframe tbody tr th:only-of-type {\n",
       "        vertical-align: middle;\n",
       "    }\n",
       "\n",
       "    .dataframe tbody tr th {\n",
       "        vertical-align: top;\n",
       "    }\n",
       "\n",
       "    .dataframe thead th {\n",
       "        text-align: right;\n",
       "    }\n",
       "</style>\n",
       "<table border=\"1\" class=\"dataframe\">\n",
       "  <thead>\n",
       "    <tr style=\"text-align: right;\">\n",
       "      <th></th>\n",
       "      <th>source</th>\n",
       "      <th>target</th>\n",
       "    </tr>\n",
       "  </thead>\n",
       "  <tbody>\n",
       "    <tr>\n",
       "      <th>0</th>\n",
       "      <td>LIBRO V. nian en la corte, assí para grande za...</td>\n",
       "      <td>@@@ CAP. @XI. LIBRO @@@@V. @@DE @LOS @@@@llos....</td>\n",
       "    </tr>\n",
       "    <tr>\n",
       "      <th>1</th>\n",
       "      <td>IBRO V. nian en la corte, assí para grande za ...</td>\n",
       "      <td>@@ CAP. @XI. LIBRO @@@@V. @@DE @LOS @@@@llos. ...</td>\n",
       "    </tr>\n",
       "    <tr>\n",
       "      <th>2</th>\n",
       "      <td>BRO V. nian en la corte, assí para grande za d...</td>\n",
       "      <td>@ CAP. @XI. LIBRO @@@@V. @@DE @LOS @@@@llos. D...</td>\n",
       "    </tr>\n",
       "    <tr>\n",
       "      <th>3</th>\n",
       "      <td>RO V. nian en la corte, assí para grande za de...</td>\n",
       "      <td>CAP. @XI. LIBRO @@@@V. @@DE @LOS @@@@llos. De...</td>\n",
       "    </tr>\n",
       "    <tr>\n",
       "      <th>4</th>\n",
       "      <td>O V. nian en la corte, assí para grande za del...</td>\n",
       "      <td>CAP. @XI. LIBRO @@@@V. @@DE @LOS @@@@llos. De ...</td>\n",
       "    </tr>\n",
       "  </tbody>\n",
       "</table>\n",
       "</div>"
      ],
      "text/plain": [
       "                                              source  \\\n",
       "0  LIBRO V. nian en la corte, assí para grande za...   \n",
       "1  IBRO V. nian en la corte, assí para grande za ...   \n",
       "2  BRO V. nian en la corte, assí para grande za d...   \n",
       "3  RO V. nian en la corte, assí para grande za de...   \n",
       "4  O V. nian en la corte, assí para grande za del...   \n",
       "\n",
       "                                              target  \n",
       "0  @@@ CAP. @XI. LIBRO @@@@V. @@DE @LOS @@@@llos....  \n",
       "1  @@ CAP. @XI. LIBRO @@@@V. @@DE @LOS @@@@llos. ...  \n",
       "2  @ CAP. @XI. LIBRO @@@@V. @@DE @LOS @@@@llos. D...  \n",
       "3   CAP. @XI. LIBRO @@@@V. @@DE @LOS @@@@llos. De...  \n",
       "4  CAP. @XI. LIBRO @@@@V. @@DE @LOS @@@@llos. De ...  "
      ]
     },
     "execution_count": 19,
     "metadata": {},
     "output_type": "execute_result"
    }
   ],
   "source": [
    "train_aligned = train_aligned.assign(source = lambda df: df.source.str.replace(\"@\", \"\"))\n",
    "train_aligned.head()"
   ]
  },
  {
   "cell_type": "code",
   "execution_count": 20,
   "metadata": {},
   "outputs": [
    {
     "name": "stdout",
     "output_type": "stream",
     "text": [
      "(11368, 2)\n"
     ]
    },
    {
     "data": {
      "text/html": [
       "<div>\n",
       "<style scoped>\n",
       "    .dataframe tbody tr th:only-of-type {\n",
       "        vertical-align: middle;\n",
       "    }\n",
       "\n",
       "    .dataframe tbody tr th {\n",
       "        vertical-align: top;\n",
       "    }\n",
       "\n",
       "    .dataframe thead th {\n",
       "        text-align: right;\n",
       "    }\n",
       "</style>\n",
       "<table border=\"1\" class=\"dataframe\">\n",
       "  <thead>\n",
       "    <tr style=\"text-align: right;\">\n",
       "      <th></th>\n",
       "      <th>source</th>\n",
       "      <th>target</th>\n",
       "    </tr>\n",
       "  </thead>\n",
       "  <tbody>\n",
       "    <tr>\n",
       "      <th>0</th>\n",
       "      <td>m v ak* vi. Hamc faltado modorra, En iendo el ...</td>\n",
       "      <td>@ @MVSA VI. Hame faltado modorra, En iendo el ...</td>\n",
       "    </tr>\n",
       "    <tr>\n",
       "      <th>1</th>\n",
       "      <td>v ak* vi. Hamc faltado modorra, En iendo el r...</td>\n",
       "      <td>@MVSA VI. Hame faltado modorra, En iendo el r...</td>\n",
       "    </tr>\n",
       "    <tr>\n",
       "      <th>2</th>\n",
       "      <td>v ak* vi. Hamc faltado modorra, En iendo el re...</td>\n",
       "      <td>@MVSA VI. Hame faltado modorra, En iendo el re...</td>\n",
       "    </tr>\n",
       "    <tr>\n",
       "      <th>3</th>\n",
       "      <td>ak* vi. Hamc faltado modorra, En iendo el ret...</td>\n",
       "      <td>MVSA VI. Hame faltado modorra, En iendo el ret...</td>\n",
       "    </tr>\n",
       "    <tr>\n",
       "      <th>4</th>\n",
       "      <td>ak* vi. Hamc faltado modorra, En iendo el reto...</td>\n",
       "      <td>VSA VI. Hame faltado modorra, En iendo el reto...</td>\n",
       "    </tr>\n",
       "  </tbody>\n",
       "</table>\n",
       "</div>"
      ],
      "text/plain": [
       "                                              source  \\\n",
       "0  m v ak* vi. Hamc faltado modorra, En iendo el ...   \n",
       "1   v ak* vi. Hamc faltado modorra, En iendo el r...   \n",
       "2  v ak* vi. Hamc faltado modorra, En iendo el re...   \n",
       "3   ak* vi. Hamc faltado modorra, En iendo el ret...   \n",
       "4  ak* vi. Hamc faltado modorra, En iendo el reto...   \n",
       "\n",
       "                                              target  \n",
       "0  @ @MVSA VI. Hame faltado modorra, En iendo el ...  \n",
       "1   @MVSA VI. Hame faltado modorra, En iendo el r...  \n",
       "2  @MVSA VI. Hame faltado modorra, En iendo el re...  \n",
       "3  MVSA VI. Hame faltado modorra, En iendo el ret...  \n",
       "4  VSA VI. Hame faltado modorra, En iendo el reto...  "
      ]
     },
     "execution_count": 20,
     "metadata": {},
     "output_type": "execute_result"
    }
   ],
   "source": [
    "dev_aligned = dev.apply(lambda r: create_windows((r[\"ocr_aligned\"], r[\"gs_aligned\"], window_length)), \n",
    "                            axis = 1).sum()\n",
    "dev_aligned = pd.DataFrame(dev_aligned, columns = [\"source\", \"target\"])\n",
    "print(dev_aligned.shape)\n",
    "dev_aligned.head()"
   ]
  },
  {
   "cell_type": "code",
   "execution_count": 21,
   "metadata": {},
   "outputs": [
    {
     "data": {
      "text/html": [
       "<div>\n",
       "<style scoped>\n",
       "    .dataframe tbody tr th:only-of-type {\n",
       "        vertical-align: middle;\n",
       "    }\n",
       "\n",
       "    .dataframe tbody tr th {\n",
       "        vertical-align: top;\n",
       "    }\n",
       "\n",
       "    .dataframe thead th {\n",
       "        text-align: right;\n",
       "    }\n",
       "</style>\n",
       "<table border=\"1\" class=\"dataframe\">\n",
       "  <thead>\n",
       "    <tr style=\"text-align: right;\">\n",
       "      <th></th>\n",
       "      <th>source</th>\n",
       "      <th>target</th>\n",
       "    </tr>\n",
       "  </thead>\n",
       "  <tbody>\n",
       "    <tr>\n",
       "      <th>0</th>\n",
       "      <td>m v ak* vi. Hamc faltado modorra, En iendo el ...</td>\n",
       "      <td>@ @MVSA VI. Hame faltado modorra, En iendo el ...</td>\n",
       "    </tr>\n",
       "    <tr>\n",
       "      <th>1</th>\n",
       "      <td>v ak* vi. Hamc faltado modorra, En iendo el r...</td>\n",
       "      <td>@MVSA VI. Hame faltado modorra, En iendo el r...</td>\n",
       "    </tr>\n",
       "    <tr>\n",
       "      <th>2</th>\n",
       "      <td>v ak* vi. Hamc faltado modorra, En iendo el re...</td>\n",
       "      <td>@MVSA VI. Hame faltado modorra, En iendo el re...</td>\n",
       "    </tr>\n",
       "    <tr>\n",
       "      <th>3</th>\n",
       "      <td>ak* vi. Hamc faltado modorra, En iendo el ret...</td>\n",
       "      <td>MVSA VI. Hame faltado modorra, En iendo el ret...</td>\n",
       "    </tr>\n",
       "    <tr>\n",
       "      <th>4</th>\n",
       "      <td>ak* vi. Hamc faltado modorra, En iendo el reto...</td>\n",
       "      <td>VSA VI. Hame faltado modorra, En iendo el reto...</td>\n",
       "    </tr>\n",
       "  </tbody>\n",
       "</table>\n",
       "</div>"
      ],
      "text/plain": [
       "                                              source  \\\n",
       "0  m v ak* vi. Hamc faltado modorra, En iendo el ...   \n",
       "1   v ak* vi. Hamc faltado modorra, En iendo el r...   \n",
       "2  v ak* vi. Hamc faltado modorra, En iendo el re...   \n",
       "3   ak* vi. Hamc faltado modorra, En iendo el ret...   \n",
       "4  ak* vi. Hamc faltado modorra, En iendo el reto...   \n",
       "\n",
       "                                              target  \n",
       "0  @ @MVSA VI. Hame faltado modorra, En iendo el ...  \n",
       "1   @MVSA VI. Hame faltado modorra, En iendo el r...  \n",
       "2  @MVSA VI. Hame faltado modorra, En iendo el re...  \n",
       "3  MVSA VI. Hame faltado modorra, En iendo el ret...  \n",
       "4  VSA VI. Hame faltado modorra, En iendo el reto...  "
      ]
     },
     "execution_count": 21,
     "metadata": {},
     "output_type": "execute_result"
    }
   ],
   "source": [
    "dev_aligned = dev_aligned.assign(source = lambda df: df.source.str.replace(\"@\", \"\"))\n",
    "dev_aligned.head()"
   ]
  },
  {
   "cell_type": "code",
   "execution_count": 22,
   "metadata": {},
   "outputs": [],
   "source": [
    "train_aligned.to_pickle(output_folder/\"data/train_aligned.pkl\")\n",
    "dev_aligned.to_pickle(output_folder/\"data/dev_aligned.pkl\")"
   ]
  }
 ],
 "metadata": {
  "kernelspec": {
   "display_name": "Python 3",
   "language": "python",
   "name": "python3"
  },
  "language_info": {
   "codemirror_mode": {
    "name": "ipython",
    "version": 3
   },
   "file_extension": ".py",
   "mimetype": "text/x-python",
   "name": "python",
   "nbconvert_exporter": "python",
   "pygments_lexer": "ipython3",
   "version": "3.8.8"
  },
  "toc": {
   "base_numbering": 1,
   "nav_menu": {},
   "number_sections": true,
   "sideBar": true,
   "skip_h1_title": false,
   "title_cell": "Table of Contents",
   "title_sidebar": "Contents",
   "toc_cell": false,
   "toc_position": {},
   "toc_section_display": true,
   "toc_window_display": false
  }
 },
 "nbformat": 4,
 "nbformat_minor": 4
}
