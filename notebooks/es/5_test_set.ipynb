{
 "cells": [
  {
   "cell_type": "code",
   "execution_count": 1,
   "metadata": {},
   "outputs": [],
   "source": [
    "import os\n",
    "from tqdm.notebook import tqdm\n",
    "from pathlib import Path\n",
    "import pandas as pd\n",
    "from nltk.lm import Vocabulary\n",
    "import pickle\n",
    "import sys\n",
    "import torch\n",
    "import importlib\n",
    "from timeit import default_timer as t\n",
    "sys.path.append(\"../../lib\")\n",
    "from metrics import levenshtein\n",
    "import ocr_correction\n",
    "from pytorch_decoding import seq2seq"
   ]
  },
  {
   "cell_type": "code",
   "execution_count": 2,
   "metadata": {},
   "outputs": [],
   "source": [
    "folder = \"../../data/ICDAR2019_POCR_competition_dataset/ICDAR2019_POCR_competition_evaluation_4M_without_Finnish/ES/\""
   ]
  },
  {
   "cell_type": "code",
   "execution_count": 3,
   "metadata": {},
   "outputs": [
    {
     "data": {
      "text/plain": [
       "1"
      ]
     },
     "execution_count": 3,
     "metadata": {},
     "output_type": "execute_result"
    }
   ],
   "source": [
    "files = sorted(os.listdir(folder))\n",
    "len(files)"
   ]
  },
  {
   "cell_type": "code",
   "execution_count": 4,
   "metadata": {},
   "outputs": [
    {
     "data": {
      "text/plain": [
       "50"
      ]
     },
     "execution_count": 4,
     "metadata": {},
     "output_type": "execute_result"
    }
   ],
   "source": [
    "import glob\n",
    "\n",
    "files = glob.glob(folder + '/**/*.txt', recursive=True)\n",
    "len(files)"
   ]
  },
  {
   "cell_type": "code",
   "execution_count": 5,
   "metadata": {},
   "outputs": [
    {
     "data": {
      "application/vnd.jupyter.widget-view+json": {
       "model_id": "4e0448c65c4c4433b04af55b8d011af6",
       "version_major": 2,
       "version_minor": 0
      },
      "text/plain": [
       "  0%|          | 0/50 [00:00<?, ?it/s]"
      ]
     },
     "metadata": {},
     "output_type": "display_data"
    }
   ],
   "source": [
    "data = []\n",
    "for f in tqdm(files):\n",
    "    with open(f) as file:\n",
    "        data.append(file.readlines())"
   ]
  },
  {
   "cell_type": "code",
   "execution_count": 6,
   "metadata": {},
   "outputs": [
    {
     "name": "stdout",
     "output_type": "stream",
     "text": [
      "(50, 3)\n"
     ]
    },
    {
     "data": {
      "text/html": [
       "<div>\n",
       "<style scoped>\n",
       "    .dataframe tbody tr th:only-of-type {\n",
       "        vertical-align: middle;\n",
       "    }\n",
       "\n",
       "    .dataframe tbody tr th {\n",
       "        vertical-align: top;\n",
       "    }\n",
       "\n",
       "    .dataframe thead th {\n",
       "        text-align: right;\n",
       "    }\n",
       "</style>\n",
       "<table border=\"1\" class=\"dataframe\">\n",
       "  <thead>\n",
       "    <tr style=\"text-align: right;\">\n",
       "      <th></th>\n",
       "      <th>ocr_to_input</th>\n",
       "      <th>ocr_aligned</th>\n",
       "      <th>gs_aligned</th>\n",
       "    </tr>\n",
       "  </thead>\n",
       "  <tbody>\n",
       "    <tr>\n",
       "      <th>0</th>\n",
       "      <td>Dilujc delVeneralleYarcn pues de a ver repetid...</td>\n",
       "      <td>@@@@@@@@@@Dilujc del@Veneralle@Yarcn@@@ pues d...</td>\n",
       "      <td>cuarenta Dibujo del Venerable Varon 42 pues d...</td>\n",
       "    </tr>\n",
       "    <tr>\n",
       "      <th>1</th>\n",
       "      <td>M E D tir a Juan Bentiyollu, que con Ginebra S...</td>\n",
       "      <td>M E D tir a Juan Bentiyollu, que con Ginebra S...</td>\n",
       "      <td>@ MED tir à Juan Bentivollo, que con Ginebra S...</td>\n",
       "    </tr>\n",
       "    <tr>\n",
       "      <th>2</th>\n",
       "      <td>CAN no tienen oficio,ni domicílio.LatAa/afro,!...</td>\n",
       "      <td>@CA@@N@@@@@ no@@@@@ @@@ti@@@@@@@@@@@@@en@@@@@@...</td>\n",
       "      <td>CAN Ne ffs sodalis rustico: cave prudens. CAñ...</td>\n",
       "    </tr>\n",
       "    <tr>\n",
       "      <th>3</th>\n",
       "      <td>[ ' il 1 592 M O L MOLINILLO, f. m. Dim. El in...</td>\n",
       "      <td>[ ' il 1 592 M O L MOLINILLO, f. m. Dim. El in...</td>\n",
       "      <td>@@@@@@@@ 592@@@@@@ MOLINILLO. s. m. Dim. El in...</td>\n",
       "    </tr>\n",
       "    <tr>\n",
       "      <th>4</th>\n",
       "      <td>C 30 Declaración de ¡4 don que en ellas haze d...</td>\n",
       "      <td>C 30 Declaración de ¡4 @don que en ellas haze ...</td>\n",
       "      <td>@@@@ Declaracion de la cion que en ellas haze ...</td>\n",
       "    </tr>\n",
       "  </tbody>\n",
       "</table>\n",
       "</div>"
      ],
      "text/plain": [
       "                                        ocr_to_input  \\\n",
       "0  Dilujc delVeneralleYarcn pues de a ver repetid...   \n",
       "1  M E D tir a Juan Bentiyollu, que con Ginebra S...   \n",
       "2  CAN no tienen oficio,ni domicílio.LatAa/afro,!...   \n",
       "3  [ ' il 1 592 M O L MOLINILLO, f. m. Dim. El in...   \n",
       "4  C 30 Declaración de ¡4 don que en ellas haze d...   \n",
       "\n",
       "                                         ocr_aligned  \\\n",
       "0  @@@@@@@@@@Dilujc del@Veneralle@Yarcn@@@ pues d...   \n",
       "1  M E D tir a Juan Bentiyollu, que con Ginebra S...   \n",
       "2  @CA@@N@@@@@ no@@@@@ @@@ti@@@@@@@@@@@@@en@@@@@@...   \n",
       "3  [ ' il 1 592 M O L MOLINILLO, f. m. Dim. El in...   \n",
       "4  C 30 Declaración de ¡4 @don que en ellas haze ...   \n",
       "\n",
       "                                          gs_aligned  \n",
       "0   cuarenta Dibujo del Venerable Varon 42 pues d...  \n",
       "1  @ MED tir à Juan Bentivollo, que con Ginebra S...  \n",
       "2   CAN Ne ffs sodalis rustico: cave prudens. CAñ...  \n",
       "3  @@@@@@@@ 592@@@@@@ MOLINILLO. s. m. Dim. El in...  \n",
       "4  @@@@ Declaracion de la cion que en ellas haze ...  "
      ]
     },
     "execution_count": 6,
     "metadata": {},
     "output_type": "execute_result"
    }
   ],
   "source": [
    "data = pd.DataFrame(data, \n",
    "                    columns = [\"ocr_to_input\", \n",
    "                               \"ocr_aligned\", \n",
    "                               \"gs_aligned\"])\\\n",
    ".assign(ocr_to_input = lambda df: df.ocr_to_input.str.replace(\"[OCR_toInput] \", \"\", regex = False),\n",
    "        ocr_aligned = lambda df: df.ocr_aligned.str.replace(\"[OCR_aligned] \", \"\", regex = False),\n",
    "        gs_aligned = lambda df: df.gs_aligned.str.replace(\"[ GS_aligned] \", \"\", regex = False))\n",
    "\n",
    "print(data.shape)\n",
    "data.head()"
   ]
  },
  {
   "cell_type": "code",
   "execution_count": 7,
   "metadata": {},
   "outputs": [
    {
     "data": {
      "text/html": [
       "<div>\n",
       "<style scoped>\n",
       "    .dataframe tbody tr th:only-of-type {\n",
       "        vertical-align: middle;\n",
       "    }\n",
       "\n",
       "    .dataframe tbody tr th {\n",
       "        vertical-align: top;\n",
       "    }\n",
       "\n",
       "    .dataframe thead th {\n",
       "        text-align: right;\n",
       "    }\n",
       "</style>\n",
       "<table border=\"1\" class=\"dataframe\">\n",
       "  <thead>\n",
       "    <tr style=\"text-align: right;\">\n",
       "      <th></th>\n",
       "      <th>ocr_to_input</th>\n",
       "      <th>ocr_aligned</th>\n",
       "      <th>gs_aligned</th>\n",
       "    </tr>\n",
       "  </thead>\n",
       "  <tbody>\n",
       "    <tr>\n",
       "      <th>count</th>\n",
       "      <td>50.000000</td>\n",
       "      <td>50.000000</td>\n",
       "      <td>50.000000</td>\n",
       "    </tr>\n",
       "    <tr>\n",
       "      <th>mean</th>\n",
       "      <td>2696.200000</td>\n",
       "      <td>2986.560000</td>\n",
       "      <td>2985.560000</td>\n",
       "    </tr>\n",
       "    <tr>\n",
       "      <th>std</th>\n",
       "      <td>1862.357865</td>\n",
       "      <td>2171.228742</td>\n",
       "      <td>2171.228742</td>\n",
       "    </tr>\n",
       "    <tr>\n",
       "      <th>min</th>\n",
       "      <td>276.000000</td>\n",
       "      <td>308.000000</td>\n",
       "      <td>307.000000</td>\n",
       "    </tr>\n",
       "    <tr>\n",
       "      <th>25%</th>\n",
       "      <td>1242.000000</td>\n",
       "      <td>1287.750000</td>\n",
       "      <td>1286.750000</td>\n",
       "    </tr>\n",
       "    <tr>\n",
       "      <th>50%</th>\n",
       "      <td>1795.000000</td>\n",
       "      <td>1922.500000</td>\n",
       "      <td>1921.500000</td>\n",
       "    </tr>\n",
       "    <tr>\n",
       "      <th>75%</th>\n",
       "      <td>5244.500000</td>\n",
       "      <td>5649.500000</td>\n",
       "      <td>5648.500000</td>\n",
       "    </tr>\n",
       "    <tr>\n",
       "      <th>max</th>\n",
       "      <td>5878.000000</td>\n",
       "      <td>7367.000000</td>\n",
       "      <td>7366.000000</td>\n",
       "    </tr>\n",
       "  </tbody>\n",
       "</table>\n",
       "</div>"
      ],
      "text/plain": [
       "       ocr_to_input  ocr_aligned   gs_aligned\n",
       "count     50.000000    50.000000    50.000000\n",
       "mean    2696.200000  2986.560000  2985.560000\n",
       "std     1862.357865  2171.228742  2171.228742\n",
       "min      276.000000   308.000000   307.000000\n",
       "25%     1242.000000  1287.750000  1286.750000\n",
       "50%     1795.000000  1922.500000  1921.500000\n",
       "75%     5244.500000  5649.500000  5648.500000\n",
       "max     5878.000000  7367.000000  7366.000000"
      ]
     },
     "execution_count": 7,
     "metadata": {},
     "output_type": "execute_result"
    }
   ],
   "source": [
    "data.applymap(len).describe()"
   ]
  },
  {
   "cell_type": "code",
   "execution_count": 8,
   "metadata": {},
   "outputs": [
    {
     "name": "stdout",
     "output_type": "stream",
     "text": [
      "161\n"
     ]
    }
   ],
   "source": [
    "vocabulary = Vocabulary(data.ocr_to_input.sum() + data.ocr_aligned.sum() + data.gs_aligned.sum())\n",
    "print(len(vocabulary))"
   ]
  },
  {
   "cell_type": "code",
   "execution_count": 9,
   "metadata": {},
   "outputs": [
    {
     "data": {
      "text/plain": [
       "count       50.000000\n",
       "mean       333.967684\n",
       "std       1600.057288\n",
       "min          6.842349\n",
       "25%         11.825675\n",
       "50%         28.188309\n",
       "75%         60.863019\n",
       "max      10600.000000\n",
       "Name: cer, dtype: float64"
      ]
     },
     "execution_count": 9,
     "metadata": {},
     "output_type": "execute_result"
    }
   ],
   "source": [
    "distances = levenshtein(reference = data.gs_aligned.str.replace(\"@\", \"\"), \n",
    "                        hypothesis = data.ocr_to_input)\n",
    "distances.cer.describe()"
   ]
  },
  {
   "cell_type": "code",
   "execution_count": 10,
   "metadata": {},
   "outputs": [
    {
     "data": {
      "text/plain": [
       "count    50.000000\n",
       "mean     33.536902\n",
       "std      25.130719\n",
       "min       6.795225\n",
       "25%      11.452404\n",
       "50%      25.440666\n",
       "75%      54.758002\n",
       "max      99.089791\n",
       "Name: cer, dtype: float64"
      ]
     },
     "execution_count": 10,
     "metadata": {},
     "output_type": "execute_result"
    }
   ],
   "source": [
    "distances = levenshtein(reference = data.gs_aligned, \n",
    "                        hypothesis = data.ocr_to_input)\n",
    "distances.cer.describe()"
   ]
  },
  {
   "cell_type": "code",
   "execution_count": 11,
   "metadata": {},
   "outputs": [],
   "source": [
    "data.to_pickle(\"../../data/es/data/test.pkl\")"
   ]
  },
  {
   "cell_type": "code",
   "execution_count": null,
   "metadata": {},
   "outputs": [],
   "source": []
  }
 ],
 "metadata": {
  "kernelspec": {
   "display_name": "Python 3",
   "language": "python",
   "name": "python3"
  },
  "language_info": {
   "codemirror_mode": {
    "name": "ipython",
    "version": 3
   },
   "file_extension": ".py",
   "mimetype": "text/x-python",
   "name": "python",
   "nbconvert_exporter": "python",
   "pygments_lexer": "ipython3",
   "version": "3.8.8"
  },
  "toc": {
   "base_numbering": 1,
   "nav_menu": {},
   "number_sections": true,
   "sideBar": true,
   "skip_h1_title": false,
   "title_cell": "Table of Contents",
   "title_sidebar": "Contents",
   "toc_cell": false,
   "toc_position": {},
   "toc_section_display": true,
   "toc_window_display": false
  }
 },
 "nbformat": 4,
 "nbformat_minor": 4
}
