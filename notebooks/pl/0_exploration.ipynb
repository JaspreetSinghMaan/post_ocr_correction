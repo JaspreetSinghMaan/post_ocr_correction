{
 "cells": [
  {
   "cell_type": "code",
   "execution_count": 1,
   "metadata": {},
   "outputs": [],
   "source": [
    "import os\n",
    "from tqdm.notebook import tqdm\n",
    "from pathlib import Path\n",
    "import pandas as pd\n",
    "from nltk.lm import Vocabulary\n",
    "import sys\n",
    "sys.path.append(\"../../lib\")\n",
    "from metrics import levenshtein\n",
    "import pickle"
   ]
  },
  {
   "cell_type": "code",
   "execution_count": 2,
   "metadata": {},
   "outputs": [],
   "source": [
    "folder = \"../../data/ICDAR2019_POCR_competition_dataset/ICDAR2019_POCR_competition_training_18M_without_Finnish/PL/\""
   ]
  },
  {
   "cell_type": "code",
   "execution_count": 3,
   "metadata": {},
   "outputs": [],
   "source": [
    "output_folder = Path(\"../../data/pl\")"
   ]
  },
  {
   "cell_type": "code",
   "execution_count": 4,
   "metadata": {},
   "outputs": [
    {
     "data": {
      "text/plain": [
       "1"
      ]
     },
     "execution_count": 4,
     "metadata": {},
     "output_type": "execute_result"
    }
   ],
   "source": [
    "files = sorted(os.listdir(folder))\n",
    "len(files)"
   ]
  },
  {
   "cell_type": "code",
   "execution_count": 5,
   "metadata": {},
   "outputs": [
    {
     "data": {
      "text/plain": [
       "149"
      ]
     },
     "execution_count": 5,
     "metadata": {},
     "output_type": "execute_result"
    }
   ],
   "source": [
    "import glob\n",
    "\n",
    "files = glob.glob(folder + '/**/*.txt', recursive=True)\n",
    "len(files)"
   ]
  },
  {
   "cell_type": "code",
   "execution_count": 6,
   "metadata": {},
   "outputs": [
    {
     "data": {
      "application/vnd.jupyter.widget-view+json": {
       "model_id": "ec02e6a92cb646d5bcb45d43715ca03f",
       "version_major": 2,
       "version_minor": 0
      },
      "text/plain": [
       "  0%|          | 0/149 [00:00<?, ?it/s]"
      ]
     },
     "metadata": {},
     "output_type": "display_data"
    },
    {
     "data": {
      "text/plain": [
       "149"
      ]
     },
     "execution_count": 6,
     "metadata": {},
     "output_type": "execute_result"
    }
   ],
   "source": [
    "from multiprocessing import Pool\n",
    "\n",
    "def extract(name):\n",
    "    with open(name) as file:\n",
    "        return file.readlines()\n",
    "    \n",
    "def create_windows(x):\n",
    "    A, B, window_length = x\n",
    "    assert len(A) == len(B)\n",
    "    return [(A[i:i + window_length], B[i:i + window_length]) \n",
    "            for i in range(len(A) + 1)]\n",
    "    \n",
    "p = Pool(4)\n",
    "    \n",
    "data = list(p.imap_unordered(extract, tqdm(files), chunksize = 128))\n",
    "len(data)"
   ]
  },
  {
   "cell_type": "code",
   "execution_count": 7,
   "metadata": {},
   "outputs": [
    {
     "name": "stdout",
     "output_type": "stream",
     "text": [
      "(149, 3)\n"
     ]
    },
    {
     "data": {
      "text/html": [
       "<div>\n",
       "<style scoped>\n",
       "    .dataframe tbody tr th:only-of-type {\n",
       "        vertical-align: middle;\n",
       "    }\n",
       "\n",
       "    .dataframe tbody tr th {\n",
       "        vertical-align: top;\n",
       "    }\n",
       "\n",
       "    .dataframe thead th {\n",
       "        text-align: right;\n",
       "    }\n",
       "</style>\n",
       "<table border=\"1\" class=\"dataframe\">\n",
       "  <thead>\n",
       "    <tr style=\"text-align: right;\">\n",
       "      <th></th>\n",
       "      <th>ocr_to_input</th>\n",
       "      <th>ocr_aligned</th>\n",
       "      <th>gs_aligned</th>\n",
       "    </tr>\n",
       "  </thead>\n",
       "  <tbody>\n",
       "    <tr>\n",
       "      <th>0</th>\n",
       "      <td>POGAŃSKICH 50 alias 0RCADES-, NERIDES, Boga de...</td>\n",
       "      <td>POGAŃSKICH 50 alias 0RCADES-, NERIDES, Boga de...</td>\n",
       "      <td>@@@@@@@@@@@@@ alias ORCADES@; NERIDES, Boga de...</td>\n",
       "    </tr>\n",
       "    <tr>\n",
       "      <th>1</th>\n",
       "      <td>Difcurs o Cenie śięći/ jfjeśćio Cjero*&gt;ttyd) 3...</td>\n",
       "      <td>@Difcurs o Cenie śięći@/ jfjeśćio Cjero*&gt;ttyd)...</td>\n",
       "      <td>Discurs o Cenie śiⱥći / z ßeśćiⱥ Czer@@wonych...</td>\n",
       "    </tr>\n",
       "    <tr>\n",
       "      <th>2</th>\n",
       "      <td>V tcfii^dzytcrazpiey^ey. iaio tcjytyeiące ffar...</td>\n",
       "      <td>V tcfii^dzytcrazpiey^ey. iaio tcjytyeiące ffar...</td>\n",
       "      <td>@@@@@@@@@@@@@@@@@@@@@@@@ iáko trzytyśiⱥce stár...</td>\n",
       "    </tr>\n",
       "    <tr>\n",
       "      <th>3</th>\n",
       "      <td>KATALOG AUTOROM Botera, Teatrum Świata. j er S...</td>\n",
       "      <td>@KATALOG AUTOROM Botera, Teatrum Świata. j er ...</td>\n",
       "      <td>KATALOG AUTORO@@@@@@@@@@@@@@@@@@@@@@@@@@W @&amp; ...</td>\n",
       "    </tr>\n",
       "    <tr>\n",
       "      <th>4</th>\n",
       "      <td>,&lt;U o 7 £7? MIS'ACH PAROWO MAS! YC7.NYC.fi Man...</td>\n",
       "      <td>,&lt;U o 7 £7? MIS'ACH PAROWO MAS! YC7.NYC.fi Man...</td>\n",
       "      <td>@@@@@@@@@@@ @@@@@@H@@@@@@@@@@@@@@@@@@@@@@@@@@@...</td>\n",
       "    </tr>\n",
       "  </tbody>\n",
       "</table>\n",
       "</div>"
      ],
      "text/plain": [
       "                                        ocr_to_input  \\\n",
       "0  POGAŃSKICH 50 alias 0RCADES-, NERIDES, Boga de...   \n",
       "1  Difcurs o Cenie śięći/ jfjeśćio Cjero*>ttyd) 3...   \n",
       "2  V tcfii^dzytcrazpiey^ey. iaio tcjytyeiące ffar...   \n",
       "3  KATALOG AUTOROM Botera, Teatrum Świata. j er S...   \n",
       "4  ,<U o 7 £7? MIS'ACH PAROWO MAS! YC7.NYC.fi Man...   \n",
       "\n",
       "                                         ocr_aligned  \\\n",
       "0  POGAŃSKICH 50 alias 0RCADES-, NERIDES, Boga de...   \n",
       "1  @Difcurs o Cenie śięći@/ jfjeśćio Cjero*>ttyd)...   \n",
       "2  V tcfii^dzytcrazpiey^ey. iaio tcjytyeiące ffar...   \n",
       "3  @KATALOG AUTOROM Botera, Teatrum Świata. j er ...   \n",
       "4  ,<U o 7 £7? MIS'ACH PAROWO MAS! YC7.NYC.fi Man...   \n",
       "\n",
       "                                          gs_aligned  \n",
       "0  @@@@@@@@@@@@@ alias ORCADES@; NERIDES, Boga de...  \n",
       "1   Discurs o Cenie śiⱥći / z ßeśćiⱥ Czer@@wonych...  \n",
       "2  @@@@@@@@@@@@@@@@@@@@@@@@ iáko trzytyśiⱥce stár...  \n",
       "3   KATALOG AUTORO@@@@@@@@@@@@@@@@@@@@@@@@@@W @& ...  \n",
       "4  @@@@@@@@@@@ @@@@@@H@@@@@@@@@@@@@@@@@@@@@@@@@@@...  "
      ]
     },
     "execution_count": 7,
     "metadata": {},
     "output_type": "execute_result"
    }
   ],
   "source": [
    "# data = []\n",
    "# for f in tqdm(files):\n",
    "#     with open(f) as file:\n",
    "#         data.append(file.readlines())\n",
    "\n",
    "data = pd.DataFrame(data, \n",
    "                    columns = [\"ocr_to_input\", \n",
    "                               \"ocr_aligned\", \n",
    "                               \"gs_aligned\"])\\\n",
    ".assign(ocr_to_input = lambda df: df.ocr_to_input.str.replace(\"[OCR_toInput] \", \"\", regex = False),\n",
    "        ocr_aligned = lambda df: df.ocr_aligned.str.replace(\"[OCR_aligned] \", \"\", regex = False),\n",
    "        gs_aligned = lambda df: df.gs_aligned.str.replace(\"[ GS_aligned] \", \"\", regex = False))\n",
    "\n",
    "print(data.shape)\n",
    "data.head()"
   ]
  },
  {
   "cell_type": "code",
   "execution_count": 8,
   "metadata": {},
   "outputs": [
    {
     "data": {
      "text/html": [
       "<div>\n",
       "<style scoped>\n",
       "    .dataframe tbody tr th:only-of-type {\n",
       "        vertical-align: middle;\n",
       "    }\n",
       "\n",
       "    .dataframe tbody tr th {\n",
       "        vertical-align: top;\n",
       "    }\n",
       "\n",
       "    .dataframe thead th {\n",
       "        text-align: right;\n",
       "    }\n",
       "</style>\n",
       "<table border=\"1\" class=\"dataframe\">\n",
       "  <thead>\n",
       "    <tr style=\"text-align: right;\">\n",
       "      <th></th>\n",
       "      <th>ocr_to_input</th>\n",
       "      <th>ocr_aligned</th>\n",
       "      <th>gs_aligned</th>\n",
       "    </tr>\n",
       "  </thead>\n",
       "  <tbody>\n",
       "    <tr>\n",
       "      <th>count</th>\n",
       "      <td>149.000000</td>\n",
       "      <td>149.000000</td>\n",
       "      <td>149.000000</td>\n",
       "    </tr>\n",
       "    <tr>\n",
       "      <th>mean</th>\n",
       "      <td>1659.516779</td>\n",
       "      <td>1793.315436</td>\n",
       "      <td>1793.315436</td>\n",
       "    </tr>\n",
       "    <tr>\n",
       "      <th>std</th>\n",
       "      <td>446.693900</td>\n",
       "      <td>474.380835</td>\n",
       "      <td>474.380835</td>\n",
       "    </tr>\n",
       "    <tr>\n",
       "      <th>min</th>\n",
       "      <td>278.000000</td>\n",
       "      <td>285.000000</td>\n",
       "      <td>285.000000</td>\n",
       "    </tr>\n",
       "    <tr>\n",
       "      <th>25%</th>\n",
       "      <td>1353.000000</td>\n",
       "      <td>1480.000000</td>\n",
       "      <td>1480.000000</td>\n",
       "    </tr>\n",
       "    <tr>\n",
       "      <th>50%</th>\n",
       "      <td>1659.000000</td>\n",
       "      <td>1703.000000</td>\n",
       "      <td>1703.000000</td>\n",
       "    </tr>\n",
       "    <tr>\n",
       "      <th>75%</th>\n",
       "      <td>2005.000000</td>\n",
       "      <td>2085.000000</td>\n",
       "      <td>2085.000000</td>\n",
       "    </tr>\n",
       "    <tr>\n",
       "      <th>max</th>\n",
       "      <td>2624.000000</td>\n",
       "      <td>3517.000000</td>\n",
       "      <td>3517.000000</td>\n",
       "    </tr>\n",
       "  </tbody>\n",
       "</table>\n",
       "</div>"
      ],
      "text/plain": [
       "       ocr_to_input  ocr_aligned   gs_aligned\n",
       "count    149.000000   149.000000   149.000000\n",
       "mean    1659.516779  1793.315436  1793.315436\n",
       "std      446.693900   474.380835   474.380835\n",
       "min      278.000000   285.000000   285.000000\n",
       "25%     1353.000000  1480.000000  1480.000000\n",
       "50%     1659.000000  1703.000000  1703.000000\n",
       "75%     2005.000000  2085.000000  2085.000000\n",
       "max     2624.000000  3517.000000  3517.000000"
      ]
     },
     "execution_count": 8,
     "metadata": {},
     "output_type": "execute_result"
    }
   ],
   "source": [
    "data.applymap(len).describe()"
   ]
  },
  {
   "cell_type": "code",
   "execution_count": 9,
   "metadata": {},
   "outputs": [
    {
     "data": {
      "text/plain": [
       "count      149.000000\n",
       "mean       256.881728\n",
       "std       1304.007686\n",
       "min          9.898629\n",
       "25%         23.076923\n",
       "50%         44.827586\n",
       "75%         56.534091\n",
       "max      10320.000000\n",
       "Name: cer, dtype: float64"
      ]
     },
     "execution_count": 9,
     "metadata": {},
     "output_type": "execute_result"
    }
   ],
   "source": [
    "levenshtein(reference = data.gs_aligned.str.replace(\"@\", \"\"), \n",
    "            hypothesis = data.ocr_to_input).cer.describe()"
   ]
  },
  {
   "cell_type": "code",
   "execution_count": 10,
   "metadata": {},
   "outputs": [
    {
     "data": {
      "text/plain": [
       "count    149.000000\n",
       "mean      40.080196\n",
       "std       19.573851\n",
       "min        9.770453\n",
       "25%       22.332859\n",
       "50%       42.094595\n",
       "75%       51.097695\n",
       "max       99.278499\n",
       "Name: cer, dtype: float64"
      ]
     },
     "execution_count": 10,
     "metadata": {},
     "output_type": "execute_result"
    }
   ],
   "source": [
    "levenshtein(reference = data.gs_aligned, \n",
    "            hypothesis = data.ocr_aligned).cer.describe()"
   ]
  },
  {
   "cell_type": "code",
   "execution_count": 11,
   "metadata": {},
   "outputs": [
    {
     "name": "stdout",
     "output_type": "stream",
     "text": [
      "196\n"
     ]
    }
   ],
   "source": [
    "vocabulary = Vocabulary(data.ocr_to_input.sum() + data.ocr_aligned.sum() + data.gs_aligned.sum())\n",
    "print(len(vocabulary))\n",
    "with open(output_folder/\"data/vocabulary.pkl\", \"wb\") as file:\n",
    "    pickle.dump(vocabulary, file)"
   ]
  },
  {
   "cell_type": "code",
   "execution_count": 12,
   "metadata": {},
   "outputs": [
    {
     "data": {
      "text/plain": [
       "(5, 3)"
      ]
     },
     "execution_count": 12,
     "metadata": {},
     "output_type": "execute_result"
    }
   ],
   "source": [
    "dev = data.sample(n = 5, random_state = 1)\n",
    "dev.to_pickle(output_folder/\"data/dev.pkl\")\n",
    "dev.shape"
   ]
  },
  {
   "cell_type": "code",
   "execution_count": 13,
   "metadata": {},
   "outputs": [
    {
     "data": {
      "text/plain": [
       "(144, 3)"
      ]
     },
     "execution_count": 13,
     "metadata": {},
     "output_type": "execute_result"
    }
   ],
   "source": [
    "train = data.drop(dev.index)\n",
    "train.to_pickle(output_folder/\"data/train.pkl\")\n",
    "train.shape"
   ]
  },
  {
   "cell_type": "code",
   "execution_count": 14,
   "metadata": {},
   "outputs": [
    {
     "data": {
      "text/html": [
       "<div>\n",
       "<style scoped>\n",
       "    .dataframe tbody tr th:only-of-type {\n",
       "        vertical-align: middle;\n",
       "    }\n",
       "\n",
       "    .dataframe tbody tr th {\n",
       "        vertical-align: top;\n",
       "    }\n",
       "\n",
       "    .dataframe thead th {\n",
       "        text-align: right;\n",
       "    }\n",
       "</style>\n",
       "<table border=\"1\" class=\"dataframe\">\n",
       "  <thead>\n",
       "    <tr style=\"text-align: right;\">\n",
       "      <th></th>\n",
       "      <th>ocr_to_input</th>\n",
       "      <th>ocr_aligned</th>\n",
       "      <th>gs_aligned</th>\n",
       "    </tr>\n",
       "  </thead>\n",
       "  <tbody>\n",
       "    <tr>\n",
       "      <th>count</th>\n",
       "      <td>144.000000</td>\n",
       "      <td>144.000000</td>\n",
       "      <td>144.000000</td>\n",
       "    </tr>\n",
       "    <tr>\n",
       "      <th>mean</th>\n",
       "      <td>1662.861111</td>\n",
       "      <td>1792.361111</td>\n",
       "      <td>1792.361111</td>\n",
       "    </tr>\n",
       "    <tr>\n",
       "      <th>std</th>\n",
       "      <td>452.602847</td>\n",
       "      <td>478.311535</td>\n",
       "      <td>478.311535</td>\n",
       "    </tr>\n",
       "    <tr>\n",
       "      <th>min</th>\n",
       "      <td>278.000000</td>\n",
       "      <td>285.000000</td>\n",
       "      <td>285.000000</td>\n",
       "    </tr>\n",
       "    <tr>\n",
       "      <th>25%</th>\n",
       "      <td>1351.750000</td>\n",
       "      <td>1478.250000</td>\n",
       "      <td>1478.250000</td>\n",
       "    </tr>\n",
       "    <tr>\n",
       "      <th>50%</th>\n",
       "      <td>1677.500000</td>\n",
       "      <td>1728.000000</td>\n",
       "      <td>1728.000000</td>\n",
       "    </tr>\n",
       "    <tr>\n",
       "      <th>75%</th>\n",
       "      <td>2033.250000</td>\n",
       "      <td>2089.250000</td>\n",
       "      <td>2089.250000</td>\n",
       "    </tr>\n",
       "    <tr>\n",
       "      <th>max</th>\n",
       "      <td>2624.000000</td>\n",
       "      <td>3517.000000</td>\n",
       "      <td>3517.000000</td>\n",
       "    </tr>\n",
       "  </tbody>\n",
       "</table>\n",
       "</div>"
      ],
      "text/plain": [
       "       ocr_to_input  ocr_aligned   gs_aligned\n",
       "count    144.000000   144.000000   144.000000\n",
       "mean    1662.861111  1792.361111  1792.361111\n",
       "std      452.602847   478.311535   478.311535\n",
       "min      278.000000   285.000000   285.000000\n",
       "25%     1351.750000  1478.250000  1478.250000\n",
       "50%     1677.500000  1728.000000  1728.000000\n",
       "75%     2033.250000  2089.250000  2089.250000\n",
       "max     2624.000000  3517.000000  3517.000000"
      ]
     },
     "execution_count": 14,
     "metadata": {},
     "output_type": "execute_result"
    }
   ],
   "source": [
    "train.applymap(len).describe()"
   ]
  },
  {
   "cell_type": "code",
   "execution_count": 15,
   "metadata": {},
   "outputs": [
    {
     "data": {
      "text/html": [
       "<div>\n",
       "<style scoped>\n",
       "    .dataframe tbody tr th:only-of-type {\n",
       "        vertical-align: middle;\n",
       "    }\n",
       "\n",
       "    .dataframe tbody tr th {\n",
       "        vertical-align: top;\n",
       "    }\n",
       "\n",
       "    .dataframe thead th {\n",
       "        text-align: right;\n",
       "    }\n",
       "</style>\n",
       "<table border=\"1\" class=\"dataframe\">\n",
       "  <thead>\n",
       "    <tr style=\"text-align: right;\">\n",
       "      <th></th>\n",
       "      <th>ocr_to_input</th>\n",
       "      <th>ocr_aligned</th>\n",
       "      <th>gs_aligned</th>\n",
       "    </tr>\n",
       "  </thead>\n",
       "  <tbody>\n",
       "    <tr>\n",
       "      <th>count</th>\n",
       "      <td>5.000000</td>\n",
       "      <td>5.000000</td>\n",
       "      <td>5.000000</td>\n",
       "    </tr>\n",
       "    <tr>\n",
       "      <th>mean</th>\n",
       "      <td>1563.200000</td>\n",
       "      <td>1820.800000</td>\n",
       "      <td>1820.800000</td>\n",
       "    </tr>\n",
       "    <tr>\n",
       "      <th>std</th>\n",
       "      <td>217.827225</td>\n",
       "      <td>382.680938</td>\n",
       "      <td>382.680938</td>\n",
       "    </tr>\n",
       "    <tr>\n",
       "      <th>min</th>\n",
       "      <td>1364.000000</td>\n",
       "      <td>1569.000000</td>\n",
       "      <td>1569.000000</td>\n",
       "    </tr>\n",
       "    <tr>\n",
       "      <th>25%</th>\n",
       "      <td>1456.000000</td>\n",
       "      <td>1672.000000</td>\n",
       "      <td>1672.000000</td>\n",
       "    </tr>\n",
       "    <tr>\n",
       "      <th>50%</th>\n",
       "      <td>1461.000000</td>\n",
       "      <td>1674.000000</td>\n",
       "      <td>1674.000000</td>\n",
       "    </tr>\n",
       "    <tr>\n",
       "      <th>75%</th>\n",
       "      <td>1618.000000</td>\n",
       "      <td>1689.000000</td>\n",
       "      <td>1689.000000</td>\n",
       "    </tr>\n",
       "    <tr>\n",
       "      <th>max</th>\n",
       "      <td>1917.000000</td>\n",
       "      <td>2500.000000</td>\n",
       "      <td>2500.000000</td>\n",
       "    </tr>\n",
       "  </tbody>\n",
       "</table>\n",
       "</div>"
      ],
      "text/plain": [
       "       ocr_to_input  ocr_aligned   gs_aligned\n",
       "count      5.000000     5.000000     5.000000\n",
       "mean    1563.200000  1820.800000  1820.800000\n",
       "std      217.827225   382.680938   382.680938\n",
       "min     1364.000000  1569.000000  1569.000000\n",
       "25%     1456.000000  1672.000000  1672.000000\n",
       "50%     1461.000000  1674.000000  1674.000000\n",
       "75%     1618.000000  1689.000000  1689.000000\n",
       "max     1917.000000  2500.000000  2500.000000"
      ]
     },
     "execution_count": 15,
     "metadata": {},
     "output_type": "execute_result"
    }
   ],
   "source": [
    "dev.applymap(len).describe()"
   ]
  },
  {
   "cell_type": "code",
   "execution_count": 16,
   "metadata": {},
   "outputs": [
    {
     "data": {
      "text/plain": [
       "count     5.000000\n",
       "mean     52.337773\n",
       "std      17.890173\n",
       "min      21.951220\n",
       "25%      52.176738\n",
       "50%      59.146341\n",
       "75%      60.416667\n",
       "max      67.997898\n",
       "Name: cer, dtype: float64"
      ]
     },
     "execution_count": 16,
     "metadata": {},
     "output_type": "execute_result"
    }
   ],
   "source": [
    "levenshtein(reference = dev.gs_aligned.str.replace(\"@\", \"\"), \n",
    "            hypothesis = dev.ocr_to_input).cer.describe()"
   ]
  },
  {
   "cell_type": "code",
   "execution_count": 17,
   "metadata": {},
   "outputs": [
    {
     "data": {
      "text/plain": [
       "count     5.000000\n",
       "mean     46.261210\n",
       "std      14.448207\n",
       "min      20.992823\n",
       "25%      47.968937\n",
       "50%      51.760000\n",
       "75%      54.943754\n",
       "max      55.640535\n",
       "Name: cer, dtype: float64"
      ]
     },
     "execution_count": 17,
     "metadata": {},
     "output_type": "execute_result"
    }
   ],
   "source": [
    "levenshtein(reference = dev.gs_aligned, \n",
    "            hypothesis = dev.ocr_to_input).cer.describe()"
   ]
  },
  {
   "cell_type": "code",
   "execution_count": 18,
   "metadata": {},
   "outputs": [],
   "source": [
    "window_length = 100"
   ]
  },
  {
   "cell_type": "code",
   "execution_count": 19,
   "metadata": {},
   "outputs": [
    {
     "data": {
      "application/vnd.jupyter.widget-view+json": {
       "model_id": "5c7552bf299f4ab48b4b9aef39c2c7d7",
       "version_major": 2,
       "version_minor": 0
      },
      "text/plain": [
       "  0%|          | 0/144 [00:00<?, ?it/s]"
      ]
     },
     "metadata": {},
     "output_type": "display_data"
    },
    {
     "data": {
      "application/vnd.jupyter.widget-view+json": {
       "model_id": "063f45fb043c4c1aa568883b30706184",
       "version_major": 2,
       "version_minor": 0
      },
      "text/plain": [
       "  0%|          | 0/144 [00:00<?, ?it/s]"
      ]
     },
     "metadata": {},
     "output_type": "display_data"
    },
    {
     "name": "stdout",
     "output_type": "stream",
     "text": [
      "(258244, 2)\n"
     ]
    },
    {
     "data": {
      "text/html": [
       "<div>\n",
       "<style scoped>\n",
       "    .dataframe tbody tr th:only-of-type {\n",
       "        vertical-align: middle;\n",
       "    }\n",
       "\n",
       "    .dataframe tbody tr th {\n",
       "        vertical-align: top;\n",
       "    }\n",
       "\n",
       "    .dataframe thead th {\n",
       "        text-align: right;\n",
       "    }\n",
       "</style>\n",
       "<table border=\"1\" class=\"dataframe\">\n",
       "  <thead>\n",
       "    <tr style=\"text-align: right;\">\n",
       "      <th></th>\n",
       "      <th>source</th>\n",
       "      <th>target</th>\n",
       "    </tr>\n",
       "  </thead>\n",
       "  <tbody>\n",
       "    <tr>\n",
       "      <th>0</th>\n",
       "      <td>SCT E N CY A o B O Z K ACą Jf Hycli Jowifza, G...</td>\n",
       "      <td>@@@@@@@@@@@@@@@@@@@@@@@@@@@@@ nyc@h Jowisza, G...</td>\n",
       "    </tr>\n",
       "    <tr>\n",
       "      <th>1</th>\n",
       "      <td>CT E N CY A o B O Z K ACą Jf Hycli Jowifza, Gw...</td>\n",
       "      <td>@@@@@@@@@@@@@@@@@@@@@@@@@@@@ nyc@h Jowisza, Gw...</td>\n",
       "    </tr>\n",
       "    <tr>\n",
       "      <th>2</th>\n",
       "      <td>T E N CY A o B O Z K ACą Jf Hycli Jowifza, Gwi...</td>\n",
       "      <td>@@@@@@@@@@@@@@@@@@@@@@@@@@@ nyc@h Jowisza, Gwi...</td>\n",
       "    </tr>\n",
       "    <tr>\n",
       "      <th>3</th>\n",
       "      <td>E N CY A o B O Z K ACą Jf Hycli Jowifza, Gwia...</td>\n",
       "      <td>@@@@@@@@@@@@@@@@@@@@@@@@@@ nyc@h Jowisza, Gwia...</td>\n",
       "    </tr>\n",
       "    <tr>\n",
       "      <th>4</th>\n",
       "      <td>E N CY A o B O Z K ACą Jf Hycli Jowifza, Gwiaz...</td>\n",
       "      <td>@@@@@@@@@@@@@@@@@@@@@@@@@ nyc@h Jowisza, Gwiaz...</td>\n",
       "    </tr>\n",
       "  </tbody>\n",
       "</table>\n",
       "</div>"
      ],
      "text/plain": [
       "                                              source  \\\n",
       "0  SCT E N CY A o B O Z K ACą Jf Hycli Jowifza, G...   \n",
       "1  CT E N CY A o B O Z K ACą Jf Hycli Jowifza, Gw...   \n",
       "2  T E N CY A o B O Z K ACą Jf Hycli Jowifza, Gwi...   \n",
       "3   E N CY A o B O Z K ACą Jf Hycli Jowifza, Gwia...   \n",
       "4  E N CY A o B O Z K ACą Jf Hycli Jowifza, Gwiaz...   \n",
       "\n",
       "                                              target  \n",
       "0  @@@@@@@@@@@@@@@@@@@@@@@@@@@@@ nyc@h Jowisza, G...  \n",
       "1  @@@@@@@@@@@@@@@@@@@@@@@@@@@@ nyc@h Jowisza, Gw...  \n",
       "2  @@@@@@@@@@@@@@@@@@@@@@@@@@@ nyc@h Jowisza, Gwi...  \n",
       "3  @@@@@@@@@@@@@@@@@@@@@@@@@@ nyc@h Jowisza, Gwia...  \n",
       "4  @@@@@@@@@@@@@@@@@@@@@@@@@ nyc@h Jowisza, Gwiaz...  "
      ]
     },
     "execution_count": 19,
     "metadata": {},
     "output_type": "execute_result"
    }
   ],
   "source": [
    "df = train#.head(100)\n",
    "train_aligned = list(p.imap_unordered(create_windows, \n",
    "                                      tqdm(zip(df.ocr_aligned, \n",
    "                                               df.gs_aligned, \n",
    "                                               [window_length for x in df.ocr_aligned]), \n",
    "                                           total = len(df.ocr_aligned)),\n",
    "                                      chunksize = 128))\n",
    "s = []\n",
    "for r in tqdm(train_aligned):\n",
    "    s.extend(r)\n",
    "train_aligned = pd.DataFrame(s, columns = [\"source\", \"target\"])\n",
    "print(train_aligned.shape)\n",
    "train_aligned.head()"
   ]
  },
  {
   "cell_type": "code",
   "execution_count": 20,
   "metadata": {},
   "outputs": [
    {
     "data": {
      "text/html": [
       "<div>\n",
       "<style scoped>\n",
       "    .dataframe tbody tr th:only-of-type {\n",
       "        vertical-align: middle;\n",
       "    }\n",
       "\n",
       "    .dataframe tbody tr th {\n",
       "        vertical-align: top;\n",
       "    }\n",
       "\n",
       "    .dataframe thead th {\n",
       "        text-align: right;\n",
       "    }\n",
       "</style>\n",
       "<table border=\"1\" class=\"dataframe\">\n",
       "  <thead>\n",
       "    <tr style=\"text-align: right;\">\n",
       "      <th></th>\n",
       "      <th>source</th>\n",
       "      <th>target</th>\n",
       "    </tr>\n",
       "  </thead>\n",
       "  <tbody>\n",
       "    <tr>\n",
       "      <th>0</th>\n",
       "      <td>SCT E N CY A o B O Z K ACą Jf Hycli Jowifza, G...</td>\n",
       "      <td>@@@@@@@@@@@@@@@@@@@@@@@@@@@@@ nyc@h Jowisza, G...</td>\n",
       "    </tr>\n",
       "    <tr>\n",
       "      <th>1</th>\n",
       "      <td>CT E N CY A o B O Z K ACą Jf Hycli Jowifza, Gw...</td>\n",
       "      <td>@@@@@@@@@@@@@@@@@@@@@@@@@@@@ nyc@h Jowisza, Gw...</td>\n",
       "    </tr>\n",
       "    <tr>\n",
       "      <th>2</th>\n",
       "      <td>T E N CY A o B O Z K ACą Jf Hycli Jowifza, Gwi...</td>\n",
       "      <td>@@@@@@@@@@@@@@@@@@@@@@@@@@@ nyc@h Jowisza, Gwi...</td>\n",
       "    </tr>\n",
       "    <tr>\n",
       "      <th>3</th>\n",
       "      <td>E N CY A o B O Z K ACą Jf Hycli Jowifza, Gwia...</td>\n",
       "      <td>@@@@@@@@@@@@@@@@@@@@@@@@@@ nyc@h Jowisza, Gwia...</td>\n",
       "    </tr>\n",
       "    <tr>\n",
       "      <th>4</th>\n",
       "      <td>E N CY A o B O Z K ACą Jf Hycli Jowifza, Gwiaz...</td>\n",
       "      <td>@@@@@@@@@@@@@@@@@@@@@@@@@ nyc@h Jowisza, Gwiaz...</td>\n",
       "    </tr>\n",
       "  </tbody>\n",
       "</table>\n",
       "</div>"
      ],
      "text/plain": [
       "                                              source  \\\n",
       "0  SCT E N CY A o B O Z K ACą Jf Hycli Jowifza, G...   \n",
       "1  CT E N CY A o B O Z K ACą Jf Hycli Jowifza, Gw...   \n",
       "2  T E N CY A o B O Z K ACą Jf Hycli Jowifza, Gwi...   \n",
       "3   E N CY A o B O Z K ACą Jf Hycli Jowifza, Gwia...   \n",
       "4  E N CY A o B O Z K ACą Jf Hycli Jowifza, Gwiaz...   \n",
       "\n",
       "                                              target  \n",
       "0  @@@@@@@@@@@@@@@@@@@@@@@@@@@@@ nyc@h Jowisza, G...  \n",
       "1  @@@@@@@@@@@@@@@@@@@@@@@@@@@@ nyc@h Jowisza, Gw...  \n",
       "2  @@@@@@@@@@@@@@@@@@@@@@@@@@@ nyc@h Jowisza, Gwi...  \n",
       "3  @@@@@@@@@@@@@@@@@@@@@@@@@@ nyc@h Jowisza, Gwia...  \n",
       "4  @@@@@@@@@@@@@@@@@@@@@@@@@ nyc@h Jowisza, Gwiaz...  "
      ]
     },
     "execution_count": 20,
     "metadata": {},
     "output_type": "execute_result"
    }
   ],
   "source": [
    "train_aligned = train_aligned.assign(source = lambda df: df.source.str.replace(\"@\", \"\"))\n",
    "train_aligned.head()"
   ]
  },
  {
   "cell_type": "code",
   "execution_count": 21,
   "metadata": {},
   "outputs": [
    {
     "name": "stdout",
     "output_type": "stream",
     "text": [
      "(9109, 2)\n"
     ]
    },
    {
     "data": {
      "text/html": [
       "<div>\n",
       "<style scoped>\n",
       "    .dataframe tbody tr th:only-of-type {\n",
       "        vertical-align: middle;\n",
       "    }\n",
       "\n",
       "    .dataframe tbody tr th {\n",
       "        vertical-align: top;\n",
       "    }\n",
       "\n",
       "    .dataframe thead th {\n",
       "        text-align: right;\n",
       "    }\n",
       "</style>\n",
       "<table border=\"1\" class=\"dataframe\">\n",
       "  <thead>\n",
       "    <tr style=\"text-align: right;\">\n",
       "      <th></th>\n",
       "      <th>source</th>\n",
       "      <th>target</th>\n",
       "    </tr>\n",
       "  </thead>\n",
       "  <tbody>\n",
       "    <tr>\n",
       "      <th>0</th>\n",
       "      <td>SCYFMA o BOŻKACH POGAŃSKICH linowi CNłihTl Adv...</td>\n",
       "      <td>@@@@@@@@@@@@@@@@@@@@@@@@@@@ linowi CHRISTI Aáv...</td>\n",
       "    </tr>\n",
       "    <tr>\n",
       "      <th>1</th>\n",
       "      <td>CYFMA o BOŻKACH POGAŃSKICH linowi CNłihTl Adve...</td>\n",
       "      <td>@@@@@@@@@@@@@@@@@@@@@@@@@@ linowi CHRISTI Aáve...</td>\n",
       "    </tr>\n",
       "    <tr>\n",
       "      <th>2</th>\n",
       "      <td>YFMA o BOŻKACH POGAŃSKICH linowi CNłihTl Adven...</td>\n",
       "      <td>@@@@@@@@@@@@@@@@@@@@@@@@@ linowi CHRISTI Aáven...</td>\n",
       "    </tr>\n",
       "    <tr>\n",
       "      <th>3</th>\n",
       "      <td>FMA o BOŻKACH POGAŃSKICH linowi CNłihTl Advent...</td>\n",
       "      <td>@@@@@@@@@@@@@@@@@@@@@@@@ linowi CHRISTI Aávent...</td>\n",
       "    </tr>\n",
       "    <tr>\n",
       "      <th>4</th>\n",
       "      <td>MA o BOŻKACH POGAŃSKICH linowi CNłihTl Adventu...</td>\n",
       "      <td>@@@@@@@@@@@@@@@@@@@@@@@ linowi CHRISTI Aáventu...</td>\n",
       "    </tr>\n",
       "  </tbody>\n",
       "</table>\n",
       "</div>"
      ],
      "text/plain": [
       "                                              source  \\\n",
       "0  SCYFMA o BOŻKACH POGAŃSKICH linowi CNłihTl Adv...   \n",
       "1  CYFMA o BOŻKACH POGAŃSKICH linowi CNłihTl Adve...   \n",
       "2  YFMA o BOŻKACH POGAŃSKICH linowi CNłihTl Adven...   \n",
       "3  FMA o BOŻKACH POGAŃSKICH linowi CNłihTl Advent...   \n",
       "4  MA o BOŻKACH POGAŃSKICH linowi CNłihTl Adventu...   \n",
       "\n",
       "                                              target  \n",
       "0  @@@@@@@@@@@@@@@@@@@@@@@@@@@ linowi CHRISTI Aáv...  \n",
       "1  @@@@@@@@@@@@@@@@@@@@@@@@@@ linowi CHRISTI Aáve...  \n",
       "2  @@@@@@@@@@@@@@@@@@@@@@@@@ linowi CHRISTI Aáven...  \n",
       "3  @@@@@@@@@@@@@@@@@@@@@@@@ linowi CHRISTI Aávent...  \n",
       "4  @@@@@@@@@@@@@@@@@@@@@@@ linowi CHRISTI Aáventu...  "
      ]
     },
     "execution_count": 21,
     "metadata": {},
     "output_type": "execute_result"
    }
   ],
   "source": [
    "dev_aligned = dev.apply(lambda r: create_windows((r[\"ocr_aligned\"], r[\"gs_aligned\"], window_length)), \n",
    "                            axis = 1).sum()\n",
    "dev_aligned = pd.DataFrame(dev_aligned, columns = [\"source\", \"target\"])\n",
    "print(dev_aligned.shape)\n",
    "dev_aligned.head()"
   ]
  },
  {
   "cell_type": "code",
   "execution_count": 22,
   "metadata": {},
   "outputs": [
    {
     "data": {
      "text/html": [
       "<div>\n",
       "<style scoped>\n",
       "    .dataframe tbody tr th:only-of-type {\n",
       "        vertical-align: middle;\n",
       "    }\n",
       "\n",
       "    .dataframe tbody tr th {\n",
       "        vertical-align: top;\n",
       "    }\n",
       "\n",
       "    .dataframe thead th {\n",
       "        text-align: right;\n",
       "    }\n",
       "</style>\n",
       "<table border=\"1\" class=\"dataframe\">\n",
       "  <thead>\n",
       "    <tr style=\"text-align: right;\">\n",
       "      <th></th>\n",
       "      <th>source</th>\n",
       "      <th>target</th>\n",
       "    </tr>\n",
       "  </thead>\n",
       "  <tbody>\n",
       "    <tr>\n",
       "      <th>0</th>\n",
       "      <td>SCYFMA o BOŻKACH POGAŃSKICH linowi CNłihTl Adv...</td>\n",
       "      <td>@@@@@@@@@@@@@@@@@@@@@@@@@@@ linowi CHRISTI Aáv...</td>\n",
       "    </tr>\n",
       "    <tr>\n",
       "      <th>1</th>\n",
       "      <td>CYFMA o BOŻKACH POGAŃSKICH linowi CNłihTl Adve...</td>\n",
       "      <td>@@@@@@@@@@@@@@@@@@@@@@@@@@ linowi CHRISTI Aáve...</td>\n",
       "    </tr>\n",
       "    <tr>\n",
       "      <th>2</th>\n",
       "      <td>YFMA o BOŻKACH POGAŃSKICH linowi CNłihTl Adven...</td>\n",
       "      <td>@@@@@@@@@@@@@@@@@@@@@@@@@ linowi CHRISTI Aáven...</td>\n",
       "    </tr>\n",
       "    <tr>\n",
       "      <th>3</th>\n",
       "      <td>FMA o BOŻKACH POGAŃSKICH linowi CNłihTl Advent...</td>\n",
       "      <td>@@@@@@@@@@@@@@@@@@@@@@@@ linowi CHRISTI Aávent...</td>\n",
       "    </tr>\n",
       "    <tr>\n",
       "      <th>4</th>\n",
       "      <td>MA o BOŻKACH POGAŃSKICH linowi CNłihTl Adventu...</td>\n",
       "      <td>@@@@@@@@@@@@@@@@@@@@@@@ linowi CHRISTI Aáventu...</td>\n",
       "    </tr>\n",
       "  </tbody>\n",
       "</table>\n",
       "</div>"
      ],
      "text/plain": [
       "                                              source  \\\n",
       "0  SCYFMA o BOŻKACH POGAŃSKICH linowi CNłihTl Adv...   \n",
       "1  CYFMA o BOŻKACH POGAŃSKICH linowi CNłihTl Adve...   \n",
       "2  YFMA o BOŻKACH POGAŃSKICH linowi CNłihTl Adven...   \n",
       "3  FMA o BOŻKACH POGAŃSKICH linowi CNłihTl Advent...   \n",
       "4  MA o BOŻKACH POGAŃSKICH linowi CNłihTl Adventu...   \n",
       "\n",
       "                                              target  \n",
       "0  @@@@@@@@@@@@@@@@@@@@@@@@@@@ linowi CHRISTI Aáv...  \n",
       "1  @@@@@@@@@@@@@@@@@@@@@@@@@@ linowi CHRISTI Aáve...  \n",
       "2  @@@@@@@@@@@@@@@@@@@@@@@@@ linowi CHRISTI Aáven...  \n",
       "3  @@@@@@@@@@@@@@@@@@@@@@@@ linowi CHRISTI Aávent...  \n",
       "4  @@@@@@@@@@@@@@@@@@@@@@@ linowi CHRISTI Aáventu...  "
      ]
     },
     "execution_count": 22,
     "metadata": {},
     "output_type": "execute_result"
    }
   ],
   "source": [
    "dev_aligned = dev_aligned.assign(source = lambda df: df.source.str.replace(\"@\", \"\"))\n",
    "dev_aligned.head()"
   ]
  },
  {
   "cell_type": "code",
   "execution_count": 23,
   "metadata": {},
   "outputs": [],
   "source": [
    "train_aligned.to_pickle(output_folder/\"data/train_aligned.pkl\")\n",
    "dev_aligned.to_pickle(output_folder/\"data/dev_aligned.pkl\")"
   ]
  }
 ],
 "metadata": {
  "kernelspec": {
   "display_name": "Python 3",
   "language": "python",
   "name": "python3"
  },
  "language_info": {
   "codemirror_mode": {
    "name": "ipython",
    "version": 3
   },
   "file_extension": ".py",
   "mimetype": "text/x-python",
   "name": "python",
   "nbconvert_exporter": "python",
   "pygments_lexer": "ipython3",
   "version": "3.8.8"
  },
  "toc": {
   "base_numbering": 1,
   "nav_menu": {},
   "number_sections": true,
   "sideBar": true,
   "skip_h1_title": false,
   "title_cell": "Table of Contents",
   "title_sidebar": "Contents",
   "toc_cell": false,
   "toc_position": {},
   "toc_section_display": true,
   "toc_window_display": false
  }
 },
 "nbformat": 4,
 "nbformat_minor": 4
}
