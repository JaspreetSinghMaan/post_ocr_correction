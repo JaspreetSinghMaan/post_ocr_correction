{
 "cells": [
  {
   "cell_type": "code",
   "execution_count": 1,
   "metadata": {},
   "outputs": [],
   "source": [
    "import os\n",
    "from tqdm.notebook import tqdm\n",
    "from pathlib import Path\n",
    "import pandas as pd\n",
    "from nltk.lm import Vocabulary\n",
    "import pickle\n",
    "import sys\n",
    "import torch\n",
    "import importlib\n",
    "from timeit import default_timer as t\n",
    "sys.path.append(\"../../lib\")\n",
    "from metrics import levenshtein\n",
    "import ocr_correction\n",
    "from pytorch_decoding import seq2seq"
   ]
  },
  {
   "cell_type": "code",
   "execution_count": 2,
   "metadata": {},
   "outputs": [],
   "source": [
    "folder = \"../../data/ICDAR2019_POCR_competition_dataset/ICDAR2019_POCR_competition_evaluation_4M_without_Finnish/PL/\""
   ]
  },
  {
   "cell_type": "code",
   "execution_count": 3,
   "metadata": {},
   "outputs": [
    {
     "data": {
      "text/plain": [
       "1"
      ]
     },
     "execution_count": 3,
     "metadata": {},
     "output_type": "execute_result"
    }
   ],
   "source": [
    "files = sorted(os.listdir(folder))\n",
    "len(files)"
   ]
  },
  {
   "cell_type": "code",
   "execution_count": 4,
   "metadata": {},
   "outputs": [
    {
     "data": {
      "text/plain": [
       "50"
      ]
     },
     "execution_count": 4,
     "metadata": {},
     "output_type": "execute_result"
    }
   ],
   "source": [
    "import glob\n",
    "\n",
    "files = glob.glob(folder + '/**/*.txt', recursive=True)\n",
    "len(files)"
   ]
  },
  {
   "cell_type": "code",
   "execution_count": 5,
   "metadata": {},
   "outputs": [
    {
     "data": {
      "application/vnd.jupyter.widget-view+json": {
       "model_id": "076d70827fb1466cb36adad2ef790d2a",
       "version_major": 2,
       "version_minor": 0
      },
      "text/plain": [
       "  0%|          | 0/50 [00:00<?, ?it/s]"
      ]
     },
     "metadata": {},
     "output_type": "display_data"
    }
   ],
   "source": [
    "data = []\n",
    "for f in tqdm(files):\n",
    "    with open(f) as file:\n",
    "        data.append(file.readlines())"
   ]
  },
  {
   "cell_type": "code",
   "execution_count": 6,
   "metadata": {},
   "outputs": [
    {
     "name": "stdout",
     "output_type": "stream",
     "text": [
      "(50, 3)\n"
     ]
    },
    {
     "data": {
      "text/html": [
       "<div>\n",
       "<style scoped>\n",
       "    .dataframe tbody tr th:only-of-type {\n",
       "        vertical-align: middle;\n",
       "    }\n",
       "\n",
       "    .dataframe tbody tr th {\n",
       "        vertical-align: top;\n",
       "    }\n",
       "\n",
       "    .dataframe thead th {\n",
       "        text-align: right;\n",
       "    }\n",
       "</style>\n",
       "<table border=\"1\" class=\"dataframe\">\n",
       "  <thead>\n",
       "    <tr style=\"text-align: right;\">\n",
       "      <th></th>\n",
       "      <th>ocr_to_input</th>\n",
       "      <th>ocr_aligned</th>\n",
       "      <th>gs_aligned</th>\n",
       "    </tr>\n",
       "  </thead>\n",
       "  <tbody>\n",
       "    <tr>\n",
       "      <th>0</th>\n",
       "      <td>&amp;clacy&lt;*. am h&gt; pat &lt;E&gt;Uwfłi/o pultord jła 2fc...</td>\n",
       "      <td>@&amp;clacy@@@@@@@@@@@@@@@@@&lt;*.@@@@@@@ @a@@@@@@@@@...</td>\n",
       "      <td>Relácya. Bur⸗ grábiá nowy. Pierw⸗ ßacżɇṡċ ref...</td>\n",
       "    </tr>\n",
       "    <tr>\n",
       "      <th>1</th>\n",
       "      <td>47* EUROPA. O Konftantyncpoltt. chomet fam y B...</td>\n",
       "      <td>@47* EUROPA. O Konftantyncpoltt. chomet fam y ...</td>\n",
       "      <td>471 EUROPA. O Konstantynopol@u. chomet sam y ...</td>\n",
       "    </tr>\n",
       "    <tr>\n",
       "      <th>2</th>\n",
       "      <td>O Schizmie Aitgielfkiey Święcą Narodzenia Pańf...</td>\n",
       "      <td>@O Schizmie Aitgielfkiey Święcą Narodzenia Pań...</td>\n",
       "      <td>O Schizmie A@ngielskiey Swięta Národzenia Pań...</td>\n",
       "    </tr>\n",
       "    <tr>\n",
       "      <th>3</th>\n",
       "      <td>Skrzydeł dobędzie z lerdeczney kaletki, Wody z...</td>\n",
       "      <td>@@@@@@@@@@@@@@Skrzydeł dobędzie z lerdeczney k...</td>\n",
       "      <td>Bb 3 Jdź 234 Skrzydeł dobędzie z serdeczney k...</td>\n",
       "    </tr>\n",
       "    <tr>\n",
       "      <th>4</th>\n",
       "      <td>tdt wOMfnSiech uiiSo wifcar yrftyey/ ińbztom v...</td>\n",
       "      <td>@@@@@t@@@@@dt w@@@@@@OMf@@@@nSi@@@e@@@@ch@@@@@...</td>\n",
       "      <td>To  t  Bibe  w ocżⱥc ffe po miástecżkách y po...</td>\n",
       "    </tr>\n",
       "  </tbody>\n",
       "</table>\n",
       "</div>"
      ],
      "text/plain": [
       "                                        ocr_to_input  \\\n",
       "0  &clacy<*. am h> pat <E>Uwfłi/o pultord jła 2fc...   \n",
       "1  47* EUROPA. O Konftantyncpoltt. chomet fam y B...   \n",
       "2  O Schizmie Aitgielfkiey Święcą Narodzenia Pańf...   \n",
       "3  Skrzydeł dobędzie z lerdeczney kaletki, Wody z...   \n",
       "4  tdt wOMfnSiech uiiSo wifcar yrftyey/ ińbztom v...   \n",
       "\n",
       "                                         ocr_aligned  \\\n",
       "0  @&clacy@@@@@@@@@@@@@@@@@<*.@@@@@@@ @a@@@@@@@@@...   \n",
       "1  @47* EUROPA. O Konftantyncpoltt. chomet fam y ...   \n",
       "2  @O Schizmie Aitgielfkiey Święcą Narodzenia Pań...   \n",
       "3  @@@@@@@@@@@@@@Skrzydeł dobędzie z lerdeczney k...   \n",
       "4  @@@@@t@@@@@dt w@@@@@@OMf@@@@nSi@@@e@@@@ch@@@@@...   \n",
       "\n",
       "                                          gs_aligned  \n",
       "0   Relácya. Bur⸗ grábiá nowy. Pierw⸗ ßacżɇṡċ ref...  \n",
       "1   471 EUROPA. O Konstantynopol@u. chomet sam y ...  \n",
       "2   O Schizmie A@ngielskiey Swięta Národzenia Pań...  \n",
       "3   Bb 3 Jdź 234 Skrzydeł dobędzie z serdeczney k...  \n",
       "4   To  t  Bibe  w ocżⱥc ffe po miástecżkách y po...  "
      ]
     },
     "execution_count": 6,
     "metadata": {},
     "output_type": "execute_result"
    }
   ],
   "source": [
    "data = pd.DataFrame(data, \n",
    "                    columns = [\"ocr_to_input\", \n",
    "                               \"ocr_aligned\", \n",
    "                               \"gs_aligned\"])\\\n",
    ".assign(ocr_to_input = lambda df: df.ocr_to_input.str.replace(\"[OCR_toInput] \", \"\", regex = False),\n",
    "        ocr_aligned = lambda df: df.ocr_aligned.str.replace(\"[OCR_aligned] \", \"\", regex = False),\n",
    "        gs_aligned = lambda df: df.gs_aligned.str.replace(\"[ GS_aligned] \", \"\", regex = False))\n",
    "\n",
    "print(data.shape)\n",
    "data.head()"
   ]
  },
  {
   "cell_type": "code",
   "execution_count": 7,
   "metadata": {},
   "outputs": [
    {
     "data": {
      "text/html": [
       "<div>\n",
       "<style scoped>\n",
       "    .dataframe tbody tr th:only-of-type {\n",
       "        vertical-align: middle;\n",
       "    }\n",
       "\n",
       "    .dataframe tbody tr th {\n",
       "        vertical-align: top;\n",
       "    }\n",
       "\n",
       "    .dataframe thead th {\n",
       "        text-align: right;\n",
       "    }\n",
       "</style>\n",
       "<table border=\"1\" class=\"dataframe\">\n",
       "  <thead>\n",
       "    <tr style=\"text-align: right;\">\n",
       "      <th></th>\n",
       "      <th>ocr_to_input</th>\n",
       "      <th>ocr_aligned</th>\n",
       "      <th>gs_aligned</th>\n",
       "    </tr>\n",
       "  </thead>\n",
       "  <tbody>\n",
       "    <tr>\n",
       "      <th>count</th>\n",
       "      <td>50.000000</td>\n",
       "      <td>50.000000</td>\n",
       "      <td>50.000000</td>\n",
       "    </tr>\n",
       "    <tr>\n",
       "      <th>mean</th>\n",
       "      <td>1771.680000</td>\n",
       "      <td>1856.240000</td>\n",
       "      <td>1855.240000</td>\n",
       "    </tr>\n",
       "    <tr>\n",
       "      <th>std</th>\n",
       "      <td>551.119582</td>\n",
       "      <td>565.948168</td>\n",
       "      <td>565.948168</td>\n",
       "    </tr>\n",
       "    <tr>\n",
       "      <th>min</th>\n",
       "      <td>265.000000</td>\n",
       "      <td>276.000000</td>\n",
       "      <td>275.000000</td>\n",
       "    </tr>\n",
       "    <tr>\n",
       "      <th>25%</th>\n",
       "      <td>1587.000000</td>\n",
       "      <td>1653.000000</td>\n",
       "      <td>1652.000000</td>\n",
       "    </tr>\n",
       "    <tr>\n",
       "      <th>50%</th>\n",
       "      <td>1890.000000</td>\n",
       "      <td>1948.000000</td>\n",
       "      <td>1947.000000</td>\n",
       "    </tr>\n",
       "    <tr>\n",
       "      <th>75%</th>\n",
       "      <td>2008.500000</td>\n",
       "      <td>2081.250000</td>\n",
       "      <td>2080.250000</td>\n",
       "    </tr>\n",
       "    <tr>\n",
       "      <th>max</th>\n",
       "      <td>2802.000000</td>\n",
       "      <td>2875.000000</td>\n",
       "      <td>2874.000000</td>\n",
       "    </tr>\n",
       "  </tbody>\n",
       "</table>\n",
       "</div>"
      ],
      "text/plain": [
       "       ocr_to_input  ocr_aligned   gs_aligned\n",
       "count     50.000000    50.000000    50.000000\n",
       "mean    1771.680000  1856.240000  1855.240000\n",
       "std      551.119582   565.948168   565.948168\n",
       "min      265.000000   276.000000   275.000000\n",
       "25%     1587.000000  1653.000000  1652.000000\n",
       "50%     1890.000000  1948.000000  1947.000000\n",
       "75%     2008.500000  2081.250000  2080.250000\n",
       "max     2802.000000  2875.000000  2874.000000"
      ]
     },
     "execution_count": 7,
     "metadata": {},
     "output_type": "execute_result"
    }
   ],
   "source": [
    "data.applymap(len).describe()"
   ]
  },
  {
   "cell_type": "code",
   "execution_count": 8,
   "metadata": {},
   "outputs": [
    {
     "name": "stdout",
     "output_type": "stream",
     "text": [
      "177\n"
     ]
    }
   ],
   "source": [
    "vocabulary = Vocabulary(data.ocr_to_input.sum() + data.ocr_aligned.sum() + data.gs_aligned.sum())\n",
    "print(len(vocabulary))"
   ]
  },
  {
   "cell_type": "code",
   "execution_count": 9,
   "metadata": {},
   "outputs": [
    {
     "data": {
      "text/plain": [
       "count      50.000000\n",
       "mean      191.952558\n",
       "std      1167.803230\n",
       "min         8.108108\n",
       "25%        11.531529\n",
       "50%        14.723677\n",
       "75%        43.496655\n",
       "max      8283.333333\n",
       "Name: cer, dtype: float64"
      ]
     },
     "execution_count": 9,
     "metadata": {},
     "output_type": "execute_result"
    }
   ],
   "source": [
    "distances = levenshtein(reference = data.gs_aligned.str.replace(\"@\", \"\"), \n",
    "                        hypothesis = data.ocr_to_input)\n",
    "distances.cer.describe()"
   ]
  },
  {
   "cell_type": "code",
   "execution_count": 10,
   "metadata": {},
   "outputs": [
    {
     "data": {
      "text/plain": [
       "count    50.000000\n",
       "mean     26.561643\n",
       "std      20.048362\n",
       "min       8.051118\n",
       "25%      11.383476\n",
       "50%      14.401381\n",
       "75%      42.185983\n",
       "max      98.954704\n",
       "Name: cer, dtype: float64"
      ]
     },
     "execution_count": 10,
     "metadata": {},
     "output_type": "execute_result"
    }
   ],
   "source": [
    "distances = levenshtein(reference = data.gs_aligned, \n",
    "                        hypothesis = data.ocr_to_input)\n",
    "distances.cer.describe()"
   ]
  },
  {
   "cell_type": "code",
   "execution_count": 11,
   "metadata": {},
   "outputs": [],
   "source": [
    "data.to_pickle(\"../../data/pl/data/test.pkl\")"
   ]
  },
  {
   "cell_type": "code",
   "execution_count": null,
   "metadata": {},
   "outputs": [],
   "source": []
  }
 ],
 "metadata": {
  "kernelspec": {
   "display_name": "Python 3",
   "language": "python",
   "name": "python3"
  },
  "language_info": {
   "codemirror_mode": {
    "name": "ipython",
    "version": 3
   },
   "file_extension": ".py",
   "mimetype": "text/x-python",
   "name": "python",
   "nbconvert_exporter": "python",
   "pygments_lexer": "ipython3",
   "version": "3.8.8"
  },
  "toc": {
   "base_numbering": 1,
   "nav_menu": {},
   "number_sections": true,
   "sideBar": true,
   "skip_h1_title": false,
   "title_cell": "Table of Contents",
   "title_sidebar": "Contents",
   "toc_cell": false,
   "toc_position": {},
   "toc_section_display": true,
   "toc_window_display": false
  }
 },
 "nbformat": 4,
 "nbformat_minor": 4
}
