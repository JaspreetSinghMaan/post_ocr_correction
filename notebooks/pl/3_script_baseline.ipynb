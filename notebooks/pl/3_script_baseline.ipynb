{
 "cells": [
  {
   "cell_type": "code",
   "execution_count": 1,
   "metadata": {},
   "outputs": [
    {
     "name": "stdout",
     "output_type": "stream",
     "text": [
      "main folder:/home/jarobyte/scratch/guemes/icdar/pl/\n",
      "output folder:baseline\n",
      "\n",
      "Model: Transformer\n",
      "Tokens in the input vocabulary: 199\n",
      "Tokens in the output vocabulary: 199\n",
      "Max sequence length: 110\n",
      "Embedding dimension: 256\n",
      "Feedforward dimension: 1024\n",
      "Encoder layers: 4\n",
      "Decoder layers: 4\n",
      "Attention heads: 8\n",
      "Activation: relu\n",
      "Dropout: 0.2\n",
      "Trainable parameters: 7,555,015\n",
      "\n",
      "Training started\n",
      "Epochs: 10\n",
      "Learning rate: 0.0001\n",
      "Weight decay: 0.001\n",
      "Epoch | Train                 | Development           | Minutes\n",
      "      | Loss     | Error Rate | Loss     | Error Rate |\n",
      "---------------------------------------------------------------\n",
      "    1 |   2.4549 |     31.813 |   6.1577 |     98.515 |     0.0\n",
      "    2 |   1.5909 |     24.403 |   4.9306 |     98.515 |     0.0\n",
      "    3 |   1.3739 |     23.839 |   4.1449 |     84.723 |     0.1\n",
      "    4 |   1.2611 |     22.669 |   3.9924 |     84.911 |     0.1\n",
      "    5 |   1.1900 |     22.529 |   3.9339 |     85.158 |     0.1\n",
      "    6 |   1.1461 |     22.395 |   3.8943 |     85.158 |     0.1\n",
      "    7 |   1.1192 |     22.353 |   3.8618 |     85.158 |     0.1\n",
      "    8 |   1.0954 |     22.306 |   3.8353 |     85.119 |     0.1\n",
      "    9 |   1.0742 |     22.257 |   3.8178 |     85.129 |     0.2\n",
      "   10 |   1.0525 |     22.193 |   3.8005 |     85.079 |     0.2\n",
      "\n",
      "Evaluating model..\n",
      "disjoint window...\n",
      "greedy_search...\n",
      "beam_search...\n",
      "sliding, greedy...\n",
      "uniform...\n",
      "triangle...\n",
      "bell...\n",
      "sliding, beam...\n",
      "uniform...\n",
      "triangle...\n",
      "bell...\n",
      "  experiment_id  improvement    window decoding  window_size  \\\n",
      "0          test  -203.221443  disjoint   greedy           10   \n",
      "1          test  -203.221443  disjoint   greedy            5   \n",
      "2          test  -203.221443  disjoint     beam           10   \n",
      "3          test  -203.221443  disjoint     beam            5   \n",
      "4          test  -203.221443   sliding   greedy            5   \n",
      "5          test  -203.221443   sliding   greedy            5   \n",
      "6          test  -203.221443   sliding   greedy            5   \n",
      "7          test  -203.221443   sliding     beam            5   \n",
      "8          test  -203.221443   sliding     beam            5   \n",
      "9          test  -203.221443   sliding     beam            5   \n",
      "\n",
      "   inference_seconds  cer_before  cer_after weighting  \n",
      "0           0.950601   29.951776  90.820207       NaN  \n",
      "1           0.839894   29.951776  90.820207       NaN  \n",
      "2           6.779327   29.951776  90.820207       NaN  \n",
      "3           5.989411   29.951776  90.820207       NaN  \n",
      "4           4.852961   29.951776  90.820207   uniform  \n",
      "5           4.787564   29.951776  90.820207  triangle  \n",
      "6           4.783544   29.951776  90.820207      bell  \n",
      "7          30.359296   29.951776  90.820207   uniform  \n",
      "8          30.336074   29.951776  90.820207  triangle  \n",
      "9          30.486567   29.951776  90.820207      bell  \n"
     ]
    }
   ],
   "source": [
    "%run scripts/train_models/launch_experiments.py --experiment_id=test --random"
   ]
  },
  {
   "cell_type": "code",
   "execution_count": null,
   "metadata": {},
   "outputs": [],
   "source": []
  }
 ],
 "metadata": {
  "kernelspec": {
   "display_name": "Python 3",
   "language": "python",
   "name": "python3"
  },
  "language_info": {
   "codemirror_mode": {
    "name": "ipython",
    "version": 3
   },
   "file_extension": ".py",
   "mimetype": "text/x-python",
   "name": "python",
   "nbconvert_exporter": "python",
   "pygments_lexer": "ipython3",
   "version": "3.7.4"
  }
 },
 "nbformat": 4,
 "nbformat_minor": 4
}
