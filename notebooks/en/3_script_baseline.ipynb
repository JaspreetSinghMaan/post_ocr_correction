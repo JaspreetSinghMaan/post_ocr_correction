{
 "cells": [
  {
   "cell_type": "code",
   "execution_count": 2,
   "metadata": {},
   "outputs": [
    {
     "name": "stdout",
     "output_type": "stream",
     "text": [
      "main folder:/home/jarobyte/scratch/guemes/icdar/en/\n",
      "output folder:baseline\n",
      "\n",
      "Model: Transformer\n",
      "Tokens in the input vocabulary: 164\n",
      "Tokens in the output vocabulary: 164\n",
      "Max sequence length: 110\n",
      "Embedding dimension: 256\n",
      "Feedforward dimension: 1024\n",
      "Encoder layers: 2\n",
      "Decoder layers: 2\n",
      "Attention heads: 8\n",
      "Activation: relu\n",
      "Dropout: 0.5\n",
      "Trainable parameters: 3,841,700\n",
      "\n",
      "Training started\n",
      "Epochs: 10\n",
      "Learning rate: 0.0001\n",
      "Weight decay: 0.0001\n",
      "Epoch | Train                 | Development           | Minutes\n",
      "      | Loss     | Error Rate | Loss     | Error Rate |\n",
      "---------------------------------------------------------------\n",
      "    1 |   4.5432 |     85.482 |   4.2866 |     84.960 |     0.0\n",
      "    2 |   3.8187 |     79.552 |   3.7906 |     84.960 |     0.0\n",
      "    3 |   3.5637 |     79.592 |   3.6822 |     84.960 |     0.0\n",
      "    4 |   3.4048 |     79.206 |   3.5577 |     84.960 |     0.0\n",
      "    5 |   3.2740 |     78.221 |   3.4899 |     83.584 |     0.1\n",
      "    6 |   3.1503 |     76.008 |   3.4488 |     80.891 |     0.1\n",
      "    7 |   3.0405 |     74.331 |   3.4046 |     79.376 |     0.1\n",
      "    8 |   2.9405 |     72.734 |   3.3834 |     78.257 |     0.1\n",
      "    9 |   2.8523 |     71.340 |   3.3628 |     77.921 |     0.1\n",
      "   10 |   2.7775 |     70.375 |   3.3642 |     77.188 |     0.1\n",
      "\n",
      "Evaluating model..\n",
      "disjoint window...\n",
      "greedy_search...\n",
      "beam_search...\n",
      "sliding, greedy...\n",
      "uniform...\n",
      "triangle...\n",
      "bell...\n",
      "sliding, beam...\n",
      "uniform...\n",
      "triangle...\n",
      "bell...\n",
      "  experiment_id  improvement    window decoding  window_size  \\\n",
      "0          test  -252.349812  disjoint   greedy           10   \n",
      "1          test  -147.330680  disjoint   greedy            5   \n",
      "2          test  -252.573410  disjoint     beam           10   \n",
      "3          test  -143.790920  disjoint     beam            5   \n",
      "4          test   -90.049334   sliding   greedy            5   \n",
      "5          test   -90.001158   sliding   greedy            5   \n",
      "6          test   -90.001158   sliding   greedy            5   \n",
      "7          test   -81.138569   sliding     beam            5   \n",
      "8          test   -84.458814   sliding     beam            5   \n",
      "9          test   -84.673457   sliding     beam            5   \n",
      "\n",
      "   inference_seconds  cer_before   cer_after weighting  \n",
      "0           0.486914   45.620634  160.744217       NaN  \n",
      "1           0.405330   45.620634  112.833823       NaN  \n",
      "2           3.167882   45.620634  160.846223       NaN  \n",
      "3           2.874135   45.620634  111.218963       NaN  \n",
      "4           2.497761   45.620634   86.701710   uniform  \n",
      "5           2.401725   45.620634   86.679732  triangle  \n",
      "6           2.362282   45.620634   86.679732      bell  \n",
      "7          14.060951   45.620634   82.636563   uniform  \n",
      "8          14.518634   45.620634   84.151280  triangle  \n",
      "9          14.070677   45.620634   84.249201      bell  \n"
     ]
    }
   ],
   "source": [
    "%run scripts/train_models/launch_experiments.py --experiment_id=test --random"
   ]
  },
  {
   "cell_type": "code",
   "execution_count": null,
   "metadata": {},
   "outputs": [],
   "source": []
  }
 ],
 "metadata": {
  "kernelspec": {
   "display_name": "Python 3",
   "language": "python",
   "name": "python3"
  }
 },
 "nbformat": 4,
 "nbformat_minor": 4
}
