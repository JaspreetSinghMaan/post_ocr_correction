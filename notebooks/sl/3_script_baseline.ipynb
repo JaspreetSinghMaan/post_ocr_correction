{
 "cells": [
  {
   "cell_type": "code",
   "execution_count": 1,
   "metadata": {},
   "outputs": [
    {
     "name": "stdout",
     "output_type": "stream",
     "text": [
      "main folder:/home/jarobyte/scratch/guemes/icdar/sl/\n",
      "output folder:baseline\n",
      "\n",
      "Model: Transformer\n",
      "Tokens in the input vocabulary: 130\n",
      "Tokens in the output vocabulary: 130\n",
      "Max sequence length: 110\n",
      "Embedding dimension: 256\n",
      "Feedforward dimension: 1024\n",
      "Encoder layers: 2\n",
      "Decoder layers: 2\n",
      "Attention heads: 8\n",
      "Activation: relu\n",
      "Dropout: 0.2\n",
      "Trainable parameters: 3,815,554\n",
      "\n",
      "Training started\n",
      "Epochs: 10\n",
      "Learning rate: 0.0001\n",
      "Weight decay: 0.01\n",
      "Epoch | Train                 | Development           | Minutes\n",
      "      | Loss     | Error Rate | Loss     | Error Rate |\n",
      "---------------------------------------------------------------\n",
      "    1 |   4.2336 |     88.105 |   3.6548 |     81.416 |     0.0\n",
      "    2 |   3.5732 |     82.807 |   3.4476 |     81.416 |     0.0\n",
      "    3 |   3.3869 |     82.835 |   3.3523 |     81.416 |     0.0\n",
      "    4 |   3.2778 |     82.196 |   3.2891 |     81.416 |     0.0\n",
      "    5 |   3.1886 |     80.953 |   3.2348 |     80.653 |     0.1\n",
      "    6 |   3.1034 |     78.564 |   3.1878 |     79.257 |     0.1\n",
      "    7 |   3.0173 |     76.341 |   3.1398 |     78.406 |     0.1\n",
      "    8 |   2.9338 |     74.996 |   3.0940 |     77.624 |     0.1\n",
      "    9 |   2.8554 |     74.151 |   3.0550 |     77.149 |     0.1\n",
      "   10 |   2.7856 |     73.528 |   3.0273 |     76.901 |     0.1\n",
      "\n",
      "Evaluating model..\n",
      "disjoint window...\n",
      "greedy_search...\n",
      "beam_search...\n",
      "sliding, greedy...\n",
      "uniform...\n",
      "triangle...\n",
      "bell...\n",
      "sliding, beam...\n",
      "uniform...\n",
      "triangle...\n",
      "bell...\n",
      "  experiment_id  improvement    window decoding  window_size  \\\n",
      "0          test -7484.439812  disjoint   greedy           10   \n",
      "1          test -7181.167827  disjoint   greedy            5   \n",
      "2          test -7491.714875  disjoint     beam           10   \n",
      "3          test -7212.592269  disjoint     beam            5   \n",
      "4          test -7820.767492   sliding   greedy            5   \n",
      "5          test -7827.424512   sliding   greedy            5   \n",
      "6          test -7831.965229   sliding   greedy            5   \n",
      "7          test -7850.288685   sliding     beam            5   \n",
      "8          test -7857.995552   sliding     beam            5   \n",
      "9          test -7860.115356   sliding     beam            5   \n",
      "\n",
      "   inference_seconds  cer_before  cer_after weighting  \n",
      "0           0.503130    1.251304  94.904415       NaN  \n",
      "1           0.417322    1.251304  91.109560       NaN  \n",
      "2           3.450175    1.251304  94.995448       NaN  \n",
      "3           3.141304    1.251304  91.502775       NaN  \n",
      "4           2.683699    1.251304  99.112898   uniform  \n",
      "5           2.556357    1.251304  99.196197  triangle  \n",
      "6           2.569700    1.251304  99.253015      bell  \n",
      "7          15.684663    1.251304  99.482297   uniform  \n",
      "8          15.567801    1.251304  99.578734  triangle  \n",
      "9          15.702030    1.251304  99.605259      bell  \n"
     ]
    }
   ],
   "source": [
    "%run scripts/train_models/launch_experiments.py --experiment_id=test --random"
   ]
  },
  {
   "cell_type": "code",
   "execution_count": null,
   "metadata": {},
   "outputs": [],
   "source": []
  }
 ],
 "metadata": {
  "kernelspec": {
   "display_name": "Python 3",
   "language": "python",
   "name": "python3"
  },
  "language_info": {
   "codemirror_mode": {
    "name": "ipython",
    "version": 3
   },
   "file_extension": ".py",
   "mimetype": "text/x-python",
   "name": "python",
   "nbconvert_exporter": "python",
   "pygments_lexer": "ipython3",
   "version": "3.7.4"
  }
 },
 "nbformat": 4,
 "nbformat_minor": 4
}
