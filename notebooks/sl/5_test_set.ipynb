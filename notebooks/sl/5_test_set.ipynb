{
 "cells": [
  {
   "cell_type": "code",
   "execution_count": 1,
   "metadata": {},
   "outputs": [],
   "source": [
    "import os\n",
    "from tqdm.notebook import tqdm\n",
    "from pathlib import Path\n",
    "import pandas as pd\n",
    "from nltk.lm import Vocabulary\n",
    "import pickle\n",
    "import sys\n",
    "import torch\n",
    "import importlib\n",
    "from timeit import default_timer as t\n",
    "sys.path.append(\"../../lib\")\n",
    "from metrics import levenshtein\n",
    "import ocr_correction\n",
    "from pytorch_decoding import seq2seq"
   ]
  },
  {
   "cell_type": "code",
   "execution_count": 2,
   "metadata": {},
   "outputs": [],
   "source": [
    "folder = \"../../data/ICDAR2019_POCR_competition_dataset/ICDAR2019_POCR_competition_evaluation_4M_without_Finnish/SL/\""
   ]
  },
  {
   "cell_type": "code",
   "execution_count": 3,
   "metadata": {},
   "outputs": [
    {
     "data": {
      "text/plain": [
       "1"
      ]
     },
     "execution_count": 3,
     "metadata": {},
     "output_type": "execute_result"
    }
   ],
   "source": [
    "files = sorted(os.listdir(folder))\n",
    "len(files)"
   ]
  },
  {
   "cell_type": "code",
   "execution_count": 4,
   "metadata": {},
   "outputs": [
    {
     "data": {
      "text/plain": [
       "48"
      ]
     },
     "execution_count": 4,
     "metadata": {},
     "output_type": "execute_result"
    }
   ],
   "source": [
    "import glob\n",
    "\n",
    "files = glob.glob(folder + '/**/*.txt', recursive=True)\n",
    "len(files)"
   ]
  },
  {
   "cell_type": "code",
   "execution_count": 5,
   "metadata": {},
   "outputs": [
    {
     "data": {
      "application/vnd.jupyter.widget-view+json": {
       "model_id": "6fccd4ac34554bd1b95bf709cf610da3",
       "version_major": 2,
       "version_minor": 0
      },
      "text/plain": [
       "  0%|          | 0/48 [00:00<?, ?it/s]"
      ]
     },
     "metadata": {},
     "output_type": "display_data"
    }
   ],
   "source": [
    "data = []\n",
    "for f in tqdm(files):\n",
    "    with open(f) as file:\n",
    "        data.append(file.readlines())"
   ]
  },
  {
   "cell_type": "code",
   "execution_count": 6,
   "metadata": {},
   "outputs": [
    {
     "name": "stdout",
     "output_type": "stream",
     "text": [
      "(48, 3)\n"
     ]
    },
    {
     "data": {
      "text/html": [
       "<div>\n",
       "<style scoped>\n",
       "    .dataframe tbody tr th:only-of-type {\n",
       "        vertical-align: middle;\n",
       "    }\n",
       "\n",
       "    .dataframe tbody tr th {\n",
       "        vertical-align: top;\n",
       "    }\n",
       "\n",
       "    .dataframe thead th {\n",
       "        text-align: right;\n",
       "    }\n",
       "</style>\n",
       "<table border=\"1\" class=\"dataframe\">\n",
       "  <thead>\n",
       "    <tr style=\"text-align: right;\">\n",
       "      <th></th>\n",
       "      <th>ocr_to_input</th>\n",
       "      <th>ocr_aligned</th>\n",
       "      <th>gs_aligned</th>\n",
       "    </tr>\n",
       "  </thead>\n",
       "  <tbody>\n",
       "    <tr>\n",
       "      <th>0</th>\n",
       "      <td>Kazalo. Fervo poglavje: Božična pesem .... . B...</td>\n",
       "      <td>@Kazalo. Fervo poglavje: Božična pesem .@.@.@....</td>\n",
       "      <td>Kazalo. Pervo poglavje: Božična pesem . . . ....</td>\n",
       "    </tr>\n",
       "    <tr>\n",
       "      <th>1</th>\n",
       "      <td>♦v-**** / n Ta tvoiga telefa sad Zhefhen bodi ...</td>\n",
       "      <td>♦v-**** / n Ta tvoiga telefa sad Zhefhen bodi ...</td>\n",
       "      <td>@@@@@@@ @13 Ta tvoiga telesa sad Zheshen bodi ...</td>\n",
       "    </tr>\n",
       "    <tr>\n",
       "      <th>2</th>\n",
       "      <td>9» vershajo da sem soblizhiara ra an kathn per...</td>\n",
       "      <td>@9» vershajo da sem soblizhiara ra an kathn pe...</td>\n",
       "      <td>92 vershajo da sem soblizhia@m na an k@smn pe...</td>\n",
       "    </tr>\n",
       "    <tr>\n",
       "      <th>3</th>\n",
       "      <td>13 - učilnic, na ministerski ukaz, dan 1848. l...</td>\n",
       "      <td>@@@13 - učilnic, na ministerski ukaz, dan 1848...</td>\n",
       "      <td>13   učilnic, na ministerski ukaz, dán 1848...</td>\n",
       "    </tr>\n",
       "    <tr>\n",
       "      <th>4</th>\n",
       "      <td>Chrijtufoviga Tčrpleina. 49 nami, zhes nas v’ ...</td>\n",
       "      <td>@Chrijtufoviga Tčrpleina. 49 nami, zhes nas v’...</td>\n",
       "      <td>Christusoviga Terpleina. 49 nami, zhes nas v'...</td>\n",
       "    </tr>\n",
       "  </tbody>\n",
       "</table>\n",
       "</div>"
      ],
      "text/plain": [
       "                                        ocr_to_input  \\\n",
       "0  Kazalo. Fervo poglavje: Božična pesem .... . B...   \n",
       "1  ♦v-**** / n Ta tvoiga telefa sad Zhefhen bodi ...   \n",
       "2  9» vershajo da sem soblizhiara ra an kathn per...   \n",
       "3  13 - učilnic, na ministerski ukaz, dan 1848. l...   \n",
       "4  Chrijtufoviga Tčrpleina. 49 nami, zhes nas v’ ...   \n",
       "\n",
       "                                         ocr_aligned  \\\n",
       "0  @Kazalo. Fervo poglavje: Božična pesem .@.@.@....   \n",
       "1  ♦v-**** / n Ta tvoiga telefa sad Zhefhen bodi ...   \n",
       "2  @9» vershajo da sem soblizhiara ra an kathn pe...   \n",
       "3  @@@13 - učilnic, na ministerski ukaz, dan 1848...   \n",
       "4  @Chrijtufoviga Tčrpleina. 49 nami, zhes nas v’...   \n",
       "\n",
       "                                          gs_aligned  \n",
       "0   Kazalo. Pervo poglavje: Božična pesem . . . ....  \n",
       "1  @@@@@@@ @13 Ta tvoiga telesa sad Zheshen bodi ...  \n",
       "2   92 vershajo da sem soblizhia@m na an k@smn pe...  \n",
       "3     13   učilnic, na ministerski ukaz, dán 1848...  \n",
       "4   Christusoviga Terpleina. 49 nami, zhes nas v'...  "
      ]
     },
     "execution_count": 6,
     "metadata": {},
     "output_type": "execute_result"
    }
   ],
   "source": [
    "data = pd.DataFrame(data, \n",
    "                    columns = [\"ocr_to_input\", \n",
    "                               \"ocr_aligned\", \n",
    "                               \"gs_aligned\"])\\\n",
    ".assign(ocr_to_input = lambda df: df.ocr_to_input.str.replace(\"[OCR_toInput] \", \"\", regex = False),\n",
    "        ocr_aligned = lambda df: df.ocr_aligned.str.replace(\"[OCR_aligned] \", \"\", regex = False),\n",
    "        gs_aligned = lambda df: df.gs_aligned.str.replace(\"[ GS_aligned] \", \"\", regex = False))\n",
    "\n",
    "print(data.shape)\n",
    "data.head()"
   ]
  },
  {
   "cell_type": "code",
   "execution_count": 7,
   "metadata": {},
   "outputs": [
    {
     "data": {
      "text/html": [
       "<div>\n",
       "<style scoped>\n",
       "    .dataframe tbody tr th:only-of-type {\n",
       "        vertical-align: middle;\n",
       "    }\n",
       "\n",
       "    .dataframe tbody tr th {\n",
       "        vertical-align: top;\n",
       "    }\n",
       "\n",
       "    .dataframe thead th {\n",
       "        text-align: right;\n",
       "    }\n",
       "</style>\n",
       "<table border=\"1\" class=\"dataframe\">\n",
       "  <thead>\n",
       "    <tr style=\"text-align: right;\">\n",
       "      <th></th>\n",
       "      <th>ocr_to_input</th>\n",
       "      <th>ocr_aligned</th>\n",
       "      <th>gs_aligned</th>\n",
       "    </tr>\n",
       "  </thead>\n",
       "  <tbody>\n",
       "    <tr>\n",
       "      <th>count</th>\n",
       "      <td>48.000000</td>\n",
       "      <td>48.000000</td>\n",
       "      <td>48.000000</td>\n",
       "    </tr>\n",
       "    <tr>\n",
       "      <th>mean</th>\n",
       "      <td>2010.062500</td>\n",
       "      <td>2097.875000</td>\n",
       "      <td>2096.875000</td>\n",
       "    </tr>\n",
       "    <tr>\n",
       "      <th>std</th>\n",
       "      <td>2006.992748</td>\n",
       "      <td>2150.721548</td>\n",
       "      <td>2150.721548</td>\n",
       "    </tr>\n",
       "    <tr>\n",
       "      <th>min</th>\n",
       "      <td>339.000000</td>\n",
       "      <td>345.000000</td>\n",
       "      <td>344.000000</td>\n",
       "    </tr>\n",
       "    <tr>\n",
       "      <th>25%</th>\n",
       "      <td>811.500000</td>\n",
       "      <td>841.500000</td>\n",
       "      <td>840.500000</td>\n",
       "    </tr>\n",
       "    <tr>\n",
       "      <th>50%</th>\n",
       "      <td>1360.000000</td>\n",
       "      <td>1417.500000</td>\n",
       "      <td>1416.500000</td>\n",
       "    </tr>\n",
       "    <tr>\n",
       "      <th>75%</th>\n",
       "      <td>1617.750000</td>\n",
       "      <td>1681.500000</td>\n",
       "      <td>1680.500000</td>\n",
       "    </tr>\n",
       "    <tr>\n",
       "      <th>max</th>\n",
       "      <td>7062.000000</td>\n",
       "      <td>8289.000000</td>\n",
       "      <td>8288.000000</td>\n",
       "    </tr>\n",
       "  </tbody>\n",
       "</table>\n",
       "</div>"
      ],
      "text/plain": [
       "       ocr_to_input  ocr_aligned   gs_aligned\n",
       "count     48.000000    48.000000    48.000000\n",
       "mean    2010.062500  2097.875000  2096.875000\n",
       "std     2006.992748  2150.721548  2150.721548\n",
       "min      339.000000   345.000000   344.000000\n",
       "25%      811.500000   841.500000   840.500000\n",
       "50%     1360.000000  1417.500000  1416.500000\n",
       "75%     1617.750000  1681.500000  1680.500000\n",
       "max     7062.000000  8289.000000  8288.000000"
      ]
     },
     "execution_count": 7,
     "metadata": {},
     "output_type": "execute_result"
    }
   ],
   "source": [
    "data.applymap(len).describe()"
   ]
  },
  {
   "cell_type": "code",
   "execution_count": 8,
   "metadata": {},
   "outputs": [
    {
     "name": "stdout",
     "output_type": "stream",
     "text": [
      "144\n"
     ]
    }
   ],
   "source": [
    "vocabulary = Vocabulary(data.ocr_to_input.sum() + data.ocr_aligned.sum() + data.gs_aligned.sum())\n",
    "print(len(vocabulary))"
   ]
  },
  {
   "cell_type": "code",
   "execution_count": 9,
   "metadata": {},
   "outputs": [
    {
     "data": {
      "text/plain": [
       "count       48.000000\n",
       "mean       344.811294\n",
       "std       1940.190506\n",
       "min          1.466049\n",
       "25%          6.338192\n",
       "50%         10.309256\n",
       "75%         15.433858\n",
       "max      13250.000000\n",
       "Name: cer, dtype: float64"
      ]
     },
     "execution_count": 9,
     "metadata": {},
     "output_type": "execute_result"
    }
   ],
   "source": [
    "distances = levenshtein(reference = data.gs_aligned.str.replace(\"@\", \"\"), \n",
    "                        hypothesis = data.ocr_to_input)\n",
    "distances.cer.describe()"
   ]
  },
  {
   "cell_type": "code",
   "execution_count": 10,
   "metadata": {},
   "outputs": [
    {
     "data": {
      "text/plain": [
       "count    48.000000\n",
       "mean     16.417297\n",
       "std      20.757412\n",
       "min       1.462664\n",
       "25%       6.264535\n",
       "50%      10.189735\n",
       "75%      14.902369\n",
       "max      99.437148\n",
       "Name: cer, dtype: float64"
      ]
     },
     "execution_count": 10,
     "metadata": {},
     "output_type": "execute_result"
    }
   ],
   "source": [
    "distances = levenshtein(reference = data.gs_aligned, \n",
    "                        hypothesis = data.ocr_to_input)\n",
    "distances.cer.describe()"
   ]
  },
  {
   "cell_type": "code",
   "execution_count": 11,
   "metadata": {},
   "outputs": [],
   "source": [
    "data.to_pickle(\"../../data/sl/data/test.pkl\")"
   ]
  },
  {
   "cell_type": "code",
   "execution_count": null,
   "metadata": {},
   "outputs": [],
   "source": []
  }
 ],
 "metadata": {
  "kernelspec": {
   "display_name": "Python 3",
   "language": "python",
   "name": "python3"
  },
  "language_info": {
   "codemirror_mode": {
    "name": "ipython",
    "version": 3
   },
   "file_extension": ".py",
   "mimetype": "text/x-python",
   "name": "python",
   "nbconvert_exporter": "python",
   "pygments_lexer": "ipython3",
   "version": "3.8.8"
  },
  "toc": {
   "base_numbering": 1,
   "nav_menu": {},
   "number_sections": true,
   "sideBar": true,
   "skip_h1_title": false,
   "title_cell": "Table of Contents",
   "title_sidebar": "Contents",
   "toc_cell": false,
   "toc_position": {},
   "toc_section_display": true,
   "toc_window_display": false
  }
 },
 "nbformat": 4,
 "nbformat_minor": 4
}
