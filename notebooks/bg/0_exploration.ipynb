{
 "cells": [
  {
   "cell_type": "code",
   "execution_count": 1,
   "metadata": {},
   "outputs": [],
   "source": [
    "import os\n",
    "from tqdm.notebook import tqdm\n",
    "from pathlib import Path\n",
    "import pandas as pd\n",
    "from nltk.lm import Vocabulary\n",
    "import sys\n",
    "sys.path.append(\"../../lib\")\n",
    "from metrics import levenshtein\n",
    "import pickle"
   ]
  },
  {
   "cell_type": "code",
   "execution_count": 2,
   "metadata": {},
   "outputs": [],
   "source": [
    "folder = \"../../data/ICDAR2019_POCR_competition_dataset/ICDAR2019_POCR_competition_training_18M_without_Finnish/BG/\""
   ]
  },
  {
   "cell_type": "code",
   "execution_count": 3,
   "metadata": {},
   "outputs": [],
   "source": [
    "output_folder = Path(\"../../data/bg\")"
   ]
  },
  {
   "cell_type": "code",
   "execution_count": 4,
   "metadata": {},
   "outputs": [
    {
     "data": {
      "text/plain": [
       "1"
      ]
     },
     "execution_count": 4,
     "metadata": {},
     "output_type": "execute_result"
    }
   ],
   "source": [
    "files = sorted(os.listdir(folder))\n",
    "len(files)"
   ]
  },
  {
   "cell_type": "code",
   "execution_count": 5,
   "metadata": {},
   "outputs": [
    {
     "data": {
      "text/plain": [
       "149"
      ]
     },
     "execution_count": 5,
     "metadata": {},
     "output_type": "execute_result"
    }
   ],
   "source": [
    "import glob\n",
    "\n",
    "files = glob.glob(folder + '/**/*.txt', recursive=True)\n",
    "len(files)"
   ]
  },
  {
   "cell_type": "code",
   "execution_count": 6,
   "metadata": {},
   "outputs": [
    {
     "data": {
      "application/vnd.jupyter.widget-view+json": {
       "model_id": "ba4dd3c611b34cf5beb7b4ccaedee32d",
       "version_major": 2,
       "version_minor": 0
      },
      "text/plain": [
       "  0%|          | 0/149 [00:00<?, ?it/s]"
      ]
     },
     "metadata": {},
     "output_type": "display_data"
    },
    {
     "data": {
      "text/plain": [
       "149"
      ]
     },
     "execution_count": 6,
     "metadata": {},
     "output_type": "execute_result"
    }
   ],
   "source": [
    "from multiprocessing import Pool\n",
    "\n",
    "def extract(name):\n",
    "    with open(name) as file:\n",
    "        return file.readlines()\n",
    "    \n",
    "def create_windows(x):\n",
    "    A, B, window_length = x\n",
    "    assert len(A) == len(B)\n",
    "    return [(A[i:i + window_length], B[i:i + window_length]) \n",
    "            for i in range(len(A) + 1)]\n",
    "    \n",
    "p = Pool(4)\n",
    "    \n",
    "data = list(p.imap_unordered(extract, tqdm(files), chunksize = 128))\n",
    "len(data)"
   ]
  },
  {
   "cell_type": "code",
   "execution_count": 7,
   "metadata": {},
   "outputs": [
    {
     "name": "stdout",
     "output_type": "stream",
     "text": [
      "(149, 3)\n"
     ]
    },
    {
     "data": {
      "text/html": [
       "<div>\n",
       "<style scoped>\n",
       "    .dataframe tbody tr th:only-of-type {\n",
       "        vertical-align: middle;\n",
       "    }\n",
       "\n",
       "    .dataframe tbody tr th {\n",
       "        vertical-align: top;\n",
       "    }\n",
       "\n",
       "    .dataframe thead th {\n",
       "        text-align: right;\n",
       "    }\n",
       "</style>\n",
       "<table border=\"1\" class=\"dataframe\">\n",
       "  <thead>\n",
       "    <tr style=\"text-align: right;\">\n",
       "      <th></th>\n",
       "      <th>ocr_to_input</th>\n",
       "      <th>ocr_aligned</th>\n",
       "      <th>gs_aligned</th>\n",
       "    </tr>\n",
       "  </thead>\n",
       "  <tbody>\n",
       "    <tr>\n",
       "      <th>0</th>\n",
       "      <td>— 211 — Отъ миогочислеини наблюдения Паркет, е...</td>\n",
       "      <td>@— 211 — Отъ миогочислеини наблюдения Паркет, ...</td>\n",
       "      <td>211   Отъ многочисленни паблюдения Парк@съ ...</td>\n",
       "    </tr>\n",
       "    <tr>\n",
       "      <th>1</th>\n",
       "      <td>КониетТ; нмъ вТюлето бойно Презъ огиь се припк...</td>\n",
       "      <td>КониетТ; @нмъ вТюлето бойно Презъ огиь се прип...</td>\n",
       "      <td>337   Но предприемчивата злоба В'сь@рдцето ...</td>\n",
       "    </tr>\n",
       "    <tr>\n",
       "      <th>2</th>\n",
       "      <td>— 272 — казалъ азъ.—Така. Па каго чрВзъ насъ с...</td>\n",
       "      <td>@— 272 — казалъ азъ.—Така. Па каго чрВзъ насъ ...</td>\n",
       "      <td>272   казалъ азъ. Така. Но каго чрѣзъ насъ ...</td>\n",
       "    </tr>\n",
       "    <tr>\n",
       "      <th>3</th>\n",
       "      <td>,1 о 0. тО о диЯ внучета. Останаха живи само д...</td>\n",
       "      <td>,1 о 0. тО о диЯ внучета. Останаха живи само д...</td>\n",
       "      <td>@@ @ @ 433   двѣ внучета. Останахѫ живи само д...</td>\n",
       "    </tr>\n",
       "    <tr>\n",
       "      <th>4</th>\n",
       "      <td>— 91 — Какво ли има пакъ? Когато тичахъ нрФзъ ...</td>\n",
       "      <td>@— 91@@ — Какво ли има пакъ? Когато тичахъ нрФ...</td>\n",
       "      <td>91     Какво ли има  акъ? Когато тичахъ прѣ...</td>\n",
       "    </tr>\n",
       "  </tbody>\n",
       "</table>\n",
       "</div>"
      ],
      "text/plain": [
       "                                        ocr_to_input  \\\n",
       "0  — 211 — Отъ миогочислеини наблюдения Паркет, е...   \n",
       "1  КониетТ; нмъ вТюлето бойно Презъ огиь се припк...   \n",
       "2  — 272 — казалъ азъ.—Така. Па каго чрВзъ насъ с...   \n",
       "3  ,1 о 0. тО о диЯ внучета. Останаха живи само д...   \n",
       "4  — 91 — Какво ли има пакъ? Когато тичахъ нрФзъ ...   \n",
       "\n",
       "                                         ocr_aligned  \\\n",
       "0  @— 211 — Отъ миогочислеини наблюдения Паркет, ...   \n",
       "1  КониетТ; @нмъ вТюлето бойно Презъ огиь се прип...   \n",
       "2  @— 272 — казалъ азъ.—Така. Па каго чрВзъ насъ ...   \n",
       "3  ,1 о 0. тО о диЯ внучета. Останаха живи само д...   \n",
       "4  @— 91@@ — Какво ли има пакъ? Когато тичахъ нрФ...   \n",
       "\n",
       "                                          gs_aligned  \n",
       "0     211   Отъ многочисленни паблюдения Парк@съ ...  \n",
       "1     337   Но предприемчивата злоба В'сь@рдцето ...  \n",
       "2     272   казалъ азъ. Така. Но каго чрѣзъ насъ ...  \n",
       "3  @@ @ @ 433   двѣ внучета. Останахѫ живи само д...  \n",
       "4     91     Какво ли има  акъ? Когато тичахъ прѣ...  "
      ]
     },
     "execution_count": 7,
     "metadata": {},
     "output_type": "execute_result"
    }
   ],
   "source": [
    "# data = []\n",
    "# for f in tqdm(files):\n",
    "#     with open(f) as file:\n",
    "#         data.append(file.readlines())\n",
    "\n",
    "data = pd.DataFrame(data, \n",
    "                    columns = [\"ocr_to_input\", \n",
    "                               \"ocr_aligned\", \n",
    "                               \"gs_aligned\"])\\\n",
    ".assign(ocr_to_input = lambda df: df.ocr_to_input.str.replace(\"[OCR_toInput] \", \"\", regex = False),\n",
    "        ocr_aligned = lambda df: df.ocr_aligned.str.replace(\"[OCR_aligned] \", \"\", regex = False),\n",
    "        gs_aligned = lambda df: df.gs_aligned.str.replace(\"[ GS_aligned] \", \"\", regex = False))\n",
    "\n",
    "print(data.shape)\n",
    "data.head()"
   ]
  },
  {
   "cell_type": "code",
   "execution_count": 8,
   "metadata": {},
   "outputs": [
    {
     "data": {
      "text/html": [
       "<div>\n",
       "<style scoped>\n",
       "    .dataframe tbody tr th:only-of-type {\n",
       "        vertical-align: middle;\n",
       "    }\n",
       "\n",
       "    .dataframe tbody tr th {\n",
       "        vertical-align: top;\n",
       "    }\n",
       "\n",
       "    .dataframe thead th {\n",
       "        text-align: right;\n",
       "    }\n",
       "</style>\n",
       "<table border=\"1\" class=\"dataframe\">\n",
       "  <thead>\n",
       "    <tr style=\"text-align: right;\">\n",
       "      <th></th>\n",
       "      <th>ocr_to_input</th>\n",
       "      <th>ocr_aligned</th>\n",
       "      <th>gs_aligned</th>\n",
       "    </tr>\n",
       "  </thead>\n",
       "  <tbody>\n",
       "    <tr>\n",
       "      <th>count</th>\n",
       "      <td>149.000000</td>\n",
       "      <td>149.000000</td>\n",
       "      <td>149.000000</td>\n",
       "    </tr>\n",
       "    <tr>\n",
       "      <th>mean</th>\n",
       "      <td>1866.879195</td>\n",
       "      <td>1925.067114</td>\n",
       "      <td>1925.067114</td>\n",
       "    </tr>\n",
       "    <tr>\n",
       "      <th>std</th>\n",
       "      <td>628.106807</td>\n",
       "      <td>631.422736</td>\n",
       "      <td>631.422736</td>\n",
       "    </tr>\n",
       "    <tr>\n",
       "      <th>min</th>\n",
       "      <td>41.000000</td>\n",
       "      <td>41.000000</td>\n",
       "      <td>41.000000</td>\n",
       "    </tr>\n",
       "    <tr>\n",
       "      <th>25%</th>\n",
       "      <td>1205.000000</td>\n",
       "      <td>1339.000000</td>\n",
       "      <td>1339.000000</td>\n",
       "    </tr>\n",
       "    <tr>\n",
       "      <th>50%</th>\n",
       "      <td>2130.000000</td>\n",
       "      <td>2184.000000</td>\n",
       "      <td>2184.000000</td>\n",
       "    </tr>\n",
       "    <tr>\n",
       "      <th>75%</th>\n",
       "      <td>2344.000000</td>\n",
       "      <td>2391.000000</td>\n",
       "      <td>2391.000000</td>\n",
       "    </tr>\n",
       "    <tr>\n",
       "      <th>max</th>\n",
       "      <td>2771.000000</td>\n",
       "      <td>2969.000000</td>\n",
       "      <td>2969.000000</td>\n",
       "    </tr>\n",
       "  </tbody>\n",
       "</table>\n",
       "</div>"
      ],
      "text/plain": [
       "       ocr_to_input  ocr_aligned   gs_aligned\n",
       "count    149.000000   149.000000   149.000000\n",
       "mean    1866.879195  1925.067114  1925.067114\n",
       "std      628.106807   631.422736   631.422736\n",
       "min       41.000000    41.000000    41.000000\n",
       "25%     1205.000000  1339.000000  1339.000000\n",
       "50%     2130.000000  2184.000000  2184.000000\n",
       "75%     2344.000000  2391.000000  2391.000000\n",
       "max     2771.000000  2969.000000  2969.000000"
      ]
     },
     "execution_count": 8,
     "metadata": {},
     "output_type": "execute_result"
    }
   ],
   "source": [
    "data.applymap(len).describe()"
   ]
  },
  {
   "cell_type": "code",
   "execution_count": 9,
   "metadata": {},
   "outputs": [
    {
     "data": {
      "text/plain": [
       "count    149.000000\n",
       "mean      17.706168\n",
       "std       18.898940\n",
       "min        5.244338\n",
       "25%        7.995029\n",
       "50%        9.142607\n",
       "75%       13.867277\n",
       "max      104.950495\n",
       "Name: cer, dtype: float64"
      ]
     },
     "execution_count": 9,
     "metadata": {},
     "output_type": "execute_result"
    }
   ],
   "source": [
    "levenshtein(reference = data.gs_aligned.str.replace(\"@\", \"\"), \n",
    "            hypothesis = data.ocr_to_input).cer.describe()"
   ]
  },
  {
   "cell_type": "code",
   "execution_count": 10,
   "metadata": {},
   "outputs": [
    {
     "data": {
      "text/plain": [
       "count    149.000000\n",
       "mean      16.136107\n",
       "std       15.694098\n",
       "min        5.233941\n",
       "25%        7.915194\n",
       "50%        9.055728\n",
       "75%       13.478648\n",
       "max       86.885246\n",
       "Name: cer, dtype: float64"
      ]
     },
     "execution_count": 10,
     "metadata": {},
     "output_type": "execute_result"
    }
   ],
   "source": [
    "levenshtein(reference = data.gs_aligned, \n",
    "            hypothesis = data.ocr_aligned).cer.describe()"
   ]
  },
  {
   "cell_type": "code",
   "execution_count": 13,
   "metadata": {},
   "outputs": [
    {
     "name": "stdout",
     "output_type": "stream",
     "text": [
      "188\n"
     ]
    }
   ],
   "source": [
    "vocabulary = Vocabulary(data.ocr_to_input.sum() + data.ocr_aligned.sum() + data.gs_aligned.sum())\n",
    "print(len(vocabulary))\n",
    "with open(output_folder/\"data/vocabulary.pkl\", \"wb\") as file:\n",
    "    pickle.dump(vocabulary, file)"
   ]
  },
  {
   "cell_type": "code",
   "execution_count": 14,
   "metadata": {},
   "outputs": [
    {
     "data": {
      "text/plain": [
       "(5, 3)"
      ]
     },
     "execution_count": 14,
     "metadata": {},
     "output_type": "execute_result"
    }
   ],
   "source": [
    "dev = data.sample(n = 5, random_state = 1)\n",
    "dev.to_pickle(output_folder/\"data/dev.pkl\")\n",
    "dev.shape"
   ]
  },
  {
   "cell_type": "code",
   "execution_count": 15,
   "metadata": {},
   "outputs": [
    {
     "data": {
      "text/plain": [
       "(144, 3)"
      ]
     },
     "execution_count": 15,
     "metadata": {},
     "output_type": "execute_result"
    }
   ],
   "source": [
    "train = data.drop(dev.index)\n",
    "train.to_pickle(output_folder/\"data/train.pkl\")\n",
    "train.shape"
   ]
  },
  {
   "cell_type": "code",
   "execution_count": 16,
   "metadata": {},
   "outputs": [
    {
     "data": {
      "text/html": [
       "<div>\n",
       "<style scoped>\n",
       "    .dataframe tbody tr th:only-of-type {\n",
       "        vertical-align: middle;\n",
       "    }\n",
       "\n",
       "    .dataframe tbody tr th {\n",
       "        vertical-align: top;\n",
       "    }\n",
       "\n",
       "    .dataframe thead th {\n",
       "        text-align: right;\n",
       "    }\n",
       "</style>\n",
       "<table border=\"1\" class=\"dataframe\">\n",
       "  <thead>\n",
       "    <tr style=\"text-align: right;\">\n",
       "      <th></th>\n",
       "      <th>ocr_to_input</th>\n",
       "      <th>ocr_aligned</th>\n",
       "      <th>gs_aligned</th>\n",
       "    </tr>\n",
       "  </thead>\n",
       "  <tbody>\n",
       "    <tr>\n",
       "      <th>count</th>\n",
       "      <td>144.000000</td>\n",
       "      <td>144.000000</td>\n",
       "      <td>144.000000</td>\n",
       "    </tr>\n",
       "    <tr>\n",
       "      <th>mean</th>\n",
       "      <td>1868.173611</td>\n",
       "      <td>1924.298611</td>\n",
       "      <td>1924.298611</td>\n",
       "    </tr>\n",
       "    <tr>\n",
       "      <th>std</th>\n",
       "      <td>628.187473</td>\n",
       "      <td>631.285791</td>\n",
       "      <td>631.285791</td>\n",
       "    </tr>\n",
       "    <tr>\n",
       "      <th>min</th>\n",
       "      <td>41.000000</td>\n",
       "      <td>41.000000</td>\n",
       "      <td>41.000000</td>\n",
       "    </tr>\n",
       "    <tr>\n",
       "      <th>25%</th>\n",
       "      <td>1203.750000</td>\n",
       "      <td>1325.250000</td>\n",
       "      <td>1325.250000</td>\n",
       "    </tr>\n",
       "    <tr>\n",
       "      <th>50%</th>\n",
       "      <td>2128.000000</td>\n",
       "      <td>2184.500000</td>\n",
       "      <td>2184.500000</td>\n",
       "    </tr>\n",
       "    <tr>\n",
       "      <th>75%</th>\n",
       "      <td>2344.500000</td>\n",
       "      <td>2388.750000</td>\n",
       "      <td>2388.750000</td>\n",
       "    </tr>\n",
       "    <tr>\n",
       "      <th>max</th>\n",
       "      <td>2771.000000</td>\n",
       "      <td>2969.000000</td>\n",
       "      <td>2969.000000</td>\n",
       "    </tr>\n",
       "  </tbody>\n",
       "</table>\n",
       "</div>"
      ],
      "text/plain": [
       "       ocr_to_input  ocr_aligned   gs_aligned\n",
       "count    144.000000   144.000000   144.000000\n",
       "mean    1868.173611  1924.298611  1924.298611\n",
       "std      628.187473   631.285791   631.285791\n",
       "min       41.000000    41.000000    41.000000\n",
       "25%     1203.750000  1325.250000  1325.250000\n",
       "50%     2128.000000  2184.500000  2184.500000\n",
       "75%     2344.500000  2388.750000  2388.750000\n",
       "max     2771.000000  2969.000000  2969.000000"
      ]
     },
     "execution_count": 16,
     "metadata": {},
     "output_type": "execute_result"
    }
   ],
   "source": [
    "train.applymap(len).describe()"
   ]
  },
  {
   "cell_type": "code",
   "execution_count": 17,
   "metadata": {},
   "outputs": [
    {
     "data": {
      "text/html": [
       "<div>\n",
       "<style scoped>\n",
       "    .dataframe tbody tr th:only-of-type {\n",
       "        vertical-align: middle;\n",
       "    }\n",
       "\n",
       "    .dataframe tbody tr th {\n",
       "        vertical-align: top;\n",
       "    }\n",
       "\n",
       "    .dataframe thead th {\n",
       "        text-align: right;\n",
       "    }\n",
       "</style>\n",
       "<table border=\"1\" class=\"dataframe\">\n",
       "  <thead>\n",
       "    <tr style=\"text-align: right;\">\n",
       "      <th></th>\n",
       "      <th>ocr_to_input</th>\n",
       "      <th>ocr_aligned</th>\n",
       "      <th>gs_aligned</th>\n",
       "    </tr>\n",
       "  </thead>\n",
       "  <tbody>\n",
       "    <tr>\n",
       "      <th>count</th>\n",
       "      <td>5.000000</td>\n",
       "      <td>5.000000</td>\n",
       "      <td>5.000000</td>\n",
       "    </tr>\n",
       "    <tr>\n",
       "      <th>mean</th>\n",
       "      <td>1829.600000</td>\n",
       "      <td>1947.200000</td>\n",
       "      <td>1947.200000</td>\n",
       "    </tr>\n",
       "    <tr>\n",
       "      <th>std</th>\n",
       "      <td>698.374756</td>\n",
       "      <td>709.870904</td>\n",
       "      <td>709.870904</td>\n",
       "    </tr>\n",
       "    <tr>\n",
       "      <th>min</th>\n",
       "      <td>767.000000</td>\n",
       "      <td>924.000000</td>\n",
       "      <td>924.000000</td>\n",
       "    </tr>\n",
       "    <tr>\n",
       "      <th>25%</th>\n",
       "      <td>1524.000000</td>\n",
       "      <td>1531.000000</td>\n",
       "      <td>1531.000000</td>\n",
       "    </tr>\n",
       "    <tr>\n",
       "      <th>50%</th>\n",
       "      <td>2140.000000</td>\n",
       "      <td>2163.000000</td>\n",
       "      <td>2163.000000</td>\n",
       "    </tr>\n",
       "    <tr>\n",
       "      <th>75%</th>\n",
       "      <td>2168.000000</td>\n",
       "      <td>2546.000000</td>\n",
       "      <td>2546.000000</td>\n",
       "    </tr>\n",
       "    <tr>\n",
       "      <th>max</th>\n",
       "      <td>2549.000000</td>\n",
       "      <td>2572.000000</td>\n",
       "      <td>2572.000000</td>\n",
       "    </tr>\n",
       "  </tbody>\n",
       "</table>\n",
       "</div>"
      ],
      "text/plain": [
       "       ocr_to_input  ocr_aligned   gs_aligned\n",
       "count      5.000000     5.000000     5.000000\n",
       "mean    1829.600000  1947.200000  1947.200000\n",
       "std      698.374756   709.870904   709.870904\n",
       "min      767.000000   924.000000   924.000000\n",
       "25%     1524.000000  1531.000000  1531.000000\n",
       "50%     2140.000000  2163.000000  2163.000000\n",
       "75%     2168.000000  2546.000000  2546.000000\n",
       "max     2549.000000  2572.000000  2572.000000"
      ]
     },
     "execution_count": 17,
     "metadata": {},
     "output_type": "execute_result"
    }
   ],
   "source": [
    "dev.applymap(len).describe()"
   ]
  },
  {
   "cell_type": "code",
   "execution_count": 18,
   "metadata": {},
   "outputs": [
    {
     "data": {
      "text/plain": [
       "count     5.000000\n",
       "mean     22.770819\n",
       "std      21.135585\n",
       "min       6.233596\n",
       "25%       6.947697\n",
       "50%       8.899297\n",
       "75%      44.914864\n",
       "max      46.858639\n",
       "Name: cer, dtype: float64"
      ]
     },
     "execution_count": 18,
     "metadata": {},
     "output_type": "execute_result"
    }
   ],
   "source": [
    "levenshtein(reference = dev.gs_aligned.str.replace(\"@\", \"\"), \n",
    "            hypothesis = dev.ocr_to_input).cer.describe()"
   ]
  },
  {
   "cell_type": "code",
   "execution_count": 19,
   "metadata": {},
   "outputs": [
    {
     "data": {
      "text/plain": [
       "count     5.000000\n",
       "mean     19.797821\n",
       "std      17.135335\n",
       "min       6.205095\n",
       "25%       6.920684\n",
       "50%       8.784096\n",
       "75%      38.334643\n",
       "max      38.744589\n",
       "Name: cer, dtype: float64"
      ]
     },
     "execution_count": 19,
     "metadata": {},
     "output_type": "execute_result"
    }
   ],
   "source": [
    "levenshtein(reference = dev.gs_aligned, \n",
    "            hypothesis = dev.ocr_to_input).cer.describe()"
   ]
  },
  {
   "cell_type": "code",
   "execution_count": 20,
   "metadata": {},
   "outputs": [],
   "source": [
    "window_length = 100"
   ]
  },
  {
   "cell_type": "code",
   "execution_count": 21,
   "metadata": {},
   "outputs": [
    {
     "data": {
      "application/vnd.jupyter.widget-view+json": {
       "model_id": "662783bcf78c469185a502b2902c5d7d",
       "version_major": 2,
       "version_minor": 0
      },
      "text/plain": [
       "  0%|          | 0/144 [00:00<?, ?it/s]"
      ]
     },
     "metadata": {},
     "output_type": "display_data"
    },
    {
     "data": {
      "application/vnd.jupyter.widget-view+json": {
       "model_id": "9157b37d0d904422b12291e13256f88f",
       "version_major": 2,
       "version_minor": 0
      },
      "text/plain": [
       "  0%|          | 0/144 [00:00<?, ?it/s]"
      ]
     },
     "metadata": {},
     "output_type": "display_data"
    },
    {
     "name": "stdout",
     "output_type": "stream",
     "text": [
      "(277243, 2)\n"
     ]
    },
    {
     "data": {
      "text/html": [
       "<div>\n",
       "<style scoped>\n",
       "    .dataframe tbody tr th:only-of-type {\n",
       "        vertical-align: middle;\n",
       "    }\n",
       "\n",
       "    .dataframe tbody tr th {\n",
       "        vertical-align: top;\n",
       "    }\n",
       "\n",
       "    .dataframe thead th {\n",
       "        text-align: right;\n",
       "    }\n",
       "</style>\n",
       "<table border=\"1\" class=\"dataframe\">\n",
       "  <thead>\n",
       "    <tr style=\"text-align: right;\">\n",
       "      <th></th>\n",
       "      <th>source</th>\n",
       "      <th>target</th>\n",
       "    </tr>\n",
       "  </thead>\n",
       "  <tbody>\n",
       "    <tr>\n",
       "      <th>0</th>\n",
       "      <td>. — 32 — като Охридски епископи, че вь негово ...</td>\n",
       "      <td>@   32   като Охридски е иско ъ, че въ негово ...</td>\n",
       "    </tr>\n",
       "    <tr>\n",
       "      <th>1</th>\n",
       "      <td>— 32 — като Охридски епископи, че вь негово и...</td>\n",
       "      <td>32   като Охридски е иско ъ, че въ негово и...</td>\n",
       "    </tr>\n",
       "    <tr>\n",
       "      <th>2</th>\n",
       "      <td>— 32 — като Охридски епископи, че вь негово им...</td>\n",
       "      <td>32   като Охридски е иско ъ, че въ негово им...</td>\n",
       "    </tr>\n",
       "    <tr>\n",
       "      <th>3</th>\n",
       "      <td>32 — като Охридски епископи, че вь негово име...</td>\n",
       "      <td>32   като Охридски е иско ъ, че въ негово име...</td>\n",
       "    </tr>\n",
       "    <tr>\n",
       "      <th>4</th>\n",
       "      <td>32 — като Охридски епископи, че вь негово име ...</td>\n",
       "      <td>32   като Охридски е иско ъ, че въ негово име ...</td>\n",
       "    </tr>\n",
       "  </tbody>\n",
       "</table>\n",
       "</div>"
      ],
      "text/plain": [
       "                                              source  \\\n",
       "0  . — 32 — като Охридски епископи, че вь негово ...   \n",
       "1   — 32 — като Охридски епископи, че вь негово и...   \n",
       "2  — 32 — като Охридски епископи, че вь негово им...   \n",
       "3   32 — като Охридски епископи, че вь негово име...   \n",
       "4  32 — като Охридски епископи, че вь негово име ...   \n",
       "\n",
       "                                              target  \n",
       "0  @   32   като Охридски е иско ъ, че въ негово ...  \n",
       "1     32   като Охридски е иско ъ, че въ негово и...  \n",
       "2    32   като Охридски е иско ъ, че въ негово им...  \n",
       "3   32   като Охридски е иско ъ, че въ негово име...  \n",
       "4  32   като Охридски е иско ъ, че въ негово име ...  "
      ]
     },
     "execution_count": 21,
     "metadata": {},
     "output_type": "execute_result"
    }
   ],
   "source": [
    "df = train#.head(100)\n",
    "train_aligned = list(p.imap_unordered(create_windows, \n",
    "                                      tqdm(zip(df.ocr_aligned, \n",
    "                                               df.gs_aligned, \n",
    "                                               [window_length for x in df.ocr_aligned]), \n",
    "                                           total = len(df.ocr_aligned)),\n",
    "                                      chunksize = 128))\n",
    "s = []\n",
    "for r in tqdm(train_aligned):\n",
    "    s.extend(r)\n",
    "train_aligned = pd.DataFrame(s, columns = [\"source\", \"target\"])\n",
    "print(train_aligned.shape)\n",
    "train_aligned.head()"
   ]
  },
  {
   "cell_type": "code",
   "execution_count": 22,
   "metadata": {},
   "outputs": [
    {
     "data": {
      "text/html": [
       "<div>\n",
       "<style scoped>\n",
       "    .dataframe tbody tr th:only-of-type {\n",
       "        vertical-align: middle;\n",
       "    }\n",
       "\n",
       "    .dataframe tbody tr th {\n",
       "        vertical-align: top;\n",
       "    }\n",
       "\n",
       "    .dataframe thead th {\n",
       "        text-align: right;\n",
       "    }\n",
       "</style>\n",
       "<table border=\"1\" class=\"dataframe\">\n",
       "  <thead>\n",
       "    <tr style=\"text-align: right;\">\n",
       "      <th></th>\n",
       "      <th>source</th>\n",
       "      <th>target</th>\n",
       "    </tr>\n",
       "  </thead>\n",
       "  <tbody>\n",
       "    <tr>\n",
       "      <th>0</th>\n",
       "      <td>. — 32 — като Охридски епископи, че вь негово ...</td>\n",
       "      <td>@   32   като Охридски е иско ъ, че въ негово ...</td>\n",
       "    </tr>\n",
       "    <tr>\n",
       "      <th>1</th>\n",
       "      <td>— 32 — като Охридски епископи, че вь негово и...</td>\n",
       "      <td>32   като Охридски е иско ъ, че въ негово и...</td>\n",
       "    </tr>\n",
       "    <tr>\n",
       "      <th>2</th>\n",
       "      <td>— 32 — като Охридски епископи, че вь негово им...</td>\n",
       "      <td>32   като Охридски е иско ъ, че въ негово им...</td>\n",
       "    </tr>\n",
       "    <tr>\n",
       "      <th>3</th>\n",
       "      <td>32 — като Охридски епископи, че вь негово име...</td>\n",
       "      <td>32   като Охридски е иско ъ, че въ негово име...</td>\n",
       "    </tr>\n",
       "    <tr>\n",
       "      <th>4</th>\n",
       "      <td>32 — като Охридски епископи, че вь негово име ...</td>\n",
       "      <td>32   като Охридски е иско ъ, че въ негово име ...</td>\n",
       "    </tr>\n",
       "  </tbody>\n",
       "</table>\n",
       "</div>"
      ],
      "text/plain": [
       "                                              source  \\\n",
       "0  . — 32 — като Охридски епископи, че вь негово ...   \n",
       "1   — 32 — като Охридски епископи, че вь негово и...   \n",
       "2  — 32 — като Охридски епископи, че вь негово им...   \n",
       "3   32 — като Охридски епископи, че вь негово име...   \n",
       "4  32 — като Охридски епископи, че вь негово име ...   \n",
       "\n",
       "                                              target  \n",
       "0  @   32   като Охридски е иско ъ, че въ негово ...  \n",
       "1     32   като Охридски е иско ъ, че въ негово и...  \n",
       "2    32   като Охридски е иско ъ, че въ негово им...  \n",
       "3   32   като Охридски е иско ъ, че въ негово име...  \n",
       "4  32   като Охридски е иско ъ, че въ негово име ...  "
      ]
     },
     "execution_count": 22,
     "metadata": {},
     "output_type": "execute_result"
    }
   ],
   "source": [
    "train_aligned = train_aligned.assign(source = lambda df: df.source.str.replace(\"@\", \"\"))\n",
    "train_aligned.head()"
   ]
  },
  {
   "cell_type": "code",
   "execution_count": 23,
   "metadata": {},
   "outputs": [
    {
     "name": "stdout",
     "output_type": "stream",
     "text": [
      "(9741, 2)\n"
     ]
    },
    {
     "data": {
      "text/html": [
       "<div>\n",
       "<style scoped>\n",
       "    .dataframe tbody tr th:only-of-type {\n",
       "        vertical-align: middle;\n",
       "    }\n",
       "\n",
       "    .dataframe tbody tr th {\n",
       "        vertical-align: top;\n",
       "    }\n",
       "\n",
       "    .dataframe thead th {\n",
       "        text-align: right;\n",
       "    }\n",
       "</style>\n",
       "<table border=\"1\" class=\"dataframe\">\n",
       "  <thead>\n",
       "    <tr style=\"text-align: right;\">\n",
       "      <th></th>\n",
       "      <th>source</th>\n",
       "      <th>target</th>\n",
       "    </tr>\n",
       "  </thead>\n",
       "  <tbody>\n",
       "    <tr>\n",
       "      <th>0</th>\n",
       "      <td>— 290 — съ нАкакъвъ болезнена. блАсъкъ. Тя пог...</td>\n",
       "      <td>@@@@@@@ съ нѣкакъвъ болѣзнен@ъ блѣсъкъ. Тя пог...</td>\n",
       "    </tr>\n",
       "    <tr>\n",
       "      <th>1</th>\n",
       "      <td>290 — съ нАкакъвъ болезнена. блАсъкъ. Тя погл...</td>\n",
       "      <td>@@@@@@ съ нѣкакъвъ болѣзнен@ъ блѣсъкъ. Тя погл...</td>\n",
       "    </tr>\n",
       "    <tr>\n",
       "      <th>2</th>\n",
       "      <td>290 — съ нАкакъвъ болезнена. блАсъкъ. Тя погле...</td>\n",
       "      <td>@@@@@ съ нѣкакъвъ болѣзнен@ъ блѣсъкъ. Тя погле...</td>\n",
       "    </tr>\n",
       "    <tr>\n",
       "      <th>3</th>\n",
       "      <td>90 — съ нАкакъвъ болезнена. блАсъкъ. Тя поглед...</td>\n",
       "      <td>@@@@ съ нѣкакъвъ болѣзнен@ъ блѣсъкъ. Тя поглед...</td>\n",
       "    </tr>\n",
       "    <tr>\n",
       "      <th>4</th>\n",
       "      <td>0 — съ нАкакъвъ болезнена. блАсъкъ. Тя погледн...</td>\n",
       "      <td>@@@ съ нѣкакъвъ болѣзнен@ъ блѣсъкъ. Тя погледн...</td>\n",
       "    </tr>\n",
       "  </tbody>\n",
       "</table>\n",
       "</div>"
      ],
      "text/plain": [
       "                                              source  \\\n",
       "0  — 290 — съ нАкакъвъ болезнена. блАсъкъ. Тя пог...   \n",
       "1   290 — съ нАкакъвъ болезнена. блАсъкъ. Тя погл...   \n",
       "2  290 — съ нАкакъвъ болезнена. блАсъкъ. Тя погле...   \n",
       "3  90 — съ нАкакъвъ болезнена. блАсъкъ. Тя поглед...   \n",
       "4  0 — съ нАкакъвъ болезнена. блАсъкъ. Тя погледн...   \n",
       "\n",
       "                                              target  \n",
       "0  @@@@@@@ съ нѣкакъвъ болѣзнен@ъ блѣсъкъ. Тя пог...  \n",
       "1  @@@@@@ съ нѣкакъвъ болѣзнен@ъ блѣсъкъ. Тя погл...  \n",
       "2  @@@@@ съ нѣкакъвъ болѣзнен@ъ блѣсъкъ. Тя погле...  \n",
       "3  @@@@ съ нѣкакъвъ болѣзнен@ъ блѣсъкъ. Тя поглед...  \n",
       "4  @@@ съ нѣкакъвъ болѣзнен@ъ блѣсъкъ. Тя погледн...  "
      ]
     },
     "execution_count": 23,
     "metadata": {},
     "output_type": "execute_result"
    }
   ],
   "source": [
    "dev_aligned = dev.apply(lambda r: create_windows((r[\"ocr_aligned\"], r[\"gs_aligned\"], window_length)), \n",
    "                            axis = 1).sum()\n",
    "dev_aligned = pd.DataFrame(dev_aligned, columns = [\"source\", \"target\"])\n",
    "print(dev_aligned.shape)\n",
    "dev_aligned.head()"
   ]
  },
  {
   "cell_type": "code",
   "execution_count": 24,
   "metadata": {},
   "outputs": [
    {
     "data": {
      "text/html": [
       "<div>\n",
       "<style scoped>\n",
       "    .dataframe tbody tr th:only-of-type {\n",
       "        vertical-align: middle;\n",
       "    }\n",
       "\n",
       "    .dataframe tbody tr th {\n",
       "        vertical-align: top;\n",
       "    }\n",
       "\n",
       "    .dataframe thead th {\n",
       "        text-align: right;\n",
       "    }\n",
       "</style>\n",
       "<table border=\"1\" class=\"dataframe\">\n",
       "  <thead>\n",
       "    <tr style=\"text-align: right;\">\n",
       "      <th></th>\n",
       "      <th>source</th>\n",
       "      <th>target</th>\n",
       "    </tr>\n",
       "  </thead>\n",
       "  <tbody>\n",
       "    <tr>\n",
       "      <th>0</th>\n",
       "      <td>— 290 — съ нАкакъвъ болезнена. блАсъкъ. Тя пог...</td>\n",
       "      <td>@@@@@@@ съ нѣкакъвъ болѣзнен@ъ блѣсъкъ. Тя пог...</td>\n",
       "    </tr>\n",
       "    <tr>\n",
       "      <th>1</th>\n",
       "      <td>290 — съ нАкакъвъ болезнена. блАсъкъ. Тя погл...</td>\n",
       "      <td>@@@@@@ съ нѣкакъвъ болѣзнен@ъ блѣсъкъ. Тя погл...</td>\n",
       "    </tr>\n",
       "    <tr>\n",
       "      <th>2</th>\n",
       "      <td>290 — съ нАкакъвъ болезнена. блАсъкъ. Тя погле...</td>\n",
       "      <td>@@@@@ съ нѣкакъвъ болѣзнен@ъ блѣсъкъ. Тя погле...</td>\n",
       "    </tr>\n",
       "    <tr>\n",
       "      <th>3</th>\n",
       "      <td>90 — съ нАкакъвъ болезнена. блАсъкъ. Тя поглед...</td>\n",
       "      <td>@@@@ съ нѣкакъвъ болѣзнен@ъ блѣсъкъ. Тя поглед...</td>\n",
       "    </tr>\n",
       "    <tr>\n",
       "      <th>4</th>\n",
       "      <td>0 — съ нАкакъвъ болезнена. блАсъкъ. Тя погледн...</td>\n",
       "      <td>@@@ съ нѣкакъвъ болѣзнен@ъ блѣсъкъ. Тя погледн...</td>\n",
       "    </tr>\n",
       "  </tbody>\n",
       "</table>\n",
       "</div>"
      ],
      "text/plain": [
       "                                              source  \\\n",
       "0  — 290 — съ нАкакъвъ болезнена. блАсъкъ. Тя пог...   \n",
       "1   290 — съ нАкакъвъ болезнена. блАсъкъ. Тя погл...   \n",
       "2  290 — съ нАкакъвъ болезнена. блАсъкъ. Тя погле...   \n",
       "3  90 — съ нАкакъвъ болезнена. блАсъкъ. Тя поглед...   \n",
       "4  0 — съ нАкакъвъ болезнена. блАсъкъ. Тя погледн...   \n",
       "\n",
       "                                              target  \n",
       "0  @@@@@@@ съ нѣкакъвъ болѣзнен@ъ блѣсъкъ. Тя пог...  \n",
       "1  @@@@@@ съ нѣкакъвъ болѣзнен@ъ блѣсъкъ. Тя погл...  \n",
       "2  @@@@@ съ нѣкакъвъ болѣзнен@ъ блѣсъкъ. Тя погле...  \n",
       "3  @@@@ съ нѣкакъвъ болѣзнен@ъ блѣсъкъ. Тя поглед...  \n",
       "4  @@@ съ нѣкакъвъ болѣзнен@ъ блѣсъкъ. Тя погледн...  "
      ]
     },
     "execution_count": 24,
     "metadata": {},
     "output_type": "execute_result"
    }
   ],
   "source": [
    "dev_aligned = dev_aligned.assign(source = lambda df: df.source.str.replace(\"@\", \"\"))\n",
    "dev_aligned.head()"
   ]
  },
  {
   "cell_type": "code",
   "execution_count": 25,
   "metadata": {},
   "outputs": [],
   "source": [
    "train_aligned.to_pickle(output_folder/\"data/train_aligned.pkl\")\n",
    "dev_aligned.to_pickle(output_folder/\"data/dev_aligned.pkl\")"
   ]
  },
  {
   "cell_type": "code",
   "execution_count": null,
   "metadata": {},
   "outputs": [],
   "source": []
  }
 ],
 "metadata": {
  "kernelspec": {
   "display_name": "Python 3",
   "language": "python",
   "name": "python3"
  },
  "language_info": {
   "codemirror_mode": {
    "name": "ipython",
    "version": 3
   },
   "file_extension": ".py",
   "mimetype": "text/x-python",
   "name": "python",
   "nbconvert_exporter": "python",
   "pygments_lexer": "ipython3",
   "version": "3.8.8"
  },
  "toc": {
   "base_numbering": 1,
   "nav_menu": {},
   "number_sections": true,
   "sideBar": true,
   "skip_h1_title": false,
   "title_cell": "Table of Contents",
   "title_sidebar": "Contents",
   "toc_cell": false,
   "toc_position": {},
   "toc_section_display": true,
   "toc_window_display": false
  }
 },
 "nbformat": 4,
 "nbformat_minor": 4
}
