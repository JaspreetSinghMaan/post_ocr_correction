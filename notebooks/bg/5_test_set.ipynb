{
 "cells": [
  {
   "cell_type": "code",
   "execution_count": 3,
   "metadata": {},
   "outputs": [],
   "source": [
    "import os\n",
    "from tqdm.notebook import tqdm\n",
    "from pathlib import Path\n",
    "import pandas as pd\n",
    "from nltk.lm import Vocabulary\n",
    "import pickle\n",
    "import sys\n",
    "import torch\n",
    "import importlib\n",
    "from timeit import default_timer as t\n",
    "sys.path.append(\"../../lib\")\n",
    "from metrics import levenshtein\n",
    "import ocr_correction\n",
    "from pytorch_decoding import seq2seq"
   ]
  },
  {
   "cell_type": "code",
   "execution_count": 4,
   "metadata": {},
   "outputs": [],
   "source": [
    "folder = \"../../data/ICDAR2019_POCR_competition_dataset/ICDAR2019_POCR_competition_evaluation_4M_without_Finnish/BG/\""
   ]
  },
  {
   "cell_type": "code",
   "execution_count": 5,
   "metadata": {},
   "outputs": [
    {
     "data": {
      "text/plain": [
       "1"
      ]
     },
     "execution_count": 5,
     "metadata": {},
     "output_type": "execute_result"
    }
   ],
   "source": [
    "files = sorted(os.listdir(folder))\n",
    "len(files)"
   ]
  },
  {
   "cell_type": "code",
   "execution_count": 6,
   "metadata": {},
   "outputs": [
    {
     "data": {
      "text/plain": [
       "49"
      ]
     },
     "execution_count": 6,
     "metadata": {},
     "output_type": "execute_result"
    }
   ],
   "source": [
    "import glob\n",
    "\n",
    "files = glob.glob(folder + '/**/*.txt', recursive=True)\n",
    "len(files)"
   ]
  },
  {
   "cell_type": "code",
   "execution_count": 7,
   "metadata": {},
   "outputs": [
    {
     "data": {
      "application/vnd.jupyter.widget-view+json": {
       "model_id": "92c7caf754c0471db8f4cfacd9f32b10",
       "version_major": 2,
       "version_minor": 0
      },
      "text/plain": [
       "  0%|          | 0/49 [00:00<?, ?it/s]"
      ]
     },
     "metadata": {},
     "output_type": "display_data"
    }
   ],
   "source": [
    "data = []\n",
    "for f in tqdm(files):\n",
    "    with open(f) as file:\n",
    "        data.append(file.readlines())"
   ]
  },
  {
   "cell_type": "code",
   "execution_count": 8,
   "metadata": {},
   "outputs": [
    {
     "name": "stdout",
     "output_type": "stream",
     "text": [
      "(49, 3)\n"
     ]
    },
    {
     "data": {
      "text/html": [
       "<div>\n",
       "<style scoped>\n",
       "    .dataframe tbody tr th:only-of-type {\n",
       "        vertical-align: middle;\n",
       "    }\n",
       "\n",
       "    .dataframe tbody tr th {\n",
       "        vertical-align: top;\n",
       "    }\n",
       "\n",
       "    .dataframe thead th {\n",
       "        text-align: right;\n",
       "    }\n",
       "</style>\n",
       "<table border=\"1\" class=\"dataframe\">\n",
       "  <thead>\n",
       "    <tr style=\"text-align: right;\">\n",
       "      <th></th>\n",
       "      <th>ocr_to_input</th>\n",
       "      <th>ocr_aligned</th>\n",
       "      <th>gs_aligned</th>\n",
       "    </tr>\n",
       "  </thead>\n",
       "  <tbody>\n",
       "    <tr>\n",
       "      <th>0</th>\n",
       "      <td>— 253 — тледахж, и азъ ги гледахъ. Прокуроръть...</td>\n",
       "      <td>@— 253 — тледахж, и азъ ги гледахъ. Прокурорът...</td>\n",
       "      <td>25    гледахѫ, и азъ ги гледахъ. Прокурорът...</td>\n",
       "    </tr>\n",
       "    <tr>\n",
       "      <th>1</th>\n",
       "      <td>3 1* противъ тоя новъ св&amp;тъ, който не разбираш...</td>\n",
       "      <td>3 1* противъ тоя новъ св&amp;тъ, който не разбираш...</td>\n",
       "      <td>@ @3 противъ тоя новъ свѣтъ, който не разбираш...</td>\n",
       "    </tr>\n",
       "    <tr>\n",
       "      <th>2</th>\n",
       "      <td>ГОДИНА. КНИЖКА 4 АПРИЛ ИЙ 1890 ДЕННИ1ДА ИЗБОРЪ...</td>\n",
       "      <td>@ГОДИНА. @КНИЖКА 4 АПРИЛ ИЙ 1890 ДЕННИ1ДА ИЗБО...</td>\n",
       "      <td>ГОДИНА. АПРИЛИЙ @1890 КНИЖКА 4. ДЕННИ@ЦА ИЗБО...</td>\n",
       "    </tr>\n",
       "    <tr>\n",
       "      <th>3</th>\n",
       "      <td>Брой 6 и 7. ЖЕНСКИ ГЛАСЪ Стр. 15. двата отнесе...</td>\n",
       "      <td>@Брой 6 и 7. ЖЕНСКИ ГЛАСЪ Стр. 15. двата отнес...</td>\n",
       "      <td>Брой 6 и 7.@@@@@@@@@@@@@ Стр. 15@@@@@@@@@@@@@...</td>\n",
       "    </tr>\n",
       "    <tr>\n",
       "      <th>4</th>\n",
       "      <td>374 МИКЕЛЪ АНДЖЕЛО Италиянски ваятель, архнтек...</td>\n",
       "      <td>374 МИКЕЛЪ АНДЖЕЛО Италиянски ваятель, архнтек...</td>\n",
       "      <td>@@@ МИКЕЛЪ АНДЖЕЛО Италиянски ваятель, архитек...</td>\n",
       "    </tr>\n",
       "  </tbody>\n",
       "</table>\n",
       "</div>"
      ],
      "text/plain": [
       "                                        ocr_to_input  \\\n",
       "0  — 253 — тледахж, и азъ ги гледахъ. Прокуроръть...   \n",
       "1  3 1* противъ тоя новъ св&тъ, който не разбираш...   \n",
       "2  ГОДИНА. КНИЖКА 4 АПРИЛ ИЙ 1890 ДЕННИ1ДА ИЗБОРЪ...   \n",
       "3  Брой 6 и 7. ЖЕНСКИ ГЛАСЪ Стр. 15. двата отнесе...   \n",
       "4  374 МИКЕЛЪ АНДЖЕЛО Италиянски ваятель, архнтек...   \n",
       "\n",
       "                                         ocr_aligned  \\\n",
       "0  @— 253 — тледахж, и азъ ги гледахъ. Прокурорът...   \n",
       "1  3 1* противъ тоя новъ св&тъ, който не разбираш...   \n",
       "2  @ГОДИНА. @КНИЖКА 4 АПРИЛ ИЙ 1890 ДЕННИ1ДА ИЗБО...   \n",
       "3  @Брой 6 и 7. ЖЕНСКИ ГЛАСЪ Стр. 15. двата отнес...   \n",
       "4  374 МИКЕЛЪ АНДЖЕЛО Италиянски ваятель, архнтек...   \n",
       "\n",
       "                                          gs_aligned  \n",
       "0     25    гледахѫ, и азъ ги гледахъ. Прокурорът...  \n",
       "1  @ @3 противъ тоя новъ свѣтъ, който не разбираш...  \n",
       "2   ГОДИНА. АПРИЛИЙ @1890 КНИЖКА 4. ДЕННИ@ЦА ИЗБО...  \n",
       "3   Брой 6 и 7.@@@@@@@@@@@@@ Стр. 15@@@@@@@@@@@@@...  \n",
       "4  @@@ МИКЕЛЪ АНДЖЕЛО Италиянски ваятель, архитек...  "
      ]
     },
     "execution_count": 8,
     "metadata": {},
     "output_type": "execute_result"
    }
   ],
   "source": [
    "data = pd.DataFrame(data, \n",
    "                    columns = [\"ocr_to_input\", \n",
    "                               \"ocr_aligned\", \n",
    "                               \"gs_aligned\"])\\\n",
    ".assign(ocr_to_input = lambda df: df.ocr_to_input.str.replace(\"[OCR_toInput] \", \"\", regex = False),\n",
    "        ocr_aligned = lambda df: df.ocr_aligned.str.replace(\"[OCR_aligned] \", \"\", regex = False),\n",
    "        gs_aligned = lambda df: df.gs_aligned.str.replace(\"[ GS_aligned] \", \"\", regex = False))\n",
    "\n",
    "print(data.shape)\n",
    "data.head()"
   ]
  },
  {
   "cell_type": "code",
   "execution_count": 9,
   "metadata": {},
   "outputs": [
    {
     "data": {
      "text/html": [
       "<div>\n",
       "<style scoped>\n",
       "    .dataframe tbody tr th:only-of-type {\n",
       "        vertical-align: middle;\n",
       "    }\n",
       "\n",
       "    .dataframe tbody tr th {\n",
       "        vertical-align: top;\n",
       "    }\n",
       "\n",
       "    .dataframe thead th {\n",
       "        text-align: right;\n",
       "    }\n",
       "</style>\n",
       "<table border=\"1\" class=\"dataframe\">\n",
       "  <thead>\n",
       "    <tr style=\"text-align: right;\">\n",
       "      <th></th>\n",
       "      <th>ocr_to_input</th>\n",
       "      <th>ocr_aligned</th>\n",
       "      <th>gs_aligned</th>\n",
       "    </tr>\n",
       "  </thead>\n",
       "  <tbody>\n",
       "    <tr>\n",
       "      <th>count</th>\n",
       "      <td>49.000000</td>\n",
       "      <td>49.000000</td>\n",
       "      <td>49.000000</td>\n",
       "    </tr>\n",
       "    <tr>\n",
       "      <th>mean</th>\n",
       "      <td>3748.142857</td>\n",
       "      <td>3943.551020</td>\n",
       "      <td>3942.551020</td>\n",
       "    </tr>\n",
       "    <tr>\n",
       "      <th>std</th>\n",
       "      <td>2906.799056</td>\n",
       "      <td>3067.430983</td>\n",
       "      <td>3067.430983</td>\n",
       "    </tr>\n",
       "    <tr>\n",
       "      <th>min</th>\n",
       "      <td>803.000000</td>\n",
       "      <td>812.000000</td>\n",
       "      <td>811.000000</td>\n",
       "    </tr>\n",
       "    <tr>\n",
       "      <th>25%</th>\n",
       "      <td>1908.000000</td>\n",
       "      <td>2178.000000</td>\n",
       "      <td>2177.000000</td>\n",
       "    </tr>\n",
       "    <tr>\n",
       "      <th>50%</th>\n",
       "      <td>2922.000000</td>\n",
       "      <td>2935.000000</td>\n",
       "      <td>2934.000000</td>\n",
       "    </tr>\n",
       "    <tr>\n",
       "      <th>75%</th>\n",
       "      <td>4651.000000</td>\n",
       "      <td>4981.000000</td>\n",
       "      <td>4980.000000</td>\n",
       "    </tr>\n",
       "    <tr>\n",
       "      <th>max</th>\n",
       "      <td>13921.000000</td>\n",
       "      <td>14121.000000</td>\n",
       "      <td>14120.000000</td>\n",
       "    </tr>\n",
       "  </tbody>\n",
       "</table>\n",
       "</div>"
      ],
      "text/plain": [
       "       ocr_to_input   ocr_aligned    gs_aligned\n",
       "count     49.000000     49.000000     49.000000\n",
       "mean    3748.142857   3943.551020   3942.551020\n",
       "std     2906.799056   3067.430983   3067.430983\n",
       "min      803.000000    812.000000    811.000000\n",
       "25%     1908.000000   2178.000000   2177.000000\n",
       "50%     2922.000000   2935.000000   2934.000000\n",
       "75%     4651.000000   4981.000000   4980.000000\n",
       "max    13921.000000  14121.000000  14120.000000"
      ]
     },
     "execution_count": 9,
     "metadata": {},
     "output_type": "execute_result"
    }
   ],
   "source": [
    "data.applymap(len).describe()"
   ]
  },
  {
   "cell_type": "code",
   "execution_count": 10,
   "metadata": {},
   "outputs": [
    {
     "name": "stdout",
     "output_type": "stream",
     "text": [
      "193\n"
     ]
    }
   ],
   "source": [
    "vocabulary = Vocabulary(data.ocr_to_input.sum() + data.ocr_aligned.sum() + data.gs_aligned.sum())\n",
    "print(len(vocabulary))"
   ]
  },
  {
   "cell_type": "code",
   "execution_count": 11,
   "metadata": {},
   "outputs": [
    {
     "data": {
      "text/plain": [
       "count    49.000000\n",
       "mean     20.185595\n",
       "std      21.140471\n",
       "min       4.609723\n",
       "25%       6.601283\n",
       "50%       8.697515\n",
       "75%      31.428571\n",
       "max      79.192732\n",
       "Name: cer, dtype: float64"
      ]
     },
     "execution_count": 11,
     "metadata": {},
     "output_type": "execute_result"
    }
   ],
   "source": [
    "distances = levenshtein(reference = data.gs_aligned.str.replace(\"@\", \"\"), \n",
    "                        hypothesis = data.ocr_to_input)\n",
    "distances.cer.describe()"
   ]
  },
  {
   "cell_type": "code",
   "execution_count": 12,
   "metadata": {},
   "outputs": [
    {
     "data": {
      "text/plain": [
       "count    49.000000\n",
       "mean     18.232816\n",
       "std      18.112446\n",
       "min       4.585742\n",
       "25%       6.578947\n",
       "50%       8.608991\n",
       "75%      27.848101\n",
       "max      72.935528\n",
       "Name: cer, dtype: float64"
      ]
     },
     "execution_count": 12,
     "metadata": {},
     "output_type": "execute_result"
    }
   ],
   "source": [
    "distances = levenshtein(reference = data.gs_aligned, \n",
    "                        hypothesis = data.ocr_to_input)\n",
    "distances.cer.describe()"
   ]
  },
  {
   "cell_type": "code",
   "execution_count": 14,
   "metadata": {},
   "outputs": [],
   "source": [
    "data.to_pickle(\"../../data/bg/data/test.pkl\")"
   ]
  },
  {
   "cell_type": "code",
   "execution_count": null,
   "metadata": {},
   "outputs": [],
   "source": []
  }
 ],
 "metadata": {
  "kernelspec": {
   "display_name": "Python 3",
   "language": "python",
   "name": "python3"
  },
  "language_info": {
   "codemirror_mode": {
    "name": "ipython",
    "version": 3
   },
   "file_extension": ".py",
   "mimetype": "text/x-python",
   "name": "python",
   "nbconvert_exporter": "python",
   "pygments_lexer": "ipython3",
   "version": "3.8.8"
  },
  "toc": {
   "base_numbering": 1,
   "nav_menu": {},
   "number_sections": true,
   "sideBar": true,
   "skip_h1_title": false,
   "title_cell": "Table of Contents",
   "title_sidebar": "Contents",
   "toc_cell": false,
   "toc_position": {},
   "toc_section_display": true,
   "toc_window_display": false
  }
 },
 "nbformat": 4,
 "nbformat_minor": 4
}
