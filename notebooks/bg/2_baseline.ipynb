{
 "cells": [
  {
   "cell_type": "code",
   "execution_count": 1,
   "metadata": {},
   "outputs": [],
   "source": [
    "import torch\n",
    "import torch.utils.data as tud\n",
    "import torch.nn as nn\n",
    "import pickle\n",
    "from tqdm.notebook import tqdm\n",
    "import datetime\n",
    "import matplotlib.pyplot as plt\n",
    "import importlib\n",
    "import sys\n",
    "import pandas as pd"
   ]
  },
  {
   "cell_type": "code",
   "execution_count": 2,
   "metadata": {},
   "outputs": [
    {
     "name": "stdout",
     "output_type": "stream",
     "text": [
      "/home/jarobyte/guemes/icdar/bg\r\n"
     ]
    }
   ],
   "source": [
    "!pwd"
   ]
  },
  {
   "cell_type": "code",
   "execution_count": 3,
   "metadata": {},
   "outputs": [],
   "source": [
    "sys.path.append(\"/home/jarobyte/guemes/lib\")"
   ]
  },
  {
   "cell_type": "code",
   "execution_count": 4,
   "metadata": {},
   "outputs": [],
   "source": [
    "from pytorch_decoding.seq2seq import Transformer"
   ]
  },
  {
   "cell_type": "code",
   "execution_count": 5,
   "metadata": {},
   "outputs": [],
   "source": [
    "scratch = \"/home/jarobyte/scratch/guemes/icdar/bg/\""
   ]
  },
  {
   "cell_type": "code",
   "execution_count": 6,
   "metadata": {},
   "outputs": [
    {
     "data": {
      "text/plain": [
       "device(type='cuda')"
      ]
     },
     "execution_count": 6,
     "metadata": {},
     "output_type": "execute_result"
    }
   ],
   "source": [
    "device = torch.device(\"cuda\" if torch.cuda.is_available() else \"cpu\")\n",
    "device"
   ]
  },
  {
   "cell_type": "code",
   "execution_count": 7,
   "metadata": {},
   "outputs": [],
   "source": [
    "char2i = pickle.load(open(scratch + \"data/char2i.pkl\", \"rb\"))"
   ]
  },
  {
   "cell_type": "code",
   "execution_count": 8,
   "metadata": {},
   "outputs": [],
   "source": [
    "i2char = pickle.load(open(scratch + \"data/i2char.pkl\", \"rb\"))"
   ]
  },
  {
   "cell_type": "markdown",
   "metadata": {},
   "source": [
    "# data"
   ]
  },
  {
   "cell_type": "code",
   "execution_count": 9,
   "metadata": {},
   "outputs": [],
   "source": [
    "# train_size = 1000000\n",
    "\n",
    "# dev_size = 1000000\n",
    "\n",
    "train_size = 1000\n",
    "\n",
    "dev_size = 100"
   ]
  },
  {
   "cell_type": "markdown",
   "metadata": {},
   "source": [
    "## train"
   ]
  },
  {
   "cell_type": "code",
   "execution_count": 10,
   "metadata": {},
   "outputs": [
    {
     "data": {
      "text/plain": [
       "torch.Size([1000, 102])"
      ]
     },
     "execution_count": 10,
     "metadata": {},
     "output_type": "execute_result"
    }
   ],
   "source": [
    "train_source = torch.load(scratch + \"data/train_source.pt\")[:train_size].to(device)\n",
    "train_source.shape"
   ]
  },
  {
   "cell_type": "code",
   "execution_count": 11,
   "metadata": {},
   "outputs": [
    {
     "data": {
      "text/plain": [
       "torch.Size([1000, 102])"
      ]
     },
     "execution_count": 11,
     "metadata": {},
     "output_type": "execute_result"
    }
   ],
   "source": [
    "train_target = torch.load(scratch + \"data/train_target.pt\")[:train_size].to(device)\n",
    "train_target.shape"
   ]
  },
  {
   "cell_type": "code",
   "execution_count": 12,
   "metadata": {},
   "outputs": [
    {
     "data": {
      "text/plain": [
       "torch.Size([100, 102])"
      ]
     },
     "execution_count": 12,
     "metadata": {},
     "output_type": "execute_result"
    }
   ],
   "source": [
    "dev_source = torch.load(scratch + \"data/dev_source.pt\")[:dev_size].to(device)\n",
    "dev_source.shape"
   ]
  },
  {
   "cell_type": "code",
   "execution_count": 13,
   "metadata": {},
   "outputs": [
    {
     "data": {
      "text/plain": [
       "torch.Size([100, 102])"
      ]
     },
     "execution_count": 13,
     "metadata": {},
     "output_type": "execute_result"
    }
   ],
   "source": [
    "dev_target = torch.load(scratch + \"data/dev_target.pt\")[:dev_size].to(device)\n",
    "dev_target.shape"
   ]
  },
  {
   "cell_type": "markdown",
   "metadata": {},
   "source": [
    "# model"
   ]
  },
  {
   "cell_type": "code",
   "execution_count": 14,
   "metadata": {},
   "outputs": [
    {
     "name": "stdout",
     "output_type": "stream",
     "text": [
      "Model: Transformer\n",
      "Tokens in the input vocabulary: 191\n",
      "Tokens in the output vocabulary: 191\n",
      "Max sequence length: 110\n",
      "Embedding dimension: 512\n",
      "Feedforward dimension: 2048\n",
      "Encoder layers: 4\n",
      "Decoder layers: 4\n",
      "Attention heads: 8\n",
      "Activation: relu\n",
      "Dropout: 0.0\n",
      "Trainable parameters: 29,777,599\n",
      "\n"
     ]
    },
    {
     "data": {
      "application/vnd.jupyter.widget-view+json": {
       "model_id": "4f1adcd3fe154f23b71f3b50f8b98cc8",
       "version_major": 2,
       "version_minor": 0
      },
      "text/plain": [
       "  0%|          | 0/1 [00:00<?, ?it/s]"
      ]
     },
     "metadata": {},
     "output_type": "display_data"
    },
    {
     "name": "stdout",
     "output_type": "stream",
     "text": [
      "Training started\n",
      "Epochs: 1\n",
      "Learning rate: 0.0001\n",
      "Weight decay: 0\n",
      "Epoch | Train                 | Development           | Minutes\n",
      "      | Loss     | Error Rate | Loss     | Error Rate |\n",
      "---------------------------------------------------------------\n"
     ]
    },
    {
     "data": {
      "application/vnd.jupyter.widget-view+json": {
       "model_id": "7910c32c168b43d899c08e75f7ad34d0",
       "version_major": 2,
       "version_minor": 0
      },
      "text/plain": [
       "  0%|          | 0/10 [00:00<?, ?it/s]"
      ]
     },
     "metadata": {},
     "output_type": "display_data"
    },
    {
     "name": "stdout",
     "output_type": "stream",
     "text": [
      "    1 |   3.9725 |     86.114 |   3.7072 |     83.297 |     0.0\n"
     ]
    }
   ],
   "source": [
    "model = Transformer(char2i, \n",
    "                    i2char, \n",
    "                    max_sequence_length = 110,\n",
    "                    embedding_dimension = 512,\n",
    "                    feedforward_dimension = 2048,\n",
    "                    attention_heads = 8,\n",
    "                    encoder_layers = 4,\n",
    "                    decoder_layers = 4)\n",
    "model.to(device)\n",
    "\n",
    "log = model.fit(train_source, \n",
    "                train_target, \n",
    "                dev_source, \n",
    "                dev_target, \n",
    "                epochs = 1, \n",
    "                progress_bar = 2, \n",
    "                learning_rate = 10**-4)"
   ]
  },
  {
   "cell_type": "code",
   "execution_count": 15,
   "metadata": {},
   "outputs": [
    {
     "data": {
      "application/vnd.jupyter.widget-view+json": {
       "model_id": "9a59bfd4862444b8b96a7d672220bda4",
       "version_major": 2,
       "version_minor": 0
      },
      "text/plain": [
       "  0%|          | 0/1 [00:00<?, ?it/s]"
      ]
     },
     "metadata": {},
     "output_type": "display_data"
    },
    {
     "data": {
      "application/vnd.jupyter.widget-view+json": {
       "model_id": "cc4682ce0f1940cb8dfb1948ab545ea4",
       "version_major": 2,
       "version_minor": 0
      },
      "text/plain": [
       "  0%|          | 0/101 [00:00<?, ?it/s]"
      ]
     },
     "metadata": {},
     "output_type": "display_data"
    }
   ],
   "source": [
    "idx, probs = model.predict(dev_source)"
   ]
  },
  {
   "cell_type": "code",
   "execution_count": 16,
   "metadata": {},
   "outputs": [
    {
     "data": {
      "text/plain": [
       "['<START>                                                                                                      ',\n",
       " '<START>                                                                                                      ',\n",
       " '<START>                                                                                                      ',\n",
       " '<START>                                                                                                      ',\n",
       " '<START>                                                                                                      ',\n",
       " '<START>                                                                                                      ',\n",
       " '<START>                                                                                                      ',\n",
       " '<START>                                                                                                      ',\n",
       " '<START>                                                                                                      ',\n",
       " '<START>                                                                                                      ',\n",
       " '<START>                                                                                                      ',\n",
       " '<START>                                                                                                      ',\n",
       " '<START>                                                                                                      ',\n",
       " '<START>                                                                                                      ',\n",
       " '<START>                                                                                                      ',\n",
       " '<START>                                                                                                      ',\n",
       " '<START>                                                                                                      ',\n",
       " '<START>                                                                                                      ',\n",
       " '<START>                                                                                                      ',\n",
       " '<START>                                                                                                      ',\n",
       " '<START>                                                                                                      ',\n",
       " '<START>                                                                                                      ',\n",
       " '<START>                                                                                                      ',\n",
       " '<START>                                                                                                      ',\n",
       " '<START>                                                                                                      ',\n",
       " '<START>                                                                                                      ',\n",
       " '<START>                                                                                                      ',\n",
       " '<START>                                                                                                      ',\n",
       " '<START>                                                                                                      ',\n",
       " '<START>                                                                                                      ',\n",
       " '<START>                                                                                                      ',\n",
       " '<START>                                                                                                      ',\n",
       " '<START>                                                                                                      ',\n",
       " '<START>                                                                                                      ',\n",
       " '<START>                                                                                                      ',\n",
       " '<START>                                                                                                      ',\n",
       " '<START>                                                                                                      ',\n",
       " '<START>                                                                                                      ',\n",
       " '<START>                                                                                                      ',\n",
       " '<START>                                                                                                      ',\n",
       " '<START>                                                                                                      ',\n",
       " '<START>                                                                                                      ',\n",
       " '<START>                                                                                                      ',\n",
       " '<START>                                                                                                      ',\n",
       " '<START>                                                                                                      ',\n",
       " '<START>                                                                                                      ',\n",
       " '<START>                                                                                                      ',\n",
       " '<START>                                                                                                      ',\n",
       " '<START>                                                                                                      ',\n",
       " '<START>                                                                                                      ',\n",
       " '<START>                                                                                                      ',\n",
       " '<START>                                                                                                      ',\n",
       " '<START>                                                                                                      ',\n",
       " '<START>                                                                                                      ',\n",
       " '<START>                                                                                                      ',\n",
       " '<START>                                                                                                      ',\n",
       " '<START>                                                                                                      ',\n",
       " '<START>                                                                                                      ',\n",
       " '<START>                                                                                                      ',\n",
       " '<START>                                                                                                      ',\n",
       " '<START>                                                                                                      ',\n",
       " '<START>                                                                                                      ',\n",
       " '<START>                                                                                                      ',\n",
       " '<START>                                                                                                      ',\n",
       " '<START>                                                                                                      ',\n",
       " '<START>                                                                                                      ',\n",
       " '<START>                                                                                                      ',\n",
       " '<START>                                                                                                      ',\n",
       " '<START>                                                                                                      ',\n",
       " '<START>                                                                                                      ',\n",
       " '<START>                                                                                                      ',\n",
       " '<START>                                                                                                      ',\n",
       " '<START>                                                                                                      ',\n",
       " '<START>                                                                                                      ',\n",
       " '<START>                                                                                                      ',\n",
       " '<START>                                                                                                      ',\n",
       " '<START>                                                                                                      ',\n",
       " '<START>                                                                                                      ',\n",
       " '<START>                                                                                                      ',\n",
       " '<START>                                                                                                      ',\n",
       " '<START>                                                                                                      ',\n",
       " '<START>                                                                                                      ',\n",
       " '<START>                                                                                                      ',\n",
       " '<START>                                                                                                      ',\n",
       " '<START>                                                                                                      ',\n",
       " '<START>                                                                                                      ',\n",
       " '<START>                                                                                                      ',\n",
       " '<START>                                                                                                      ',\n",
       " '<START>                                                                                                      ',\n",
       " '<START>                                                                                                      ',\n",
       " '<START>                                                                                                      ',\n",
       " '<START>                                                                                                      ',\n",
       " '<START>                                                                                                      ',\n",
       " '<START>                                                                                                      ',\n",
       " '<START>                                                                                                      ',\n",
       " '<START>                                                                                                      ',\n",
       " '<START>                                                                                                      ',\n",
       " '<START>                                                                                                      ',\n",
       " '<START>                                                                                                      ',\n",
       " '<START>                                                                                                      ']"
      ]
     },
     "execution_count": 16,
     "metadata": {},
     "output_type": "execute_result"
    }
   ],
   "source": [
    "model.tensor2text(idx)"
   ]
  },
  {
   "cell_type": "code",
   "execution_count": 17,
   "metadata": {},
   "outputs": [
    {
     "data": {
      "text/plain": [
       "['<START>   91     Какво ли има  акъ? Когато тичахъ прѣзъ търга, извика ми единъ ковачъ, който току що б@ѣше <END>',\n",
       " '<START>  91     Какво ли има  акъ? Когато тичахъ прѣзъ търга, извика ми единъ ковачъ, който току що б@ѣше п<END>',\n",
       " '<START> 91     Какво ли има  акъ? Когато тичахъ прѣзъ търга, извика ми единъ ковачъ, който току що б@ѣше пр<END>',\n",
       " '<START>91     Какво ли има  акъ? Когато тичахъ прѣзъ търга, извика ми единъ ковачъ, който току що б@ѣше про<END>',\n",
       " '<START>1     Какво ли има  акъ? Когато тичахъ прѣзъ търга, извика ми единъ ковачъ, който току що б@ѣше проч<END>',\n",
       " '<START>     Какво ли има  акъ? Когато тичахъ прѣзъ търга, извика ми единъ ковачъ, който току що б@ѣше проче<END>',\n",
       " '<START>    Какво ли има  акъ? Когато тичахъ прѣзъ търга, извика ми единъ ковачъ, който току що б@ѣше прочел<END>',\n",
       " '<START>   Какво ли има  акъ? Когато тичахъ прѣзъ търга, извика ми единъ ковачъ, който току що б@ѣше прочелъ<END>',\n",
       " '<START>  Какво ли има  акъ? Когато тичахъ прѣзъ търга, извика ми единъ ковачъ, който току що б@ѣше прочелъ <END>',\n",
       " '<START> Какво ли има  акъ? Когато тичахъ прѣзъ търга, извика ми единъ ковачъ, който току що б@ѣше прочелъ о<END>']"
      ]
     },
     "execution_count": 17,
     "metadata": {},
     "output_type": "execute_result"
    }
   ],
   "source": [
    "model.tensor2text(train_target[:10])"
   ]
  },
  {
   "cell_type": "code",
   "execution_count": 18,
   "metadata": {},
   "outputs": [
    {
     "data": {
      "text/plain": [
       "[\"<START>— 91 — Какво ли има пакъ? Когато тичахъ нрФзъ търга, извика ми едииъ ковачъ, който току що б'Ьше <END>\",\n",
       " \"<START>— 91 — Какво ли има пакъ? Когато тичахъ нрФзъ търга, извика ми едииъ ковачъ, който току що б'Ьше н<END>\",\n",
       " \"<START> 91 — Какво ли има пакъ? Когато тичахъ нрФзъ търга, извика ми едииъ ковачъ, който току що б'Ьше нр<END>\",\n",
       " \"<START>91 — Какво ли има пакъ? Когато тичахъ нрФзъ търга, извика ми едииъ ковачъ, който току що б'Ьше нро<END>\",\n",
       " \"<START>1 — Какво ли има пакъ? Когато тичахъ нрФзъ търга, извика ми едииъ ковачъ, който току що б'Ьше нроч<END>\",\n",
       " \"<START> — Какво ли има пакъ? Когато тичахъ нрФзъ търга, извика ми едииъ ковачъ, който току що б'Ьше нроче<END>\",\n",
       " \"<START> — Какво ли има пакъ? Когато тичахъ нрФзъ търга, извика ми едииъ ковачъ, който току що б'Ьше нрочел<END>\",\n",
       " \"<START> — Какво ли има пакъ? Когато тичахъ нрФзъ търга, извика ми едииъ ковачъ, който току що б'Ьше нрочелъ<END>\",\n",
       " \"<START>— Какво ли има пакъ? Когато тичахъ нрФзъ търга, извика ми едииъ ковачъ, който току що б'Ьше нрочелъ <END>\",\n",
       " \"<START> Какво ли има пакъ? Когато тичахъ нрФзъ търга, извика ми едииъ ковачъ, който току що б'Ьше нрочелъ о<END>\"]"
      ]
     },
     "execution_count": 18,
     "metadata": {},
     "output_type": "execute_result"
    }
   ],
   "source": [
    "model.tensor2text(train_source[:10])"
   ]
  },
  {
   "cell_type": "code",
   "execution_count": null,
   "metadata": {},
   "outputs": [],
   "source": []
  }
 ],
 "metadata": {
  "kernelspec": {
   "display_name": "Python 3",
   "language": "python",
   "name": "python3"
  },
  "language_info": {
   "codemirror_mode": {
    "name": "ipython",
    "version": 3
   },
   "file_extension": ".py",
   "mimetype": "text/x-python",
   "name": "python",
   "nbconvert_exporter": "python",
   "pygments_lexer": "ipython3",
   "version": "3.7.4"
  }
 },
 "nbformat": 4,
 "nbformat_minor": 4
}
